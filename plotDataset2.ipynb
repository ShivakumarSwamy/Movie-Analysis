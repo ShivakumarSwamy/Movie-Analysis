{
 "cells": [
  {
   "cell_type": "markdown",
   "metadata": {},
   "source": [
    "<h1> <center> Season Movie Analysis </center> </h1>"
   ]
  },
  {
   "cell_type": "code",
   "execution_count": 1,
   "metadata": {
    "collapsed": true
   },
   "outputs": [],
   "source": [
    "import random\n",
    "import pandas as pd\n",
    "from plotly.graph_objs import *"
   ]
  },
  {
   "cell_type": "markdown",
   "metadata": {},
   "source": [
    "** Using plotly offline mode **"
   ]
  },
  {
   "cell_type": "code",
   "execution_count": 2,
   "metadata": {},
   "outputs": [
    {
     "data": {
      "text/html": [
       "<script>requirejs.config({paths: { 'plotly': ['https://cdn.plot.ly/plotly-latest.min']},});if(!window.Plotly) {{require(['plotly'],function(plotly) {window.Plotly=plotly;});}}</script>"
      ],
      "text/vnd.plotly.v1+html": [
       "<script>requirejs.config({paths: { 'plotly': ['https://cdn.plot.ly/plotly-latest.min']},});if(!window.Plotly) {{require(['plotly'],function(plotly) {window.Plotly=plotly;});}}</script>"
      ]
     },
     "metadata": {},
     "output_type": "display_data"
    }
   ],
   "source": [
    "from plotly.offline import init_notebook_mode, iplot, plot\n",
    "init_notebook_mode(connected=True)"
   ]
  },
  {
   "cell_type": "markdown",
   "metadata": {},
   "source": [
    "** Reading the final dataset **"
   ]
  },
  {
   "cell_type": "code",
   "execution_count": 4,
   "metadata": {},
   "outputs": [
    {
     "data": {
      "text/html": [
       "<div>\n",
       "<style>\n",
       "    .dataframe thead tr:only-child th {\n",
       "        text-align: right;\n",
       "    }\n",
       "\n",
       "    .dataframe thead th {\n",
       "        text-align: left;\n",
       "    }\n",
       "\n",
       "    .dataframe tbody tr th {\n",
       "        vertical-align: top;\n",
       "    }\n",
       "</style>\n",
       "<table border=\"1\" class=\"dataframe\">\n",
       "  <thead>\n",
       "    <tr style=\"text-align: right;\">\n",
       "      <th></th>\n",
       "      <th>TMDB ID</th>\n",
       "      <th>IMDB ID</th>\n",
       "      <th>TITLE</th>\n",
       "      <th>YEAR</th>\n",
       "      <th>GENRE</th>\n",
       "      <th>RATING</th>\n",
       "      <th>RELEASED</th>\n",
       "      <th>ACTORS</th>\n",
       "      <th>AWARDS</th>\n",
       "      <th>COUNTRY</th>\n",
       "      <th>LANGUAGE</th>\n",
       "      <th>BOX OFFICE</th>\n",
       "      <th>ADJ. BOX OFFICE</th>\n",
       "    </tr>\n",
       "  </thead>\n",
       "  <tbody>\n",
       "    <tr>\n",
       "      <th>0</th>\n",
       "      <td>862</td>\n",
       "      <td>tt0114709</td>\n",
       "      <td>Toy Story</td>\n",
       "      <td>1995</td>\n",
       "      <td>Animation, Adventure, Comedy</td>\n",
       "      <td>8.3</td>\n",
       "      <td>22 Nov 1995</td>\n",
       "      <td>Tom Hanks, Tim Allen, Don Rickles, Jim Varney</td>\n",
       "      <td>Nominated for 3 Oscars. Another 23 wins &amp; 18 n...</td>\n",
       "      <td>USA</td>\n",
       "      <td>English</td>\n",
       "      <td>191796233.0</td>\n",
       "      <td>360224189.0</td>\n",
       "    </tr>\n",
       "    <tr>\n",
       "      <th>1</th>\n",
       "      <td>8844</td>\n",
       "      <td>tt0113497</td>\n",
       "      <td>Jumanji</td>\n",
       "      <td>1995</td>\n",
       "      <td>Action, Adventure, Family</td>\n",
       "      <td>6.9</td>\n",
       "      <td>15 Dec 1995</td>\n",
       "      <td>Robin Williams, Jonathan Hyde, Kirsten Dunst, ...</td>\n",
       "      <td>4 wins &amp; 9 nominations.</td>\n",
       "      <td>USA</td>\n",
       "      <td>English, French</td>\n",
       "      <td>100200000.0</td>\n",
       "      <td>188191724.0</td>\n",
       "    </tr>\n",
       "    <tr>\n",
       "      <th>2</th>\n",
       "      <td>15602</td>\n",
       "      <td>tt0113228</td>\n",
       "      <td>Grumpier Old Men</td>\n",
       "      <td>1995</td>\n",
       "      <td>Comedy, Romance</td>\n",
       "      <td>6.6</td>\n",
       "      <td>22 Dec 1995</td>\n",
       "      <td>Walter Matthau, Jack Lemmon, Sophia Loren, Ann...</td>\n",
       "      <td>2 wins &amp; 2 nominations.</td>\n",
       "      <td>USA</td>\n",
       "      <td>English</td>\n",
       "      <td>69870000.0</td>\n",
       "      <td>131227103.0</td>\n",
       "    </tr>\n",
       "  </tbody>\n",
       "</table>\n",
       "</div>"
      ],
      "text/plain": [
       "   TMDB ID    IMDB ID             TITLE  YEAR                         GENRE  \\\n",
       "0      862  tt0114709         Toy Story  1995  Animation, Adventure, Comedy   \n",
       "1     8844  tt0113497           Jumanji  1995     Action, Adventure, Family   \n",
       "2    15602  tt0113228  Grumpier Old Men  1995               Comedy, Romance   \n",
       "\n",
       "   RATING     RELEASED                                             ACTORS  \\\n",
       "0     8.3  22 Nov 1995      Tom Hanks, Tim Allen, Don Rickles, Jim Varney   \n",
       "1     6.9  15 Dec 1995  Robin Williams, Jonathan Hyde, Kirsten Dunst, ...   \n",
       "2     6.6  22 Dec 1995  Walter Matthau, Jack Lemmon, Sophia Loren, Ann...   \n",
       "\n",
       "                                              AWARDS COUNTRY         LANGUAGE  \\\n",
       "0  Nominated for 3 Oscars. Another 23 wins & 18 n...     USA          English   \n",
       "1                            4 wins & 9 nominations.     USA  English, French   \n",
       "2                            2 wins & 2 nominations.     USA          English   \n",
       "\n",
       "    BOX OFFICE  ADJ. BOX OFFICE  \n",
       "0  191796233.0      360224189.0  \n",
       "1  100200000.0      188191724.0  \n",
       "2   69870000.0      131227103.0  "
      ]
     },
     "execution_count": 4,
     "metadata": {},
     "output_type": "execute_result"
    }
   ],
   "source": [
    "dataset = pd.read_csv('finalDataset.csv')\n",
    "\n",
    "dataset.head(3)"
   ]
  },
  {
   "cell_type": "markdown",
   "metadata": {},
   "source": [
    "** List of Seasons [Spring, Summer, Fall(Autum), Winter] with corresponding months **"
   ]
  },
  {
   "cell_type": "code",
   "execution_count": 5,
   "metadata": {
    "collapsed": true
   },
   "outputs": [],
   "source": [
    "monthList = ['Mar|Apr|May', 'Jun|Jul|Aug', 'Sep|Oct|Nov', 'Dec|Jan|Feb']"
   ]
  },
  {
   "cell_type": "markdown",
   "metadata": {},
   "source": [
    "**List with **\n",
    "* **First Index - Season Names**\n",
    "* **Second Index - Mean of Adj. Box Office of each season**\n",
    "* **Third Index - Movie Count for each season**\n",
    "* **Fourth Index - Mean rating for each season**"
   ]
  },
  {
   "cell_type": "code",
   "execution_count": 6,
   "metadata": {
    "collapsed": true
   },
   "outputs": [],
   "source": [
    "finalList = [['Spring', 'Summer', 'Fall(Autumn)', 'Winter'] ,\\\n",
    "             [int(dataset[dataset.RELEASED.str.contains(seasonMonths, na = False)]['ADJ. BOX OFFICE'].mean()) \\\n",
    "                 for seasonMonths in monthList] , \\\n",
    "             [len(dataset[dataset.RELEASED.str.contains(seasonMonths, na = False)]) \\\n",
    "                  for seasonMonths in monthList] , \\\n",
    "             [round(dataset[dataset.RELEASED.str.contains(seasonMonths, na = False)]['RATING'].mean(), 2) \\\n",
    "              for seasonMonths in monthList]]"
   ]
  },
  {
   "cell_type": "markdown",
   "metadata": {},
   "source": [
    "** Function that return dicitonary data to plot the data point **"
   ]
  },
  {
   "cell_type": "code",
   "execution_count": 7,
   "metadata": {
    "collapsed": true
   },
   "outputs": [],
   "source": [
    "def data_(boxoffice, rating, movieCount, name):\n",
    "    \n",
    "    return {\n",
    "        'x' : [boxoffice],\n",
    "        'y' : [rating],\n",
    "        'name' : name,\n",
    "        'mode' : 'markers',\n",
    "        'text' : 'Season: ' + name + \\\n",
    "                 '<br>Mean Rating: ' + str(rating) + \\\n",
    "                 '<br>Movie Count: ' + str(movieCount) + \\\n",
    "                 '<br>Mean BoxOffice: ' + str(round(boxoffice/1000000, 2)) + 'M',\n",
    "        'hoverinfo' : 'text',\n",
    "        'marker' : {\n",
    "            'size' : [movieCount],\n",
    "            'sizemode' : 'area',\n",
    "            'line' : {\n",
    "                'width' : 1\n",
    "            }\n",
    "    }\n",
    "}"
   ]
  },
  {
   "cell_type": "markdown",
   "metadata": {},
   "source": [
    "** Adding Data to figure and setting x-axis, y-axis, title, background of layout **"
   ]
  },
  {
   "cell_type": "code",
   "execution_count": 8,
   "metadata": {
    "collapsed": true
   },
   "outputs": [],
   "source": [
    "figure = {\n",
    "    'data': [data_(finalList[1][i], finalList[3][i], finalList[2][i], finalList[0][i]) for i in range(4)],\n",
    "    'layout' : {}\n",
    "}\n",
    "\n",
    "figure['layout']['xaxis'] = {'title' : 'Mean Box Office',\n",
    "                            'titlefont': {\n",
    "                                'size' : 16, 'family' : 'Droid Sans'\n",
    "                            },\n",
    "                            'showline' : True,\n",
    "                            'ticks' : 'outside',\n",
    "                            'tickwidth' : 2,\n",
    "                            'gridcolor' : '#FFFFFF'}\n",
    "\n",
    "figure['layout']['yaxis'] = {'title' : 'Mean Rating', \n",
    "                            'titlefont' : {\n",
    "                                'size' : 16 , 'family' : 'Droid Sans'\n",
    "                            },\n",
    "                            'showline' : True,\n",
    "                            'ticks' : 'outside',\n",
    "                            'tickwidth' : 2,\n",
    "                            'gridcolor' : '#FFFFFF'}\n",
    "\n",
    "figure['layout']['title'] =  'Season Movie Analysis'\n",
    "figure['layout']['titlefont'] = {'size' : 20, 'family' : 'Times New Roman'}\n",
    "figure['layout']['plot_bgcolor'] = 'rgb(223, 232, 243)'"
   ]
  },
  {
   "cell_type": "markdown",
   "metadata": {},
   "source": [
    "### Plotting the figure"
   ]
  },
  {
   "cell_type": "code",
   "execution_count": 9,
   "metadata": {},
   "outputs": [
    {
     "data": {
      "text/plain": [
       "'file:///Users/shivakumarswamybg/Desktop/Project/temp-plot.html'"
      ]
     },
     "execution_count": 9,
     "metadata": {},
     "output_type": "execute_result"
    }
   ],
   "source": [
    "# iplot(figure)\n",
    "plot(figure)"
   ]
  },
  {
   "cell_type": "code",
   "execution_count": null,
   "metadata": {
    "collapsed": true
   },
   "outputs": [],
   "source": []
  }
 ],
 "metadata": {
  "kernelspec": {
   "display_name": "Python 3",
   "language": "python",
   "name": "python3"
  },
  "language_info": {
   "codemirror_mode": {
    "name": "ipython",
    "version": 3
   },
   "file_extension": ".py",
   "mimetype": "text/x-python",
   "name": "python",
   "nbconvert_exporter": "python",
   "pygments_lexer": "ipython3",
   "version": "3.6.1"
  }
 },
 "nbformat": 4,
 "nbformat_minor": 2
}
