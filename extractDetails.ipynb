{
 "cells": [
  {
   "cell_type": "code",
   "execution_count": 1,
   "metadata": {
    "collapsed": true
   },
   "outputs": [],
   "source": [
    "import pandas as pd\n",
    "import csv\n",
    "import requests"
   ]
  },
  {
   "cell_type": "code",
   "execution_count": 2,
   "metadata": {
    "collapsed": true
   },
   "outputs": [],
   "source": [
    "# Reading Movie ID's \n",
    "new_links = pd.read_csv('new_links.csv')"
   ]
  },
  {
   "cell_type": "code",
   "execution_count": 3,
   "metadata": {},
   "outputs": [
    {
     "data": {
      "text/html": [
       "<div>\n",
       "<table border=\"1\" class=\"dataframe\">\n",
       "  <thead>\n",
       "    <tr style=\"text-align: right;\">\n",
       "      <th></th>\n",
       "      <th>IMDB ID</th>\n",
       "      <th>TMDB ID</th>\n",
       "    </tr>\n",
       "  </thead>\n",
       "  <tbody>\n",
       "    <tr>\n",
       "      <th>0</th>\n",
       "      <td>114709</td>\n",
       "      <td>862</td>\n",
       "    </tr>\n",
       "    <tr>\n",
       "      <th>1</th>\n",
       "      <td>113497</td>\n",
       "      <td>8844</td>\n",
       "    </tr>\n",
       "    <tr>\n",
       "      <th>2</th>\n",
       "      <td>113228</td>\n",
       "      <td>15602</td>\n",
       "    </tr>\n",
       "    <tr>\n",
       "      <th>3</th>\n",
       "      <td>114885</td>\n",
       "      <td>31357</td>\n",
       "    </tr>\n",
       "    <tr>\n",
       "      <th>4</th>\n",
       "      <td>113041</td>\n",
       "      <td>11862</td>\n",
       "    </tr>\n",
       "  </tbody>\n",
       "</table>\n",
       "</div>"
      ],
      "text/plain": [
       "   IMDB ID  TMDB ID\n",
       "0   114709      862\n",
       "1   113497     8844\n",
       "2   113228    15602\n",
       "3   114885    31357\n",
       "4   113041    11862"
      ]
     },
     "execution_count": 3,
     "metadata": {},
     "output_type": "execute_result"
    }
   ],
   "source": [
    "new_links.head()"
   ]
  },
  {
   "cell_type": "code",
   "execution_count": 4,
   "metadata": {
    "collapsed": true
   },
   "outputs": [],
   "source": [
    "# Creating a list to store the required details\n",
    "movie_details = [[],[],[],[],[],[],[],[],[],[],[]]"
   ]
  },
  {
   "cell_type": "code",
   "execution_count": 5,
   "metadata": {
    "collapsed": true
   },
   "outputs": [],
   "source": [
    "def extract_details(imdbid,tmdbid):\n",
    "#     Check the length of imdbid and map it to corresponding url\n",
    "    if len(str(imdbid)) == 6:\n",
    "        url = 'http://www.omdbapi.com/?i=tt0' + str(imdbid)\n",
    "    elif len(str(imdbid)) == 5:\n",
    "        url = 'http://www.omdbapi.com/?i=tt00' + str(imdbid)\n",
    "    elif len(str(imdbid)) == 4:\n",
    "        url = 'http://www.omdbapi.com/?i=tt000' + str(imdbid)\n",
    "    elif len(str(imdbid)) == 3:\n",
    "        url = 'http://www.omdbapi.com/?i=tt0000' + str(imdbid)\n",
    "    elif len(str(imdbid)) == 2:\n",
    "        url = 'http://www.omdbapi.com/?i=tt00000' + str(imdbid)\n",
    "    elif len(str(imdbid)) == 1:\n",
    "        url = 'http://www.omdbapi.com/?i=tt000000' + str(imdbid)\n",
    "    else:\n",
    "        url = 'http://www.omdbapi.com/?i=tt' + str(imdbid)\n",
    "        \n",
    "    try:\n",
    "        jsonResponse = requests.get(url)\n",
    "#         check the headers and type \n",
    "        if jsonResponse.headers['content-type'] == 'application/json; charset=utf-8' \\\n",
    "                        and jsonResponse.json()['Type'] == 'movie':\n",
    "                movie_details[0].append(tmdbid)\n",
    "                movie_details[1].append(jsonResponse.json()['imdbID'])\n",
    "                movie_details[2].append(jsonResponse.json()['Title'])\n",
    "                movie_details[3].append(jsonResponse.json()['Year'])\n",
    "                movie_details[4].append(jsonResponse.json()['Genre'])\n",
    "                movie_details[5].append(jsonResponse.json()['imdbRating'])\n",
    "                movie_details[6].append(jsonResponse.json()['Released'])\n",
    "                movie_details[7].append(jsonResponse.json()['Actors'])\n",
    "                movie_details[8].append(jsonResponse.json()['Awards'])\n",
    "                movie_details[9].append(jsonResponse.json()['Country'])\n",
    "                movie_details[10].append(jsonResponse.json()['Language'])\n",
    "    except requests.exceptions.RequestException as e:\n",
    "        print ('Exception: {}'.format(e))\n",
    "#         print (imdbid)\n",
    "    except KeyError:\n",
    "#         print (imdbid)\n",
    "    "
   ]
  },
  {
   "cell_type": "code",
   "execution_count": 6,
   "metadata": {
    "collapsed": true
   },
   "outputs": [],
   "source": [
    "# pass id's to extract details\n",
    "for movie in new_links.values:\n",
    "    extract_details(movie[0],movie[1])"
   ]
  },
  {
   "cell_type": "code",
   "execution_count": 8,
   "metadata": {
    "collapsed": true
   },
   "outputs": [],
   "source": [
    "# Read into csv file\n",
    "with open('movie_without_boxoffice.csv', 'w') as csvfile:\n",
    "    fieldnames = ['TMDB ID', 'IMDB ID', 'TITLE', 'YEAR' , 'GENRE', 'RATING', 'RELEASED', 'ACTORS', 'AWARDS', \\\n",
    "                  'COUNTRY', 'LANGUAGE']\n",
    "    writer = csv.DictWriter(csvfile, fieldnames=fieldnames)\n",
    "    writer.writeheader()\n",
    "    \n",
    "    for i in range(len(movie_details[0])):\n",
    "        writer.writerow({'TMDB ID' : movie_details[0][i], 'IMDB ID': movie_details[1][i], 'TITLE' : movie_details[2][i],\\\n",
    "                       'YEAR' : movie_details[3][i], 'GENRE' : movie_details[4][i], 'RATING':movie_details[5][i], \\\n",
    "                       'RELEASED' : movie_details[6][i], 'ACTORS':movie_details[7][i], 'AWARDS': movie_details[8][i], \\\n",
    "                       'COUNTRY': movie_details[9][i],'LANGUAGE': movie_details[10][i]})"
   ]
  }
 ],
 "metadata": {
  "kernelspec": {
   "display_name": "Python 3",
   "language": "python",
   "name": "python3"
  },
  "language_info": {
   "codemirror_mode": {
    "name": "ipython",
    "version": 3
   },
   "file_extension": ".py",
   "mimetype": "text/x-python",
   "name": "python",
   "nbconvert_exporter": "python",
   "pygments_lexer": "ipython3",
   "version": "3.6.1"
  }
 },
 "nbformat": 4,
 "nbformat_minor": 2
}
