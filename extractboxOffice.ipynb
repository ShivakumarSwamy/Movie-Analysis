{
 "cells": [
  {
   "cell_type": "code",
   "execution_count": 45,
   "metadata": {
    "collapsed": true
   },
   "outputs": [],
   "source": [
    "import pandas as pd\n",
    "import csv\n",
    "from webcrawl import WebCrawl"
   ]
  },
  {
   "cell_type": "code",
   "execution_count": 2,
   "metadata": {
    "collapsed": true
   },
   "outputs": [],
   "source": [
    "# Read movies without Box office\n",
    "movie = pd.read_csv('movie_without_boxoffice.csv')"
   ]
  },
  {
   "cell_type": "code",
   "execution_count": 3,
   "metadata": {},
   "outputs": [
    {
     "data": {
      "text/plain": [
       "10151"
      ]
     },
     "execution_count": 3,
     "metadata": {},
     "output_type": "execute_result"
    }
   ],
   "source": [
    "len(movie[(movie.YEAR >= 1990) & (movie.YEAR <= 2015) & (movie.COUNTRY.str.contains('USA') \\\n",
    "                                                       & (movie.LANGUAGE.str.contains('English')))])"
   ]
  },
  {
   "cell_type": "code",
   "execution_count": 4,
   "metadata": {
    "collapsed": true
   },
   "outputs": [],
   "source": [
    "# filering CSV\n",
    "filteringCSV = movie[(movie.YEAR >= 1990) & (movie.YEAR <= 2015) & (movie.COUNTRY.str.contains('USA') \\\n",
    "                                                       & (movie.LANGUAGE.str.contains('English')))]"
   ]
  },
  {
   "cell_type": "code",
   "execution_count": 5,
   "metadata": {
    "collapsed": true
   },
   "outputs": [],
   "source": [
    "requiredDetails = pd.DataFrame(filteringCSV)"
   ]
  },
  {
   "cell_type": "code",
   "execution_count": 9,
   "metadata": {
    "collapsed": true
   },
   "outputs": [],
   "source": [
    "# To check for mutiple IMDB ID's\n",
    "# requiredDetails['IMDB ID'].value_counts()"
   ]
  },
  {
   "cell_type": "code",
   "execution_count": 16,
   "metadata": {
    "collapsed": true
   },
   "outputs": [],
   "source": [
    "# len(requiredDetails)"
   ]
  },
  {
   "cell_type": "code",
   "execution_count": 10,
   "metadata": {},
   "outputs": [
    {
     "data": {
      "text/html": [
       "<div>\n",
       "<style>\n",
       "    .dataframe thead tr:only-child th {\n",
       "        text-align: right;\n",
       "    }\n",
       "\n",
       "    .dataframe thead th {\n",
       "        text-align: left;\n",
       "    }\n",
       "\n",
       "    .dataframe tbody tr th {\n",
       "        vertical-align: top;\n",
       "    }\n",
       "</style>\n",
       "<table border=\"1\" class=\"dataframe\">\n",
       "  <thead>\n",
       "    <tr style=\"text-align: right;\">\n",
       "      <th></th>\n",
       "      <th>TMDB ID</th>\n",
       "      <th>IMDB ID</th>\n",
       "      <th>TITLE</th>\n",
       "      <th>YEAR</th>\n",
       "      <th>GENRE</th>\n",
       "      <th>RATING</th>\n",
       "      <th>RELEASED</th>\n",
       "      <th>ACTORS</th>\n",
       "      <th>AWARDS</th>\n",
       "      <th>COUNTRY</th>\n",
       "      <th>LANGUAGE</th>\n",
       "    </tr>\n",
       "  </thead>\n",
       "  <tbody>\n",
       "    <tr>\n",
       "      <th>21296</th>\n",
       "      <td>0</td>\n",
       "      <td>tt2279864</td>\n",
       "      <td>Clear History</td>\n",
       "      <td>2013</td>\n",
       "      <td>Comedy</td>\n",
       "      <td>6.5</td>\n",
       "      <td>10 Aug 2013</td>\n",
       "      <td>Larry David, Bill Hader, Philip Baker Hall, Jo...</td>\n",
       "      <td>NaN</td>\n",
       "      <td>USA</td>\n",
       "      <td>English</td>\n",
       "    </tr>\n",
       "    <tr>\n",
       "      <th>25630</th>\n",
       "      <td>133790</td>\n",
       "      <td>tt2279864</td>\n",
       "      <td>Clear History</td>\n",
       "      <td>2013</td>\n",
       "      <td>Comedy</td>\n",
       "      <td>6.5</td>\n",
       "      <td>10 Aug 2013</td>\n",
       "      <td>Larry David, Bill Hader, Philip Baker Hall, Jo...</td>\n",
       "      <td>NaN</td>\n",
       "      <td>USA</td>\n",
       "      <td>English</td>\n",
       "    </tr>\n",
       "  </tbody>\n",
       "</table>\n",
       "</div>"
      ],
      "text/plain": [
       "       TMDB ID    IMDB ID          TITLE  YEAR   GENRE  RATING     RELEASED  \\\n",
       "21296        0  tt2279864  Clear History  2013  Comedy     6.5  10 Aug 2013   \n",
       "25630   133790  tt2279864  Clear History  2013  Comedy     6.5  10 Aug 2013   \n",
       "\n",
       "                                                  ACTORS AWARDS COUNTRY  \\\n",
       "21296  Larry David, Bill Hader, Philip Baker Hall, Jo...    NaN     USA   \n",
       "25630  Larry David, Bill Hader, Philip Baker Hall, Jo...    NaN     USA   \n",
       "\n",
       "      LANGUAGE  \n",
       "21296  English  \n",
       "25630  English  "
      ]
     },
     "execution_count": 10,
     "metadata": {},
     "output_type": "execute_result"
    }
   ],
   "source": [
    "# One IMDB ID multiple entry found 'tt2279864'\n",
    "requiredDetails[requiredDetails['IMDB ID'] == 'tt2279864']"
   ]
  },
  {
   "cell_type": "code",
   "execution_count": 12,
   "metadata": {
    "collapsed": true
   },
   "outputs": [],
   "source": [
    "# Getting the correct row of IMDB ID 'tt2279864'\n",
    "idtt2279864 = requiredDetails.loc[25630]"
   ]
  },
  {
   "cell_type": "code",
   "execution_count": 13,
   "metadata": {
    "collapsed": true
   },
   "outputs": [],
   "source": [
    "# Dataframe without IMDB ID 'tt2279864'\n",
    "without_tt2279864 = requiredDetails[requiredDetails['IMDB ID'] != 'tt2279864']"
   ]
  },
  {
   "cell_type": "code",
   "execution_count": 25,
   "metadata": {},
   "outputs": [
    {
     "data": {
      "text/plain": [
       "10149"
      ]
     },
     "execution_count": 25,
     "metadata": {},
     "output_type": "execute_result"
    }
   ],
   "source": [
    "len(without_tt2279864)"
   ]
  },
  {
   "cell_type": "code",
   "execution_count": 35,
   "metadata": {
    "collapsed": true
   },
   "outputs": [],
   "source": [
    "# Appending the single entry of IMDB ID 'tt2279864' to Dataframe without IMDB ID 'tt2279864'\n",
    "finalWithoutBoxoffice = without_tt2279864.append(idtt2279864, ignore_index=True)"
   ]
  },
  {
   "cell_type": "code",
   "execution_count": 37,
   "metadata": {},
   "outputs": [
    {
     "data": {
      "text/plain": [
       "10150"
      ]
     },
     "execution_count": 37,
     "metadata": {},
     "output_type": "execute_result"
    }
   ],
   "source": [
    "# len(finalWithoutBoxoffice)"
   ]
  },
  {
   "cell_type": "code",
   "execution_count": 39,
   "metadata": {
    "collapsed": true
   },
   "outputs": [],
   "source": [
    "# No multiple entries of IMDB ID found\n",
    "# finalWithoutBoxoffice['IMDB ID'].value_counts()"
   ]
  },
  {
   "cell_type": "code",
   "execution_count": 40,
   "metadata": {
    "collapsed": true
   },
   "outputs": [],
   "source": [
    "# Converting Dataframe to csv\n",
    "finalWithoutBoxoffice.to_csv('finalWithoutBoxoffice.csv',index=False)\n"
   ]
  },
  {
   "cell_type": "code",
   "execution_count": 41,
   "metadata": {
    "collapsed": true
   },
   "outputs": [],
   "source": [
    "# Reading correct csv without multilple entrie of IDMDB ID\n",
    "movie = pd.read_csv('finalWithoutBoxoffice.csv') "
   ]
  },
  {
   "cell_type": "code",
   "execution_count": 43,
   "metadata": {
    "collapsed": true
   },
   "outputs": [],
   "source": [
    "# len(movie)"
   ]
  },
  {
   "cell_type": "code",
   "execution_count": 72,
   "metadata": {
    "collapsed": true
   },
   "outputs": [],
   "source": [
    "# List with index 0 contains IMDB ID and index 1 contains TMDB ID\n",
    "listWithBoxOffice = [[],[]]"
   ]
  },
  {
   "cell_type": "code",
   "execution_count": 73,
   "metadata": {
    "collapsed": true
   },
   "outputs": [],
   "source": [
    "# function to extract Box Office by Web Crawling\n",
    "def extract_boxOffice(tmdbid,imdbid):\n",
    "    # Extract Box office by crawling IMDB page using IMDB ID\n",
    "    boxOffice = WebCrawl().extractBoxOfficeByIMDB(imdbid)\n",
    "    \n",
    "    if boxOffice == 'N/A':\n",
    "        # If 'N/A in box office, crawl TMDB web page by using TMDB ID\n",
    "        boxOffice = WebCrawl().extractBoxOfficeByTMDB(str(tmdbid))\n",
    "    \n",
    "    if boxOffice != 'N/A':    \n",
    "        listWithBoxOffice[0].append(imdbid)\n",
    "        listWithBoxOffice[1].append(boxOffice)\n",
    "    else:\n",
    "        listWithBoxOffice[0].append(imdbid)\n",
    "        # Appending NaN to Box office so the column will have uniform data type (float) \n",
    "        listWithBoxOffice[1].append(float('nan'))"
   ]
  },
  {
   "cell_type": "code",
   "execution_count": 74,
   "metadata": {},
   "outputs": [
    {
     "name": "stdout",
     "output_type": "stream",
     "text": [
      "WARNING......\n",
      "WRONG ID: 0\n",
      "WARNING......\n",
      "WRONG ID: 0\n",
      "WARNING......\n",
      "WRONG ID: 0\n",
      "WARNING......\n",
      "WRONG ID: 0\n",
      "WARNING......\n",
      "WRONG ID: 0\n",
      "WARNING......\n",
      "WRONG ID: 0\n",
      "WARNING......\n",
      "WRONG ID: 0\n",
      "WARNING......\n",
      "WRONG ID: 0\n",
      "WARNING......\n",
      "WRONG ID: 0\n",
      "WARNING......\n",
      "WRONG ID: 0\n"
     ]
    }
   ],
   "source": [
    "# Shortcut: Duplicate this file and then crawl in each file 1000 entries and then merge the values\n",
    "for movieID in movie.values[0:1000]:\n",
    "    # parameters TMDB ID, IMDB ID\n",
    "    extract_boxOffice(movieID[0], movieID[1])"
   ]
  },
  {
   "cell_type": "code",
   "execution_count": 75,
   "metadata": {
    "scrolled": true
   },
   "outputs": [
    {
     "data": {
      "text/plain": [
       "1000"
      ]
     },
     "execution_count": 75,
     "metadata": {},
     "output_type": "execute_result"
    }
   ],
   "source": [
    "len(listWithBoxOffice[0])"
   ]
  },
  {
   "cell_type": "code",
   "execution_count": 76,
   "metadata": {
    "collapsed": true
   },
   "outputs": [],
   "source": [
    "# listWithBoxOffice"
   ]
  },
  {
   "cell_type": "code",
   "execution_count": 77,
   "metadata": {
    "collapsed": true
   },
   "outputs": [],
   "source": [
    "# Creating a csv file with 1000 entries\n",
    "with open('movie_with_boxoffice_1000.csv', 'w') as csvfile:\n",
    "    fieldnames = ['IMDB ID','BOX OFFICE']\n",
    "    writer = csv.DictWriter(csvfile, fieldnames=fieldnames)\n",
    "    \n",
    "    writer.writeheader()\n",
    "    for i in range(len(listWithBoxOffice[0])):\n",
    "        writer.writerow({'IMDB ID': listWithBoxOffice[0][i], 'BOX OFFICE': listWithBoxOffice[1][i]})"
   ]
  },
  {
   "cell_type": "code",
   "execution_count": null,
   "metadata": {
    "collapsed": true
   },
   "outputs": [],
   "source": []
  }
 ],
 "metadata": {
  "kernelspec": {
   "display_name": "Python 3",
   "language": "python",
   "name": "python3"
  },
  "language_info": {
   "codemirror_mode": {
    "name": "ipython",
    "version": 3
   },
   "file_extension": ".py",
   "mimetype": "text/x-python",
   "name": "python",
   "nbconvert_exporter": "python",
   "pygments_lexer": "ipython3",
   "version": "3.6.1"
  }
 },
 "nbformat": 4,
 "nbformat_minor": 2
}
