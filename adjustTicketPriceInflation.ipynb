{
 "cells": [
  {
   "cell_type": "markdown",
   "metadata": {},
   "source": [
    "<h1> <center> Calculate the Box Office using ticket inflation price of corresponding year </center> </h1>"
   ]
  },
  {
   "cell_type": "code",
   "execution_count": 10,
   "metadata": {
    "collapsed": true
   },
   "outputs": [],
   "source": [
    "import pandas as pd\n",
    "import math\n",
    "import csv"
   ]
  },
  {
   "cell_type": "markdown",
   "metadata": {},
   "source": [
    "**\n",
    "Read Ticket Inflation Price by Year\n",
    "**"
   ]
  },
  {
   "cell_type": "code",
   "execution_count": 21,
   "metadata": {},
   "outputs": [
    {
     "data": {
      "text/html": [
       "<div>\n",
       "<style>\n",
       "    .dataframe thead tr:only-child th {\n",
       "        text-align: right;\n",
       "    }\n",
       "\n",
       "    .dataframe thead th {\n",
       "        text-align: left;\n",
       "    }\n",
       "\n",
       "    .dataframe tbody tr th {\n",
       "        vertical-align: top;\n",
       "    }\n",
       "</style>\n",
       "<table border=\"1\" class=\"dataframe\">\n",
       "  <thead>\n",
       "    <tr style=\"text-align: right;\">\n",
       "      <th></th>\n",
       "      <th>YEAR</th>\n",
       "      <th>AVG. PRICE</th>\n",
       "    </tr>\n",
       "  </thead>\n",
       "  <tbody>\n",
       "    <tr>\n",
       "      <th>0</th>\n",
       "      <td>2017</td>\n",
       "      <td>8.84</td>\n",
       "    </tr>\n",
       "    <tr>\n",
       "      <th>1</th>\n",
       "      <td>2016</td>\n",
       "      <td>8.65</td>\n",
       "    </tr>\n",
       "    <tr>\n",
       "      <th>2</th>\n",
       "      <td>2015</td>\n",
       "      <td>8.43</td>\n",
       "    </tr>\n",
       "  </tbody>\n",
       "</table>\n",
       "</div>"
      ],
      "text/plain": [
       "   YEAR  AVG. PRICE\n",
       "0  2017        8.84\n",
       "1  2016        8.65\n",
       "2  2015        8.43"
      ]
     },
     "execution_count": 21,
     "metadata": {},
     "output_type": "execute_result"
    }
   ],
   "source": [
    "ticketPriceByYear = pd.read_csv('ticketPriceInflation.csv')\n",
    "\n",
    "ticketPriceByYear.head(3)"
   ]
  },
  {
   "cell_type": "markdown",
   "metadata": {},
   "source": [
    "**\n",
    "Read dataset with box office\n",
    "**"
   ]
  },
  {
   "cell_type": "code",
   "execution_count": 22,
   "metadata": {},
   "outputs": [
    {
     "data": {
      "text/html": [
       "<div>\n",
       "<style>\n",
       "    .dataframe thead tr:only-child th {\n",
       "        text-align: right;\n",
       "    }\n",
       "\n",
       "    .dataframe thead th {\n",
       "        text-align: left;\n",
       "    }\n",
       "\n",
       "    .dataframe tbody tr th {\n",
       "        vertical-align: top;\n",
       "    }\n",
       "</style>\n",
       "<table border=\"1\" class=\"dataframe\">\n",
       "  <thead>\n",
       "    <tr style=\"text-align: right;\">\n",
       "      <th></th>\n",
       "      <th>TMDB ID</th>\n",
       "      <th>IMDB ID</th>\n",
       "      <th>TITLE</th>\n",
       "      <th>YEAR</th>\n",
       "      <th>GENRE</th>\n",
       "      <th>RATING</th>\n",
       "      <th>RELEASED</th>\n",
       "      <th>ACTORS</th>\n",
       "      <th>AWARDS</th>\n",
       "      <th>COUNTRY</th>\n",
       "      <th>LANGUAGE</th>\n",
       "      <th>BOX OFFICE</th>\n",
       "    </tr>\n",
       "  </thead>\n",
       "  <tbody>\n",
       "    <tr>\n",
       "      <th>0</th>\n",
       "      <td>862</td>\n",
       "      <td>tt0114709</td>\n",
       "      <td>Toy Story</td>\n",
       "      <td>1995</td>\n",
       "      <td>Animation, Adventure, Comedy</td>\n",
       "      <td>8.3</td>\n",
       "      <td>22 Nov 1995</td>\n",
       "      <td>Tom Hanks, Tim Allen, Don Rickles, Jim Varney</td>\n",
       "      <td>Nominated for 3 Oscars. Another 23 wins &amp; 18 n...</td>\n",
       "      <td>USA</td>\n",
       "      <td>English</td>\n",
       "      <td>191796233.0</td>\n",
       "    </tr>\n",
       "    <tr>\n",
       "      <th>1</th>\n",
       "      <td>8844</td>\n",
       "      <td>tt0113497</td>\n",
       "      <td>Jumanji</td>\n",
       "      <td>1995</td>\n",
       "      <td>Action, Adventure, Family</td>\n",
       "      <td>6.9</td>\n",
       "      <td>15 Dec 1995</td>\n",
       "      <td>Robin Williams, Jonathan Hyde, Kirsten Dunst, ...</td>\n",
       "      <td>4 wins &amp; 9 nominations.</td>\n",
       "      <td>USA</td>\n",
       "      <td>English, French</td>\n",
       "      <td>100200000.0</td>\n",
       "    </tr>\n",
       "    <tr>\n",
       "      <th>2</th>\n",
       "      <td>15602</td>\n",
       "      <td>tt0113228</td>\n",
       "      <td>Grumpier Old Men</td>\n",
       "      <td>1995</td>\n",
       "      <td>Comedy, Romance</td>\n",
       "      <td>6.6</td>\n",
       "      <td>22 Dec 1995</td>\n",
       "      <td>Walter Matthau, Jack Lemmon, Sophia Loren, Ann...</td>\n",
       "      <td>2 wins &amp; 2 nominations.</td>\n",
       "      <td>USA</td>\n",
       "      <td>English</td>\n",
       "      <td>69870000.0</td>\n",
       "    </tr>\n",
       "  </tbody>\n",
       "</table>\n",
       "</div>"
      ],
      "text/plain": [
       "   TMDB ID    IMDB ID             TITLE  YEAR                         GENRE  \\\n",
       "0      862  tt0114709         Toy Story  1995  Animation, Adventure, Comedy   \n",
       "1     8844  tt0113497           Jumanji  1995     Action, Adventure, Family   \n",
       "2    15602  tt0113228  Grumpier Old Men  1995               Comedy, Romance   \n",
       "\n",
       "   RATING     RELEASED                                             ACTORS  \\\n",
       "0     8.3  22 Nov 1995      Tom Hanks, Tim Allen, Don Rickles, Jim Varney   \n",
       "1     6.9  15 Dec 1995  Robin Williams, Jonathan Hyde, Kirsten Dunst, ...   \n",
       "2     6.6  22 Dec 1995  Walter Matthau, Jack Lemmon, Sophia Loren, Ann...   \n",
       "\n",
       "                                              AWARDS COUNTRY         LANGUAGE  \\\n",
       "0  Nominated for 3 Oscars. Another 23 wins & 18 n...     USA          English   \n",
       "1                            4 wins & 9 nominations.     USA  English, French   \n",
       "2                            2 wins & 2 nominations.     USA          English   \n",
       "\n",
       "    BOX OFFICE  \n",
       "0  191796233.0  \n",
       "1  100200000.0  \n",
       "2   69870000.0  "
      ]
     },
     "execution_count": 22,
     "metadata": {},
     "output_type": "execute_result"
    }
   ],
   "source": [
    "movie = pd.read_csv('datasetWithBoxoffice.csv')\n",
    "\n",
    "movie.head(3)"
   ]
  },
  {
   "cell_type": "markdown",
   "metadata": {},
   "source": [
    "**\n",
    "Getting 2014 Ticket price  \n",
    "**"
   ]
  },
  {
   "cell_type": "code",
   "execution_count": 14,
   "metadata": {
    "collapsed": true
   },
   "outputs": [],
   "source": [
    "ticketPrice2014 = ticketPriceByYear[ticketPriceByYear['YEAR'] == 2014]['AVG. PRICE'].values[0] "
   ]
  },
  {
   "cell_type": "markdown",
   "metadata": {},
   "source": [
    "**\n",
    "Function to calculate Adjusted Box Office \n",
    "**"
   ]
  },
  {
   "cell_type": "code",
   "execution_count": 15,
   "metadata": {
    "collapsed": true
   },
   "outputs": [],
   "source": [
    "def calculateAdjustedBoxOffice(year,boxOffice):\n",
    "    \n",
    "    if year == 2014 or math.isnan(boxOffice):\n",
    "        return boxOffice\n",
    "    \n",
    "    else:\n",
    "        ticketPrice = ticketPriceByYear[ticketPriceByYear['YEAR'] == year]['AVG. PRICE'].values[0] \n",
    "        estimateTicket = (boxOffice/ticketPrice)\n",
    "        return math.floor(estimateTicket * ticketPrice2014)"
   ]
  },
  {
   "cell_type": "markdown",
   "metadata": {},
   "source": [
    "**List with**\n",
    "* **First Index - IMDB ID**\n",
    "* **Second Index - Adjusted Box Office**"
   ]
  },
  {
   "cell_type": "code",
   "execution_count": 16,
   "metadata": {
    "collapsed": true
   },
   "outputs": [],
   "source": [
    "listAdjustTicketPriceInflation = [[imdbID for imdbID in movie['IMDB ID']], \\\n",
    "                                  [calculateAdjustedBoxOffice(i[3], i[11])for i in movie.values]]"
   ]
  },
  {
   "cell_type": "markdown",
   "metadata": {},
   "source": [
    "**Create a csv file**"
   ]
  },
  {
   "cell_type": "code",
   "execution_count": 17,
   "metadata": {
    "collapsed": true
   },
   "outputs": [],
   "source": [
    "with open('adjustedBoxOffice.csv','w') as csvfile:\n",
    "    fieldnames = ['IMDB ID','ADJ. BOX OFFICE']\n",
    "    writer = csv.DictWriter(csvfile, fieldnames=fieldnames)\n",
    "    \n",
    "    writer.writeheader()\n",
    "    for i in range(len(listAdjustTicketPriceInflation[0])):\n",
    "        writer.writerow({'IMDB ID': listAdjustTicketPriceInflation[0][i], 'ADJ. BOX OFFICE': listAdjustTicketPriceInflation[1][i]})"
   ]
  },
  {
   "cell_type": "code",
   "execution_count": 18,
   "metadata": {},
   "outputs": [
    {
     "data": {
      "text/html": [
       "<div>\n",
       "<style>\n",
       "    .dataframe thead tr:only-child th {\n",
       "        text-align: right;\n",
       "    }\n",
       "\n",
       "    .dataframe thead th {\n",
       "        text-align: left;\n",
       "    }\n",
       "\n",
       "    .dataframe tbody tr th {\n",
       "        vertical-align: top;\n",
       "    }\n",
       "</style>\n",
       "<table border=\"1\" class=\"dataframe\">\n",
       "  <thead>\n",
       "    <tr style=\"text-align: right;\">\n",
       "      <th></th>\n",
       "      <th>IMDB ID</th>\n",
       "      <th>ADJ. BOX OFFICE</th>\n",
       "    </tr>\n",
       "  </thead>\n",
       "  <tbody>\n",
       "    <tr>\n",
       "      <th>0</th>\n",
       "      <td>tt0114709</td>\n",
       "      <td>360224189.0</td>\n",
       "    </tr>\n",
       "    <tr>\n",
       "      <th>1</th>\n",
       "      <td>tt0113497</td>\n",
       "      <td>188191724.0</td>\n",
       "    </tr>\n",
       "    <tr>\n",
       "      <th>2</th>\n",
       "      <td>tt0113228</td>\n",
       "      <td>131227103.0</td>\n",
       "    </tr>\n",
       "  </tbody>\n",
       "</table>\n",
       "</div>"
      ],
      "text/plain": [
       "     IMDB ID  ADJ. BOX OFFICE\n",
       "0  tt0114709      360224189.0\n",
       "1  tt0113497      188191724.0\n",
       "2  tt0113228      131227103.0"
      ]
     },
     "execution_count": 18,
     "metadata": {},
     "output_type": "execute_result"
    }
   ],
   "source": [
    "adjustedBoxOffice = pd.read_csv('adjustedBoxOffice.csv')\n",
    "\n",
    "adjustedBoxOffice.head(3)"
   ]
  },
  {
   "cell_type": "markdown",
   "metadata": {},
   "source": [
    "**\n",
    "Merging csv using IMDB ID as key\n",
    "**"
   ]
  },
  {
   "cell_type": "code",
   "execution_count": 19,
   "metadata": {},
   "outputs": [
    {
     "data": {
      "text/html": [
       "<div>\n",
       "<style>\n",
       "    .dataframe thead tr:only-child th {\n",
       "        text-align: right;\n",
       "    }\n",
       "\n",
       "    .dataframe thead th {\n",
       "        text-align: left;\n",
       "    }\n",
       "\n",
       "    .dataframe tbody tr th {\n",
       "        vertical-align: top;\n",
       "    }\n",
       "</style>\n",
       "<table border=\"1\" class=\"dataframe\">\n",
       "  <thead>\n",
       "    <tr style=\"text-align: right;\">\n",
       "      <th></th>\n",
       "      <th>TMDB ID</th>\n",
       "      <th>IMDB ID</th>\n",
       "      <th>TITLE</th>\n",
       "      <th>YEAR</th>\n",
       "      <th>GENRE</th>\n",
       "      <th>RATING</th>\n",
       "      <th>RELEASED</th>\n",
       "      <th>ACTORS</th>\n",
       "      <th>AWARDS</th>\n",
       "      <th>COUNTRY</th>\n",
       "      <th>LANGUAGE</th>\n",
       "      <th>BOX OFFICE</th>\n",
       "      <th>ADJ. BOX OFFICE</th>\n",
       "    </tr>\n",
       "  </thead>\n",
       "  <tbody>\n",
       "    <tr>\n",
       "      <th>0</th>\n",
       "      <td>862</td>\n",
       "      <td>tt0114709</td>\n",
       "      <td>Toy Story</td>\n",
       "      <td>1995</td>\n",
       "      <td>Animation, Adventure, Comedy</td>\n",
       "      <td>8.3</td>\n",
       "      <td>22 Nov 1995</td>\n",
       "      <td>Tom Hanks, Tim Allen, Don Rickles, Jim Varney</td>\n",
       "      <td>Nominated for 3 Oscars. Another 23 wins &amp; 18 n...</td>\n",
       "      <td>USA</td>\n",
       "      <td>English</td>\n",
       "      <td>191796233.0</td>\n",
       "      <td>360224189.0</td>\n",
       "    </tr>\n",
       "    <tr>\n",
       "      <th>1</th>\n",
       "      <td>8844</td>\n",
       "      <td>tt0113497</td>\n",
       "      <td>Jumanji</td>\n",
       "      <td>1995</td>\n",
       "      <td>Action, Adventure, Family</td>\n",
       "      <td>6.9</td>\n",
       "      <td>15 Dec 1995</td>\n",
       "      <td>Robin Williams, Jonathan Hyde, Kirsten Dunst, ...</td>\n",
       "      <td>4 wins &amp; 9 nominations.</td>\n",
       "      <td>USA</td>\n",
       "      <td>English, French</td>\n",
       "      <td>100200000.0</td>\n",
       "      <td>188191724.0</td>\n",
       "    </tr>\n",
       "    <tr>\n",
       "      <th>2</th>\n",
       "      <td>15602</td>\n",
       "      <td>tt0113228</td>\n",
       "      <td>Grumpier Old Men</td>\n",
       "      <td>1995</td>\n",
       "      <td>Comedy, Romance</td>\n",
       "      <td>6.6</td>\n",
       "      <td>22 Dec 1995</td>\n",
       "      <td>Walter Matthau, Jack Lemmon, Sophia Loren, Ann...</td>\n",
       "      <td>2 wins &amp; 2 nominations.</td>\n",
       "      <td>USA</td>\n",
       "      <td>English</td>\n",
       "      <td>69870000.0</td>\n",
       "      <td>131227103.0</td>\n",
       "    </tr>\n",
       "  </tbody>\n",
       "</table>\n",
       "</div>"
      ],
      "text/plain": [
       "   TMDB ID    IMDB ID             TITLE  YEAR                         GENRE  \\\n",
       "0      862  tt0114709         Toy Story  1995  Animation, Adventure, Comedy   \n",
       "1     8844  tt0113497           Jumanji  1995     Action, Adventure, Family   \n",
       "2    15602  tt0113228  Grumpier Old Men  1995               Comedy, Romance   \n",
       "\n",
       "   RATING     RELEASED                                             ACTORS  \\\n",
       "0     8.3  22 Nov 1995      Tom Hanks, Tim Allen, Don Rickles, Jim Varney   \n",
       "1     6.9  15 Dec 1995  Robin Williams, Jonathan Hyde, Kirsten Dunst, ...   \n",
       "2     6.6  22 Dec 1995  Walter Matthau, Jack Lemmon, Sophia Loren, Ann...   \n",
       "\n",
       "                                              AWARDS COUNTRY         LANGUAGE  \\\n",
       "0  Nominated for 3 Oscars. Another 23 wins & 18 n...     USA          English   \n",
       "1                            4 wins & 9 nominations.     USA  English, French   \n",
       "2                            2 wins & 2 nominations.     USA          English   \n",
       "\n",
       "    BOX OFFICE  ADJ. BOX OFFICE  \n",
       "0  191796233.0      360224189.0  \n",
       "1  100200000.0      188191724.0  \n",
       "2   69870000.0      131227103.0  "
      ]
     },
     "execution_count": 19,
     "metadata": {},
     "output_type": "execute_result"
    }
   ],
   "source": [
    "result = movie.merge(adjustedBoxOffice, left_on='IMDB ID', right_on='IMDB ID',how='inner')\n",
    "\n",
    "result.head(3)"
   ]
  },
  {
   "cell_type": "markdown",
   "metadata": {},
   "source": [
    "** Converting Dataframe to csv **"
   ]
  },
  {
   "cell_type": "code",
   "execution_count": 20,
   "metadata": {
    "collapsed": true
   },
   "outputs": [],
   "source": [
    "result.to_csv('finalDataset.csv', index=False)"
   ]
  },
  {
   "cell_type": "code",
   "execution_count": null,
   "metadata": {
    "collapsed": true
   },
   "outputs": [],
   "source": []
  }
 ],
 "metadata": {
  "kernelspec": {
   "display_name": "Python 3",
   "language": "python",
   "name": "python3"
  },
  "language_info": {
   "codemirror_mode": {
    "name": "ipython",
    "version": 3
   },
   "file_extension": ".py",
   "mimetype": "text/x-python",
   "name": "python",
   "nbconvert_exporter": "python",
   "pygments_lexer": "ipython3",
   "version": "3.6.1"
  }
 },
 "nbformat": 4,
 "nbformat_minor": 2
}
