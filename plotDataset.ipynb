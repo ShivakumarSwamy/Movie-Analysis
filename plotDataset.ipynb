{
 "cells": [
  {
   "cell_type": "code",
   "execution_count": 456,
   "metadata": {},
   "outputs": [
    {
     "data": {
      "text/html": [
       "<script>requirejs.config({paths: { 'plotly': ['https://cdn.plot.ly/plotly-latest.min']},});if(!window.Plotly) {{require(['plotly'],function(plotly) {window.Plotly=plotly;});}}</script>"
      ],
      "text/vnd.plotly.v1+html": [
       "<script>requirejs.config({paths: { 'plotly': ['https://cdn.plot.ly/plotly-latest.min']},});if(!window.Plotly) {{require(['plotly'],function(plotly) {window.Plotly=plotly;});}}</script>"
      ]
     },
     "metadata": {},
     "output_type": "display_data"
    }
   ],
   "source": [
    "import pandas as pd\n",
    "from plotly.graph_objs import *\n",
    "'''\n",
    "Using plotly offline mode\n",
    "'''\n",
    "from plotly.offline import init_notebook_mode,iplot,plot\n",
    "init_notebook_mode(connected=True)"
   ]
  },
  {
   "cell_type": "code",
   "execution_count": 457,
   "metadata": {
    "collapsed": true
   },
   "outputs": [],
   "source": [
    "'''\n",
    "Reading the Dataset\n",
    "'''\n",
    "dataset = pd.read_csv('finalDataset.csv')"
   ]
  },
  {
   "cell_type": "code",
   "execution_count": 458,
   "metadata": {},
   "outputs": [
    {
     "data": {
      "text/html": [
       "<div>\n",
       "<style>\n",
       "    .dataframe thead tr:only-child th {\n",
       "        text-align: right;\n",
       "    }\n",
       "\n",
       "    .dataframe thead th {\n",
       "        text-align: left;\n",
       "    }\n",
       "\n",
       "    .dataframe tbody tr th {\n",
       "        vertical-align: top;\n",
       "    }\n",
       "</style>\n",
       "<table border=\"1\" class=\"dataframe\">\n",
       "  <thead>\n",
       "    <tr style=\"text-align: right;\">\n",
       "      <th></th>\n",
       "      <th>TMDB ID</th>\n",
       "      <th>IMDB ID</th>\n",
       "      <th>TITLE</th>\n",
       "      <th>YEAR</th>\n",
       "      <th>GENRE</th>\n",
       "      <th>RATING</th>\n",
       "      <th>RELEASED</th>\n",
       "      <th>ACTORS</th>\n",
       "      <th>AWARDS</th>\n",
       "      <th>COUNTRY</th>\n",
       "      <th>LANGUAGE</th>\n",
       "      <th>BOX OFFICE</th>\n",
       "      <th>ADJ. BOX OFFICE</th>\n",
       "    </tr>\n",
       "  </thead>\n",
       "  <tbody>\n",
       "    <tr>\n",
       "      <th>0</th>\n",
       "      <td>862</td>\n",
       "      <td>tt0114709</td>\n",
       "      <td>Toy Story</td>\n",
       "      <td>1995</td>\n",
       "      <td>Animation, Adventure, Comedy</td>\n",
       "      <td>8.3</td>\n",
       "      <td>22 Nov 1995</td>\n",
       "      <td>Tom Hanks, Tim Allen, Don Rickles, Jim Varney</td>\n",
       "      <td>Nominated for 3 Oscars. Another 23 wins &amp; 18 n...</td>\n",
       "      <td>USA</td>\n",
       "      <td>English</td>\n",
       "      <td>191796233.0</td>\n",
       "      <td>360224189.0</td>\n",
       "    </tr>\n",
       "    <tr>\n",
       "      <th>1</th>\n",
       "      <td>8844</td>\n",
       "      <td>tt0113497</td>\n",
       "      <td>Jumanji</td>\n",
       "      <td>1995</td>\n",
       "      <td>Action, Adventure, Family</td>\n",
       "      <td>6.9</td>\n",
       "      <td>15 Dec 1995</td>\n",
       "      <td>Robin Williams, Jonathan Hyde, Kirsten Dunst, ...</td>\n",
       "      <td>4 wins &amp; 9 nominations.</td>\n",
       "      <td>USA</td>\n",
       "      <td>English, French</td>\n",
       "      <td>100200000.0</td>\n",
       "      <td>188191724.0</td>\n",
       "    </tr>\n",
       "    <tr>\n",
       "      <th>2</th>\n",
       "      <td>15602</td>\n",
       "      <td>tt0113228</td>\n",
       "      <td>Grumpier Old Men</td>\n",
       "      <td>1995</td>\n",
       "      <td>Comedy, Romance</td>\n",
       "      <td>6.6</td>\n",
       "      <td>22 Dec 1995</td>\n",
       "      <td>Walter Matthau, Jack Lemmon, Sophia Loren, Ann...</td>\n",
       "      <td>2 wins &amp; 2 nominations.</td>\n",
       "      <td>USA</td>\n",
       "      <td>English</td>\n",
       "      <td>69870000.0</td>\n",
       "      <td>131227103.0</td>\n",
       "    </tr>\n",
       "  </tbody>\n",
       "</table>\n",
       "</div>"
      ],
      "text/plain": [
       "   TMDB ID    IMDB ID             TITLE  YEAR                         GENRE  \\\n",
       "0      862  tt0114709         Toy Story  1995  Animation, Adventure, Comedy   \n",
       "1     8844  tt0113497           Jumanji  1995     Action, Adventure, Family   \n",
       "2    15602  tt0113228  Grumpier Old Men  1995               Comedy, Romance   \n",
       "\n",
       "   RATING     RELEASED                                             ACTORS  \\\n",
       "0     8.3  22 Nov 1995      Tom Hanks, Tim Allen, Don Rickles, Jim Varney   \n",
       "1     6.9  15 Dec 1995  Robin Williams, Jonathan Hyde, Kirsten Dunst, ...   \n",
       "2     6.6  22 Dec 1995  Walter Matthau, Jack Lemmon, Sophia Loren, Ann...   \n",
       "\n",
       "                                              AWARDS COUNTRY         LANGUAGE  \\\n",
       "0  Nominated for 3 Oscars. Another 23 wins & 18 n...     USA          English   \n",
       "1                            4 wins & 9 nominations.     USA  English, French   \n",
       "2                            2 wins & 2 nominations.     USA          English   \n",
       "\n",
       "    BOX OFFICE  ADJ. BOX OFFICE  \n",
       "0  191796233.0      360224189.0  \n",
       "1  100200000.0      188191724.0  \n",
       "2   69870000.0      131227103.0  "
      ]
     },
     "execution_count": 458,
     "metadata": {},
     "output_type": "execute_result"
    }
   ],
   "source": [
    "'''\n",
    "Snapshot of Dataset\n",
    "'''\n",
    "dataset.head(3)"
   ]
  },
  {
   "cell_type": "code",
   "execution_count": 459,
   "metadata": {
    "collapsed": true
   },
   "outputs": [],
   "source": [
    "'''\n",
    "List of Year's\n",
    "'''\n",
    "yearList = [1990, 1995, 2000, 2005, 2010, 2014]\n",
    "\n",
    "'''\n",
    "List of Genres\n",
    "'''\n",
    "genreList = ['Action', 'Adventure', 'Animation', 'Biography', 'Comedy', 'Crime', \\\n",
    " 'Documentary', 'Drama', 'Family', 'Fantasy', 'History', 'Horror', \\\n",
    " 'Musical', 'Mystery' ,'Romance', 'Sci-Fi', 'Sport', 'Thriller', 'War', 'Western']"
   ]
  },
  {
   "cell_type": "code",
   "execution_count": 460,
   "metadata": {
    "collapsed": true
   },
   "outputs": [],
   "source": [
    "'''\n",
    "Function to calcuate mean rating for specific genre and year\n",
    "'''\n",
    "def calculateMeanForSpecificGenreAndYear(genre, year):\n",
    "    return round(dataset[(dataset.GENRE.str.contains(genre, na = False)) & (dataset.YEAR == year)]['RATING'].mean(),2)\n",
    "\n",
    "'''\n",
    "Function to calculate movie count for specific genre year\n",
    "'''\n",
    "def calculateMovieCountForSpecificGenreAndYear(genre, year):\n",
    "    return len(dataset[(dataset.GENRE.str.contains(genre, na = False)) & (dataset.YEAR == year)])\n",
    "\n",
    "'''\n",
    "Function to calculate box office avg for specific genre year\n",
    "'''\n",
    "def calculateBoxOfficeAvgForSpecificGenreAndYear(genre, year):\n",
    "    return int(dataset[(dataset.GENRE.str.contains(genre, na = False)) & (dataset.YEAR == year)]['BOX OFFICE'].mean())\n",
    "\n",
    "'''\n",
    "Funtion to calcuate Avg Mean for each Year\n",
    "'''\n",
    "def calculateAvgMeanForEachYear(year):\n",
    "    return round(dataset[dataset.YEAR == year]['RATING'].mean(),2)"
   ]
  },
  {
   "cell_type": "code",
   "execution_count": 461,
   "metadata": {
    "collapsed": true
   },
   "outputs": [],
   "source": [
    "'''\n",
    "First Index: Mean Rating for each genre\n",
    "Second Index: Movie Count for each gerne\n",
    "Third Index: Box Office Avg. for genre\n",
    "'''\n",
    "list1990 = [[],[],[]]\n",
    "list1995 = [[],[],[]]\n",
    "list2000 = [[],[],[]]\n",
    "list2005 = [[],[],[]]\n",
    "list2010 = [[],[],[]]\n",
    "list2014 = [[],[],[]]"
   ]
  },
  {
   "cell_type": "code",
   "execution_count": 462,
   "metadata": {
    "collapsed": true
   },
   "outputs": [],
   "source": [
    "'''\n",
    "Adding Mean Rating, Movie Count, Mean Box Office to corresponding Year list \n",
    "'''\n",
    "for year in yearList:\n",
    "    for genre in genreList:\n",
    "        if year == 1990:\n",
    "            list1990[0].append(calculateMeanForSpecificGenreAndYear(genre, year))\n",
    "            list1990[1].append(calculateMovieCountForSpecificGenreAndYear(genre, year))\n",
    "            list1990[2].append(calculateBoxOfficeAvgForSpecificGenreAndYear(genre, year))\n",
    "        elif year == 1995:\n",
    "            list1995[0].append(calculateMeanForSpecificGenreAndYear(genre, year))\n",
    "            list1995[1].append(calculateMovieCountForSpecificGenreAndYear(genre, year))\n",
    "            list1995[2].append(calculateBoxOfficeAvgForSpecificGenreAndYear(genre, year))\n",
    "        elif year == 2000:    \n",
    "            list2000[0].append(calculateMeanForSpecificGenreAndYear(genre, year))\n",
    "            list2000[1].append(calculateMovieCountForSpecificGenreAndYear(genre, year))\n",
    "            list2000[2].append(calculateBoxOfficeAvgForSpecificGenreAndYear(genre, year))\n",
    "        elif year == 2005:\n",
    "            list2005[0].append(calculateMeanForSpecificGenreAndYear(genre, year))\n",
    "            list2005[1].append(calculateMovieCountForSpecificGenreAndYear(genre, year))\n",
    "            list2005[2].append(calculateBoxOfficeAvgForSpecificGenreAndYear(genre, year))\n",
    "        elif year == 2010:\n",
    "            list2010[0].append(calculateMeanForSpecificGenreAndYear(genre, year))\n",
    "            list2010[1].append(calculateMovieCountForSpecificGenreAndYear(genre, year))\n",
    "            list2010[2].append(calculateBoxOfficeAvgForSpecificGenreAndYear(genre, year))\n",
    "        else:\n",
    "            list2014[0].append(calculateMeanForSpecificGenreAndYear(genre, year))\n",
    "            list2014[1].append(calculateMovieCountForSpecificGenreAndYear(genre, year))\n",
    "            list2014[2].append(calculateBoxOfficeAvgForSpecificGenreAndYear(genre, year))\n",
    "            "
   ]
  },
  {
   "cell_type": "code",
   "execution_count": 463,
   "metadata": {
    "collapsed": true
   },
   "outputs": [],
   "source": [
    "'''\n",
    "Standard Rating For Each YEAR\n",
    "'''\n",
    "listStandardRating = []"
   ]
  },
  {
   "cell_type": "code",
   "execution_count": 464,
   "metadata": {
    "collapsed": true
   },
   "outputs": [],
   "source": [
    "'''\n",
    "Adding Standard Rating to List  \n",
    "'''\n",
    "for year in yearList:\n",
    "    listStandardRating.append(calculateAvgMeanForEachYear(year))"
   ]
  },
  {
   "cell_type": "code",
   "execution_count": 465,
   "metadata": {
    "collapsed": true
   },
   "outputs": [],
   "source": [
    "'''\n",
    "Creating a dict for Mean Rating, Movie Count, Mean Box Office \n",
    "'''\n",
    "dictMeanByYear = {'1990': list1990[0], '1995': list1995[0], '2000': list2000[0], '2005': list2005[0],\\\n",
    "                  '2010': list2010[0], '2014': list2014[0]}\n",
    "dictMovieCountByYear = {'1990': list1990[1], '1995': list1995[1], '2000': list2000[1], '2005': list2005[1],\\\n",
    "                  '2010': list2010[1], '2014': list2014[1]}\n",
    "dictBoxOfficeByYear = {'1990': list1990[2], '1995': list1995[2], '2000': list2000[2], '2005': list2005[2],\\\n",
    "                  '2010': list2010[2], '2014': list2014[2]}"
   ]
  },
  {
   "cell_type": "code",
   "execution_count": 466,
   "metadata": {
    "collapsed": true
   },
   "outputs": [],
   "source": [
    "'''\n",
    "Dataframe for Mean Rating by Year \n",
    "'''\n",
    "dataframeMeanByYear = pd.DataFrame(dictMeanByYear, index=genreList)"
   ]
  },
  {
   "cell_type": "code",
   "execution_count": 467,
   "metadata": {},
   "outputs": [
    {
     "data": {
      "text/html": [
       "<div>\n",
       "<style>\n",
       "    .dataframe thead tr:only-child th {\n",
       "        text-align: right;\n",
       "    }\n",
       "\n",
       "    .dataframe thead th {\n",
       "        text-align: left;\n",
       "    }\n",
       "\n",
       "    .dataframe tbody tr th {\n",
       "        vertical-align: top;\n",
       "    }\n",
       "</style>\n",
       "<table border=\"1\" class=\"dataframe\">\n",
       "  <thead>\n",
       "    <tr style=\"text-align: right;\">\n",
       "      <th></th>\n",
       "      <th>1990</th>\n",
       "      <th>1995</th>\n",
       "      <th>2000</th>\n",
       "      <th>2005</th>\n",
       "      <th>2010</th>\n",
       "      <th>2014</th>\n",
       "    </tr>\n",
       "  </thead>\n",
       "  <tbody>\n",
       "    <tr>\n",
       "      <th>Action</th>\n",
       "      <td>5.82</td>\n",
       "      <td>5.67</td>\n",
       "      <td>5.62</td>\n",
       "      <td>5.56</td>\n",
       "      <td>5.98</td>\n",
       "      <td>6.07</td>\n",
       "    </tr>\n",
       "    <tr>\n",
       "      <th>Adventure</th>\n",
       "      <td>5.99</td>\n",
       "      <td>6.11</td>\n",
       "      <td>5.84</td>\n",
       "      <td>5.87</td>\n",
       "      <td>6.31</td>\n",
       "      <td>6.35</td>\n",
       "    </tr>\n",
       "    <tr>\n",
       "      <th>Animation</th>\n",
       "      <td>6.47</td>\n",
       "      <td>6.70</td>\n",
       "      <td>6.48</td>\n",
       "      <td>6.52</td>\n",
       "      <td>6.89</td>\n",
       "      <td>6.75</td>\n",
       "    </tr>\n",
       "  </tbody>\n",
       "</table>\n",
       "</div>"
      ],
      "text/plain": [
       "           1990  1995  2000  2005  2010  2014\n",
       "Action     5.82  5.67  5.62  5.56  5.98  6.07\n",
       "Adventure  5.99  6.11  5.84  5.87  6.31  6.35\n",
       "Animation  6.47  6.70  6.48  6.52  6.89  6.75"
      ]
     },
     "execution_count": 467,
     "metadata": {},
     "output_type": "execute_result"
    }
   ],
   "source": [
    "'''\n",
    "Snapshot of DataFrame for Mean Rating by Year\n",
    "'''\n",
    "dataframeMeanByYear.head(3)"
   ]
  },
  {
   "cell_type": "code",
   "execution_count": 468,
   "metadata": {
    "collapsed": true
   },
   "outputs": [],
   "source": [
    "'''\n",
    "Dataframe for Movie Count by year and genre\n",
    "'''\n",
    "dataframeMovieCountByYear = pd.DataFrame(dictMovieCountByYear, index=genreList)"
   ]
  },
  {
   "cell_type": "code",
   "execution_count": 469,
   "metadata": {},
   "outputs": [
    {
     "data": {
      "text/html": [
       "<div>\n",
       "<style>\n",
       "    .dataframe thead tr:only-child th {\n",
       "        text-align: right;\n",
       "    }\n",
       "\n",
       "    .dataframe thead th {\n",
       "        text-align: left;\n",
       "    }\n",
       "\n",
       "    .dataframe tbody tr th {\n",
       "        vertical-align: top;\n",
       "    }\n",
       "</style>\n",
       "<table border=\"1\" class=\"dataframe\">\n",
       "  <thead>\n",
       "    <tr style=\"text-align: right;\">\n",
       "      <th></th>\n",
       "      <th>1990</th>\n",
       "      <th>1995</th>\n",
       "      <th>2000</th>\n",
       "      <th>2005</th>\n",
       "      <th>2010</th>\n",
       "      <th>2014</th>\n",
       "    </tr>\n",
       "  </thead>\n",
       "  <tbody>\n",
       "    <tr>\n",
       "      <th>Action</th>\n",
       "      <td>54</td>\n",
       "      <td>65</td>\n",
       "      <td>57</td>\n",
       "      <td>67</td>\n",
       "      <td>77</td>\n",
       "      <td>77</td>\n",
       "    </tr>\n",
       "    <tr>\n",
       "      <th>Adventure</th>\n",
       "      <td>29</td>\n",
       "      <td>39</td>\n",
       "      <td>42</td>\n",
       "      <td>60</td>\n",
       "      <td>58</td>\n",
       "      <td>59</td>\n",
       "    </tr>\n",
       "    <tr>\n",
       "      <th>Animation</th>\n",
       "      <td>7</td>\n",
       "      <td>8</td>\n",
       "      <td>19</td>\n",
       "      <td>18</td>\n",
       "      <td>28</td>\n",
       "      <td>22</td>\n",
       "    </tr>\n",
       "  </tbody>\n",
       "</table>\n",
       "</div>"
      ],
      "text/plain": [
       "           1990  1995  2000  2005  2010  2014\n",
       "Action       54    65    57    67    77    77\n",
       "Adventure    29    39    42    60    58    59\n",
       "Animation     7     8    19    18    28    22"
      ]
     },
     "execution_count": 469,
     "metadata": {},
     "output_type": "execute_result"
    }
   ],
   "source": [
    "'''\n",
    "Snapshot of Dataframe for Movie Counr by year and genre\n",
    "'''\n",
    "dataframeMovieCountByYear.head(3)"
   ]
  },
  {
   "cell_type": "code",
   "execution_count": 470,
   "metadata": {
    "collapsed": true
   },
   "outputs": [],
   "source": [
    "'''\n",
    "Dataframe for Mean Box Office by Year\n",
    "'''\n",
    "dataframeBoxOfficeByYear = pd.DataFrame(dictBoxOfficeByYear, index=genreList)"
   ]
  },
  {
   "cell_type": "code",
   "execution_count": 471,
   "metadata": {},
   "outputs": [
    {
     "data": {
      "text/html": [
       "<div>\n",
       "<style>\n",
       "    .dataframe thead tr:only-child th {\n",
       "        text-align: right;\n",
       "    }\n",
       "\n",
       "    .dataframe thead th {\n",
       "        text-align: left;\n",
       "    }\n",
       "\n",
       "    .dataframe tbody tr th {\n",
       "        vertical-align: top;\n",
       "    }\n",
       "</style>\n",
       "<table border=\"1\" class=\"dataframe\">\n",
       "  <thead>\n",
       "    <tr style=\"text-align: right;\">\n",
       "      <th></th>\n",
       "      <th>1990</th>\n",
       "      <th>1995</th>\n",
       "      <th>2000</th>\n",
       "      <th>2005</th>\n",
       "      <th>2010</th>\n",
       "      <th>2014</th>\n",
       "    </tr>\n",
       "  </thead>\n",
       "  <tbody>\n",
       "    <tr>\n",
       "      <th>Action</th>\n",
       "      <td>36000229</td>\n",
       "      <td>37959481</td>\n",
       "      <td>57460535</td>\n",
       "      <td>47968347</td>\n",
       "      <td>73557596</td>\n",
       "      <td>101581247</td>\n",
       "    </tr>\n",
       "    <tr>\n",
       "      <th>Adventure</th>\n",
       "      <td>37304797</td>\n",
       "      <td>48388954</td>\n",
       "      <td>66035926</td>\n",
       "      <td>77790454</td>\n",
       "      <td>123040636</td>\n",
       "      <td>119569786</td>\n",
       "    </tr>\n",
       "    <tr>\n",
       "      <th>Animation</th>\n",
       "      <td>18982395</td>\n",
       "      <td>64009098</td>\n",
       "      <td>56509193</td>\n",
       "      <td>81838410</td>\n",
       "      <td>128231076</td>\n",
       "      <td>86721295</td>\n",
       "    </tr>\n",
       "  </tbody>\n",
       "</table>\n",
       "</div>"
      ],
      "text/plain": [
       "               1990      1995      2000      2005       2010       2014\n",
       "Action     36000229  37959481  57460535  47968347   73557596  101581247\n",
       "Adventure  37304797  48388954  66035926  77790454  123040636  119569786\n",
       "Animation  18982395  64009098  56509193  81838410  128231076   86721295"
      ]
     },
     "execution_count": 471,
     "metadata": {},
     "output_type": "execute_result"
    }
   ],
   "source": [
    "'''\n",
    "Snapshot of Dataframe for Mean box office by year and genre\n",
    "'''\n",
    "dataframeBoxOfficeByYear.head(3)"
   ]
  },
  {
   "cell_type": "code",
   "execution_count": 472,
   "metadata": {
    "collapsed": true
   },
   "outputs": [],
   "source": [
    "'''\n",
    "Initialzing figure\n",
    "'''\n",
    "figure = {\n",
    "    'data' : [],\n",
    "    'layout' : {},\n",
    "    'frames' : []\n",
    "}"
   ]
  },
  {
   "cell_type": "code",
   "execution_count": 473,
   "metadata": {
    "collapsed": true
   },
   "outputs": [],
   "source": [
    "'''\n",
    "Setting the title of xaxis\n",
    "'''\n",
    "figure['layout']['xaxis'] = {'title' : 'Box Office'}\n",
    "\n",
    "'''\n",
    "Setting the title of yaxis and fixing the range of values of yaxis\n",
    "'''\n",
    "figure['layout']['yaxis'] = {'title' : 'Rating', 'range' : [3,9]}\n",
    "\n",
    "'''\n",
    "Setting the title of plot\n",
    "'''\n",
    "figure['layout']['title'] = 'Movie Analysis'"
   ]
  },
  {
   "cell_type": "code",
   "execution_count": 474,
   "metadata": {
    "collapsed": true
   },
   "outputs": [],
   "source": [
    "'''\n",
    "Setting the Buttons Play and Pause\n",
    "'''\n",
    "figure['layout']['updatemenus'] = [\n",
    "    {\n",
    "        'type': 'buttons',\n",
    "        'buttons' : [{\n",
    "            'label' : 'Play',\n",
    "            'method' : 'animate',\n",
    "            'args' : [None, {'frame' : {'duration' : 500, 'redraw': False},'fromcurrent': True,\n",
    "                             'transistion' : {'duration': 300, 'easing': 'quadratic-in-out'}}]\n",
    "        },\n",
    "        {\n",
    "            'label' :'Pause',\n",
    "            'method' : 'animate',\n",
    "            'args' : [[None], {'frame' : {'duration' : 0, 'redraw' : False}, 'mode': 'immediate',\n",
    "                                'transistion': {'duration': 0}}]\n",
    "        }],\n",
    "        'direction' : 'left',\n",
    "        'pad': {'r': 10, 't': 87},\n",
    "        'showactive' : False,\n",
    "        'x': 0.1,\n",
    "        'y': 0,\n",
    "        'xanchor': 'right',\n",
    "        'yanchor': 'top'\n",
    "    }\n",
    "]"
   ]
  },
  {
   "cell_type": "code",
   "execution_count": 475,
   "metadata": {},
   "outputs": [],
   "source": [
    "'''\n",
    "Make data [To show intially when plot is openend]\n",
    "'''\n",
    "dataDict = {\n",
    "    \n",
    "     # Setting xaxis to mean box office of year 1990  \n",
    "    'x': dataframeBoxOfficeByYear['1990'].values,\n",
    "    \n",
    "    # Setting yaxis to mean rating of year 1990  \n",
    "    'y': dataframeMeanByYear['1990'].values,\n",
    "    'mode' : 'markers',\n",
    "   \n",
    "    # Setting what to display when hovered over the data point\n",
    "    'text' : 'Genre: ' + dataframeMeanByYear['1990'].index + '<br>Mean: ' + \\\n",
    "            dataframeMeanByYear['1990'].values.astype(str) + '<br>Movie Count: ' + \\\n",
    "            dataframeMovieCountByYear['1990'].values.astype(str) + '<br>Mean BoxOffice: ' +\\\n",
    "            \n",
    "            # Display Box Office in millions format \n",
    "            (dataframeBoxOfficeByYear['1990'].values/1000000).round(2).astype(str) + 'M',\n",
    "   \n",
    "    # Setting the hoverinfo as text\n",
    "    'hoverinfo' : 'text',\n",
    "    'marker' : {\n",
    "       \n",
    "        # Setting the diameter to Movie count of year 1990\n",
    "        'size' : dataframeMovieCountByYear['1990'].values\n",
    "    }\n",
    "}\n",
    "\n",
    "'''\n",
    "Appending the initial data to figure which will be used to plot\n",
    "'''\n",
    "figure['data'].append(dataDict)"
   ]
  },
  {
   "cell_type": "code",
   "execution_count": 476,
   "metadata": {
    "collapsed": true
   },
   "outputs": [],
   "source": [
    "'''\n",
    "Dict to show sliders\n",
    "'''\n",
    "sliders_dict = {\n",
    "    'active': 0,\n",
    "    'yanchor': 'top',\n",
    "    'xanchor': 'left',\n",
    "    'currentvalue': {\n",
    "        'font': {'size': 20},\n",
    "        # To show in plot Year: \n",
    "        'prefix': 'Year:',\n",
    "        'visible': True,\n",
    "        'xanchor': 'right'\n",
    "    },\n",
    "    'transition': {'duration': 300, 'easing': 'cubic-in-out'},\n",
    "    'pad': {'b': 10, 't': 50},\n",
    "    'len': 0.9,\n",
    "    'x': 0.1,\n",
    "    'y': 0,\n",
    "    # Dict of each year will be added later to list \n",
    "    'steps': []\n",
    "}"
   ]
  },
  {
   "cell_type": "code",
   "execution_count": 477,
   "metadata": {},
   "outputs": [],
   "source": [
    "'''\n",
    "Adding frames to figure. For each year a corresponding frame will be populated when slider moves from year to year \n",
    "'''\n",
    "for year in yearList: \n",
    "    # Creating a frame \n",
    "    frame = {'data' : [], 'name': year}\n",
    "    # Dict of data that will be added later to added to frame\n",
    "    dataDict = {\n",
    "            'x': dataframeBoxOfficeByYear[str(year)].values,\n",
    "            'y': dataframeMeanByYear[str(year)].values,\n",
    "            'mode' : 'markers',\n",
    "            'text' : 'Genre: ' + dataframeMeanByYear[str(year)].index + '<br>Mean: ' + \\\n",
    "            dataframeMeanByYear[str(year)].values.astype(str) + '<br>Movie Count: ' + \\\n",
    "            dataframeMovieCountByYear[str(year)].values.astype(str) + '<br>Mean BoxOffice: ' +\\\n",
    "            (dataframeBoxOfficeByYear[str(year)].values/1000000).round(2).astype(str) + 'M',\n",
    "            'hoverinfo' : 'text',\n",
    "            'marker' : {\n",
    "                'size' : dataframeMovieCountByYear[str(year)].values\n",
    "            }\n",
    "        }\n",
    "    # Adding data to frame\n",
    "    frame['data'].append(dataDict)\n",
    "    # Adding frame to figure \n",
    "    figure['frames'].append(frame)\n",
    "    # Dict of steps that will be later added to sliders_dict\n",
    "    sliderSteps = {\n",
    "        'args' : [[year], {'frame': {'duration' : 300, 'redraw': False}, 'mode': 'immediate',\n",
    "                          'transition': {'duration': 300}}],\n",
    "        'label' : year,\n",
    "        'method': 'animate'\n",
    "    }\n",
    "    # Appending dict sliderSteps to slider_dict \n",
    "    sliders_dict['steps'].append(sliderSteps)\n",
    "    \n",
    "    "
   ]
  },
  {
   "cell_type": "code",
   "execution_count": 478,
   "metadata": {
    "collapsed": true
   },
   "outputs": [],
   "source": [
    "'''\n",
    "Setting sliders with required data\n",
    "'''\n",
    "figure['layout']['sliders'] = [sliders_dict]"
   ]
  },
  {
   "cell_type": "code",
   "execution_count": 481,
   "metadata": {},
   "outputs": [
    {
     "data": {
      "application/vnd.plotly.v1+json": {
       "data": [
        {
         "hoverinfo": "text",
         "marker": {
          "size": [
           54,
           29,
           7,
           8,
           93,
           48,
           10,
           101,
           13,
           17,
           4,
           38,
           3,
           13,
           30,
           19,
           4,
           37,
           3,
           2
          ]
         },
         "mode": "markers",
         "text": [
          "Genre: Action<br>Mean: 5.82<br>Movie Count: 54<br>Mean BoxOffice: 36.0M",
          "Genre: Adventure<br>Mean: 5.99<br>Movie Count: 29<br>Mean BoxOffice: 37.3M",
          "Genre: Animation<br>Mean: 6.47<br>Movie Count: 7<br>Mean BoxOffice: 18.98M",
          "Genre: Biography<br>Mean: 7.11<br>Movie Count: 8<br>Mean BoxOffice: 20.05M",
          "Genre: Comedy<br>Mean: 5.88<br>Movie Count: 93<br>Mean BoxOffice: 26.49M",
          "Genre: Crime<br>Mean: 6.24<br>Movie Count: 48<br>Mean BoxOffice: 21.78M",
          "Genre: Documentary<br>Mean: 7.27<br>Movie Count: 10<br>Mean BoxOffice: 2.02M",
          "Genre: Drama<br>Mean: 6.39<br>Movie Count: 101<br>Mean BoxOffice: 19.24M",
          "Genre: Family<br>Mean: 5.68<br>Movie Count: 13<br>Mean BoxOffice: 59.75M",
          "Genre: Fantasy<br>Mean: 6.04<br>Movie Count: 17<br>Mean BoxOffice: 35.06M",
          "Genre: History<br>Mean: 7.5<br>Movie Count: 4<br>Mean BoxOffice: 4.41M",
          "Genre: Horror<br>Mean: 5.59<br>Movie Count: 38<br>Mean BoxOffice: 16.77M",
          "Genre: Musical<br>Mean: 5.27<br>Movie Count: 3<br>Mean BoxOffice: 6.41M",
          "Genre: Mystery<br>Mean: 6.24<br>Movie Count: 13<br>Mean BoxOffice: 18.63M",
          "Genre: Romance<br>Mean: 6.19<br>Movie Count: 30<br>Mean BoxOffice: 28.72M",
          "Genre: Sci-Fi<br>Mean: 5.59<br>Movie Count: 19<br>Mean BoxOffice: 28.79M",
          "Genre: Sport<br>Mean: 5.22<br>Movie Count: 4<br>Mean BoxOffice: 61.81M",
          "Genre: Thriller<br>Mean: 6.12<br>Movie Count: 37<br>Mean BoxOffice: 28.87M",
          "Genre: War<br>Mean: 6.57<br>Movie Count: 3<br>Mean BoxOffice: 12.51M",
          "Genre: Western<br>Mean: 7.2<br>Movie Count: 2<br>Mean BoxOffice: 114.18M"
         ],
         "x": [
          36000229,
          37304797,
          18982395,
          20052263,
          26488548,
          21777102,
          2024721,
          19244810,
          59748319,
          35059493,
          4407416,
          16767126,
          6414560,
          18634396,
          28721187,
          28788604,
          61810366,
          28865259,
          12510807,
          114176129
         ],
         "y": [
          5.82,
          5.99,
          6.47,
          7.11,
          5.88,
          6.24,
          7.27,
          6.39,
          5.68,
          6.04,
          7.5,
          5.59,
          5.27,
          6.24,
          6.19,
          5.59,
          5.22,
          6.12,
          6.57,
          7.2
         ]
        }
       ],
       "frames": [
        {
         "data": [
          {
           "hoverinfo": "text",
           "marker": {
            "size": [
             54,
             29,
             7,
             8,
             93,
             48,
             10,
             101,
             13,
             17,
             4,
             38,
             3,
             13,
             30,
             19,
             4,
             37,
             3,
             2
            ]
           },
           "mode": "markers",
           "text": [
            "Genre: Action<br>Mean: 5.82<br>Movie Count: 54<br>Mean BoxOffice: 36.0M",
            "Genre: Adventure<br>Mean: 5.99<br>Movie Count: 29<br>Mean BoxOffice: 37.3M",
            "Genre: Animation<br>Mean: 6.47<br>Movie Count: 7<br>Mean BoxOffice: 18.98M",
            "Genre: Biography<br>Mean: 7.11<br>Movie Count: 8<br>Mean BoxOffice: 20.05M",
            "Genre: Comedy<br>Mean: 5.88<br>Movie Count: 93<br>Mean BoxOffice: 26.49M",
            "Genre: Crime<br>Mean: 6.24<br>Movie Count: 48<br>Mean BoxOffice: 21.78M",
            "Genre: Documentary<br>Mean: 7.27<br>Movie Count: 10<br>Mean BoxOffice: 2.02M",
            "Genre: Drama<br>Mean: 6.39<br>Movie Count: 101<br>Mean BoxOffice: 19.24M",
            "Genre: Family<br>Mean: 5.68<br>Movie Count: 13<br>Mean BoxOffice: 59.75M",
            "Genre: Fantasy<br>Mean: 6.04<br>Movie Count: 17<br>Mean BoxOffice: 35.06M",
            "Genre: History<br>Mean: 7.5<br>Movie Count: 4<br>Mean BoxOffice: 4.41M",
            "Genre: Horror<br>Mean: 5.59<br>Movie Count: 38<br>Mean BoxOffice: 16.77M",
            "Genre: Musical<br>Mean: 5.27<br>Movie Count: 3<br>Mean BoxOffice: 6.41M",
            "Genre: Mystery<br>Mean: 6.24<br>Movie Count: 13<br>Mean BoxOffice: 18.63M",
            "Genre: Romance<br>Mean: 6.19<br>Movie Count: 30<br>Mean BoxOffice: 28.72M",
            "Genre: Sci-Fi<br>Mean: 5.59<br>Movie Count: 19<br>Mean BoxOffice: 28.79M",
            "Genre: Sport<br>Mean: 5.22<br>Movie Count: 4<br>Mean BoxOffice: 61.81M",
            "Genre: Thriller<br>Mean: 6.12<br>Movie Count: 37<br>Mean BoxOffice: 28.87M",
            "Genre: War<br>Mean: 6.57<br>Movie Count: 3<br>Mean BoxOffice: 12.51M",
            "Genre: Western<br>Mean: 7.2<br>Movie Count: 2<br>Mean BoxOffice: 114.18M"
           ],
           "x": [
            36000229,
            37304797,
            18982395,
            20052263,
            26488548,
            21777102,
            2024721,
            19244810,
            59748319,
            35059493,
            4407416,
            16767126,
            6414560,
            18634396,
            28721187,
            28788604,
            61810366,
            28865259,
            12510807,
            114176129
           ],
           "y": [
            5.82,
            5.99,
            6.47,
            7.11,
            5.88,
            6.24,
            7.27,
            6.39,
            5.68,
            6.04,
            7.5,
            5.59,
            5.27,
            6.24,
            6.19,
            5.59,
            5.22,
            6.12,
            6.57,
            7.2
           ]
          }
         ],
         "name": 1990
        },
        {
         "data": [
          {
           "hoverinfo": "text",
           "marker": {
            "size": [
             65,
             39,
             8,
             19,
             115,
             66,
             23,
             178,
             29,
             20,
             10,
             29,
             1,
             20,
             58,
             18,
             3,
             49,
             5,
             4
            ]
           },
           "mode": "markers",
           "text": [
            "Genre: Action<br>Mean: 5.67<br>Movie Count: 65<br>Mean BoxOffice: 37.96M",
            "Genre: Adventure<br>Mean: 6.11<br>Movie Count: 39<br>Mean BoxOffice: 48.39M",
            "Genre: Animation<br>Mean: 6.7<br>Movie Count: 8<br>Mean BoxOffice: 64.01M",
            "Genre: Biography<br>Mean: 7.01<br>Movie Count: 19<br>Mean BoxOffice: 19.86M",
            "Genre: Comedy<br>Mean: 5.92<br>Movie Count: 115<br>Mean BoxOffice: 22.16M",
            "Genre: Crime<br>Mean: 6.18<br>Movie Count: 66<br>Mean BoxOffice: 22.79M",
            "Genre: Documentary<br>Mean: 7.18<br>Movie Count: 23<br>Mean BoxOffice: 16.03M",
            "Genre: Drama<br>Mean: 6.35<br>Movie Count: 178<br>Mean BoxOffice: 20.24M",
            "Genre: Family<br>Mean: 5.62<br>Movie Count: 29<br>Mean BoxOffice: 27.7M",
            "Genre: Fantasy<br>Mean: 5.88<br>Movie Count: 20<br>Mean BoxOffice: 29.23M",
            "Genre: History<br>Mean: 7.19<br>Movie Count: 10<br>Mean BoxOffice: 42.99M",
            "Genre: Horror<br>Mean: 5.03<br>Movie Count: 29<br>Mean BoxOffice: 15.8M",
            "Genre: Musical<br>Mean: 5.8<br>Movie Count: 1<br>Mean BoxOffice: 0.04M",
            "Genre: Mystery<br>Mean: 6.58<br>Movie Count: 20<br>Mean BoxOffice: 30.26M",
            "Genre: Romance<br>Mean: 6.28<br>Movie Count: 58<br>Mean BoxOffice: 22.21M",
            "Genre: Sci-Fi<br>Mean: 5.14<br>Movie Count: 18<br>Mean BoxOffice: 33.58M",
            "Genre: Sport<br>Mean: 5.53<br>Movie Count: 3<br>Mean BoxOffice: 17.73M",
            "Genre: Thriller<br>Mean: 5.78<br>Movie Count: 49<br>Mean BoxOffice: 28.63M",
            "Genre: War<br>Mean: 6.86<br>Movie Count: 5<br>Mean BoxOffice: 2.5M",
            "Genre: Western<br>Mean: 6.88<br>Movie Count: 4<br>Mean BoxOffice: 2.67M"
           ],
           "x": [
            37959481,
            48388954,
            64009098,
            19857494,
            22157214,
            22788517,
            16034269,
            20235923,
            27701556,
            29225342,
            42987724,
            15799800,
            44757,
            30257992,
            22210379,
            33584939,
            17725500,
            28631659,
            2500677,
            2672015
           ],
           "y": [
            5.67,
            6.11,
            6.7,
            7.01,
            5.92,
            6.18,
            7.18,
            6.35,
            5.62,
            5.88,
            7.19,
            5.03,
            5.8,
            6.58,
            6.28,
            5.14,
            5.53,
            5.78,
            6.86,
            6.88
           ]
          }
         ],
         "name": 1995
        },
        {
         "data": [
          {
           "hoverinfo": "text",
           "marker": {
            "size": [
             57,
             42,
             19,
             25,
             144,
             60,
             40,
             180,
             17,
             25,
             10,
             39,
             2,
             26,
             75,
             17,
             11,
             50,
             4,
             2
            ]
           },
           "mode": "markers",
           "text": [
            "Genre: Action<br>Mean: 5.62<br>Movie Count: 57<br>Mean BoxOffice: 57.46M",
            "Genre: Adventure<br>Mean: 5.84<br>Movie Count: 42<br>Mean BoxOffice: 66.04M",
            "Genre: Animation<br>Mean: 6.48<br>Movie Count: 19<br>Mean BoxOffice: 56.51M",
            "Genre: Biography<br>Mean: 7.15<br>Movie Count: 25<br>Mean BoxOffice: 26.24M",
            "Genre: Comedy<br>Mean: 5.92<br>Movie Count: 144<br>Mean BoxOffice: 30.52M",
            "Genre: Crime<br>Mean: 6.22<br>Movie Count: 60<br>Mean BoxOffice: 21.97M",
            "Genre: Documentary<br>Mean: 7.4<br>Movie Count: 40<br>Mean BoxOffice: 2.76M",
            "Genre: Drama<br>Mean: 6.3<br>Movie Count: 180<br>Mean BoxOffice: 20.77M",
            "Genre: Family<br>Mean: 5.59<br>Movie Count: 17<br>Mean BoxOffice: 67.86M",
            "Genre: Fantasy<br>Mean: 5.34<br>Movie Count: 25<br>Mean BoxOffice: 63.74M",
            "Genre: History<br>Mean: 7.39<br>Movie Count: 10<br>Mean BoxOffice: 21.61M",
            "Genre: Horror<br>Mean: 5.21<br>Movie Count: 39<br>Mean BoxOffice: 41.39M",
            "Genre: Musical<br>Mean: 7.05<br>Movie Count: 2<br>Mean BoxOffice: 2.22M",
            "Genre: Mystery<br>Mean: 5.76<br>Movie Count: 26<br>Mean BoxOffice: 21.79M",
            "Genre: Romance<br>Mean: 6.12<br>Movie Count: 75<br>Mean BoxOffice: 20.7M",
            "Genre: Sci-Fi<br>Mean: 5.42<br>Movie Count: 17<br>Mean BoxOffice: 57.76M",
            "Genre: Sport<br>Mean: 6.38<br>Movie Count: 11<br>Mean BoxOffice: 32.41M",
            "Genre: Thriller<br>Mean: 5.71<br>Movie Count: 50<br>Mean BoxOffice: 33.94M",
            "Genre: War<br>Mean: 6.95<br>Movie Count: 4<br>Mean BoxOffice: 34.73M",
            "Genre: Western<br>Mean: 4.95<br>Movie Count: 2<br>Mean BoxOffice: 7.77M"
           ],
           "x": [
            57460535,
            66035926,
            56509193,
            26244618,
            30521642,
            21971977,
            2756527,
            20765821,
            67855307,
            63740758,
            21605052,
            41391617,
            2220891,
            21786399,
            20701341,
            57764252,
            32409496,
            33944486,
            34730735,
            7771867
           ],
           "y": [
            5.62,
            5.84,
            6.48,
            7.15,
            5.92,
            6.22,
            7.4,
            6.3,
            5.59,
            5.34,
            7.39,
            5.21,
            7.05,
            5.76,
            6.12,
            5.42,
            6.38,
            5.71,
            6.95,
            4.95
           ]
          }
         ],
         "name": 2000
        },
        {
         "data": [
          {
           "hoverinfo": "text",
           "marker": {
            "size": [
             67,
             60,
             18,
             27,
             163,
             59,
             64,
             205,
             35,
             23,
             13,
             50,
             5,
             32,
             67,
             15,
             19,
             53,
             6,
             2
            ]
           },
           "mode": "markers",
           "text": [
            "Genre: Action<br>Mean: 5.56<br>Movie Count: 67<br>Mean BoxOffice: 47.97M",
            "Genre: Adventure<br>Mean: 5.87<br>Movie Count: 60<br>Mean BoxOffice: 77.79M",
            "Genre: Animation<br>Mean: 6.52<br>Movie Count: 18<br>Mean BoxOffice: 81.84M",
            "Genre: Biography<br>Mean: 7.14<br>Movie Count: 27<br>Mean BoxOffice: 18.41M",
            "Genre: Comedy<br>Mean: 5.99<br>Movie Count: 163<br>Mean BoxOffice: 31.56M",
            "Genre: Crime<br>Mean: 6.02<br>Movie Count: 59<br>Mean BoxOffice: 28.59M",
            "Genre: Documentary<br>Mean: 7.36<br>Movie Count: 64<br>Mean BoxOffice: 1.68M",
            "Genre: Drama<br>Mean: 6.45<br>Movie Count: 205<br>Mean BoxOffice: 19.27M",
            "Genre: Family<br>Mean: 5.99<br>Movie Count: 35<br>Mean BoxOffice: 63.12M",
            "Genre: Fantasy<br>Mean: 5.64<br>Movie Count: 23<br>Mean BoxOffice: 78.59M",
            "Genre: History<br>Mean: 7.25<br>Movie Count: 13<br>Mean BoxOffice: 12.46M",
            "Genre: Horror<br>Mean: 5.11<br>Movie Count: 50<br>Mean BoxOffice: 31.42M",
            "Genre: Musical<br>Mean: 6.16<br>Movie Count: 5<br>Mean BoxOffice: 10.18M",
            "Genre: Mystery<br>Mean: 6.04<br>Movie Count: 32<br>Mean BoxOffice: 37.25M",
            "Genre: Romance<br>Mean: 6.26<br>Movie Count: 67<br>Mean BoxOffice: 27.62M",
            "Genre: Sci-Fi<br>Mean: 5.32<br>Movie Count: 15<br>Mean BoxOffice: 62.42M",
            "Genre: Sport<br>Mean: 6.89<br>Movie Count: 19<br>Mean BoxOffice: 29.15M",
            "Genre: Thriller<br>Mean: 5.8<br>Movie Count: 53<br>Mean BoxOffice: 33.52M",
            "Genre: War<br>Mean: 7.03<br>Movie Count: 6<br>Mean BoxOffice: 18.57M",
            "Genre: Western<br>Mean: 6.65<br>Movie Count: 2<br>Mean BoxOffice: 45.36M"
           ],
           "x": [
            47968347,
            77790454,
            81838410,
            18408767,
            31562210,
            28591678,
            1681682,
            19268874,
            63124970,
            78590495,
            12456196,
            31415766,
            10184046,
            37251990,
            27619050,
            62415939,
            29150311,
            33521425,
            18572493,
            45356386
           ],
           "y": [
            5.56,
            5.87,
            6.52,
            7.14,
            5.99,
            6.02,
            7.36,
            6.45,
            5.99,
            5.64,
            7.25,
            5.11,
            6.16,
            6.04,
            6.26,
            5.32,
            6.89,
            5.8,
            7.03,
            6.65
           ]
          }
         ],
         "name": 2005
        },
        {
         "data": [
          {
           "hoverinfo": "text",
           "marker": {
            "size": [
             77,
             58,
             28,
             40,
             166,
             56,
             116,
             201,
             37,
             27,
             13,
             59,
             2,
             33,
             79,
             30,
             11,
             77,
             5,
             3
            ]
           },
           "mode": "markers",
           "text": [
            "Genre: Action<br>Mean: 5.98<br>Movie Count: 77<br>Mean BoxOffice: 73.56M",
            "Genre: Adventure<br>Mean: 6.31<br>Movie Count: 58<br>Mean BoxOffice: 123.04M",
            "Genre: Animation<br>Mean: 6.89<br>Movie Count: 28<br>Mean BoxOffice: 128.23M",
            "Genre: Biography<br>Mean: 7.33<br>Movie Count: 40<br>Mean BoxOffice: 19.0M",
            "Genre: Comedy<br>Mean: 6.05<br>Movie Count: 166<br>Mean BoxOffice: 39.62M",
            "Genre: Crime<br>Mean: 6.03<br>Movie Count: 56<br>Mean BoxOffice: 25.33M",
            "Genre: Documentary<br>Mean: 7.27<br>Movie Count: 116<br>Mean BoxOffice: 3.14M",
            "Genre: Drama<br>Mean: 6.31<br>Movie Count: 201<br>Mean BoxOffice: 23.01M",
            "Genre: Family<br>Mean: 5.92<br>Movie Count: 37<br>Mean BoxOffice: 73.35M",
            "Genre: Fantasy<br>Mean: 5.87<br>Movie Count: 27<br>Mean BoxOffice: 86.66M",
            "Genre: History<br>Mean: 7.12<br>Movie Count: 13<br>Mean BoxOffice: 3.37M",
            "Genre: Horror<br>Mean: 5.07<br>Movie Count: 59<br>Mean BoxOffice: 27.32M",
            "Genre: Musical<br>Mean: 7.55<br>Movie Count: 2<br>Mean BoxOffice: 39.44M",
            "Genre: Mystery<br>Mean: 5.82<br>Movie Count: 33<br>Mean BoxOffice: 27.17M",
            "Genre: Romance<br>Mean: 6.1<br>Movie Count: 79<br>Mean BoxOffice: 26.1M",
            "Genre: Sci-Fi<br>Mean: 5.29<br>Movie Count: 30<br>Mean BoxOffice: 76.46M",
            "Genre: Sport<br>Mean: 7.12<br>Movie Count: 11<br>Mean BoxOffice: 19.49M",
            "Genre: Thriller<br>Mean: 5.56<br>Movie Count: 77<br>Mean BoxOffice: 28.17M",
            "Genre: War<br>Mean: 7.2<br>Movie Count: 5<br>Mean BoxOffice: 27.18M",
            "Genre: Western<br>Mean: 6.27<br>Movie Count: 3<br>Mean BoxOffice: 86.0M"
           ],
           "x": [
            73557596,
            123040636,
            128231076,
            18997634,
            39622854,
            25328552,
            3136140,
            23013522,
            73345615,
            86657065,
            3368174,
            27316945,
            39440655,
            27171755,
            26097296,
            76455746,
            19489120,
            28167730,
            27176408,
            86004473
           ],
           "y": [
            5.98,
            6.31,
            6.89,
            7.33,
            6.05,
            6.03,
            7.27,
            6.31,
            5.92,
            5.87,
            7.12,
            5.07,
            7.55,
            5.82,
            6.1,
            5.29,
            7.12,
            5.56,
            7.2,
            6.27
           ]
          }
         ],
         "name": 2010
        },
        {
         "data": [
          {
           "hoverinfo": "text",
           "marker": {
            "size": [
             77,
             59,
             22,
             46,
             144,
             53,
             70,
             184,
             20,
             24,
             14,
             54,
             2,
             29,
             60,
             37,
             10,
             74,
             11,
             3
            ]
           },
           "mode": "markers",
           "text": [
            "Genre: Action<br>Mean: 6.07<br>Movie Count: 77<br>Mean BoxOffice: 101.58M",
            "Genre: Adventure<br>Mean: 6.35<br>Movie Count: 59<br>Mean BoxOffice: 119.57M",
            "Genre: Animation<br>Mean: 6.75<br>Movie Count: 22<br>Mean BoxOffice: 86.72M",
            "Genre: Biography<br>Mean: 7.06<br>Movie Count: 46<br>Mean BoxOffice: 34.15M",
            "Genre: Comedy<br>Mean: 6.12<br>Movie Count: 144<br>Mean BoxOffice: 35.93M",
            "Genre: Crime<br>Mean: 6.34<br>Movie Count: 53<br>Mean BoxOffice: 34.05M",
            "Genre: Documentary<br>Mean: 7.14<br>Movie Count: 70<br>Mean BoxOffice: 1.0M",
            "Genre: Drama<br>Mean: 6.34<br>Movie Count: 184<br>Mean BoxOffice: 31.01M",
            "Genre: Family<br>Mean: 6.15<br>Movie Count: 20<br>Mean BoxOffice: 78.96M",
            "Genre: Fantasy<br>Mean: 5.47<br>Movie Count: 24<br>Mean BoxOffice: 43.53M",
            "Genre: History<br>Mean: 6.88<br>Movie Count: 14<br>Mean BoxOffice: 14.17M",
            "Genre: Horror<br>Mean: 5.24<br>Movie Count: 54<br>Mean BoxOffice: 15.23M",
            "Genre: Musical<br>Mean: 5.6<br>Movie Count: 2<br>Mean BoxOffice: 0.14M",
            "Genre: Mystery<br>Mean: 6.02<br>Movie Count: 29<br>Mean BoxOffice: 37.59M",
            "Genre: Romance<br>Mean: 6.2<br>Movie Count: 60<br>Mean BoxOffice: 23.52M",
            "Genre: Sci-Fi<br>Mean: 5.94<br>Movie Count: 37<br>Mean BoxOffice: 123.32M",
            "Genre: Sport<br>Mean: 7.19<br>Movie Count: 10<br>Mean BoxOffice: 37.19M",
            "Genre: Thriller<br>Mean: 5.67<br>Movie Count: 74<br>Mean BoxOffice: 38.81M",
            "Genre: War<br>Mean: 6.47<br>Movie Count: 11<br>Mean BoxOffice: 29.58M",
            "Genre: Western<br>Mean: 6.93<br>Movie Count: 3<br>Mean BoxOffice: 22.52M"
           ],
           "x": [
            101581247,
            119569786,
            86721295,
            34154189,
            35925551,
            34053473,
            999284,
            31011063,
            78956661,
            43531526,
            14169406,
            15233326,
            137945,
            37588657,
            23521490,
            123323056,
            37185254,
            38809548,
            29575419,
            22522284
           ],
           "y": [
            6.07,
            6.35,
            6.75,
            7.06,
            6.12,
            6.34,
            7.14,
            6.34,
            6.15,
            5.47,
            6.88,
            5.24,
            5.6,
            6.02,
            6.2,
            5.94,
            7.19,
            5.67,
            6.47,
            6.93
           ]
          }
         ],
         "name": 2014
        }
       ],
       "layout": {
        "sliders": [
         {
          "active": 0,
          "currentvalue": {
           "font": {
            "size": 20
           },
           "prefix": "Year:",
           "visible": true,
           "xanchor": "right"
          },
          "len": 0.9,
          "pad": {
           "b": 10,
           "t": 50
          },
          "steps": [
           {
            "args": [
             [
              1990
             ],
             {
              "frame": {
               "duration": 300,
               "redraw": false
              },
              "mode": "immediate",
              "transition": {
               "duration": 300
              }
             }
            ],
            "label": 1990,
            "method": "animate"
           },
           {
            "args": [
             [
              1995
             ],
             {
              "frame": {
               "duration": 300,
               "redraw": false
              },
              "mode": "immediate",
              "transition": {
               "duration": 300
              }
             }
            ],
            "label": 1995,
            "method": "animate"
           },
           {
            "args": [
             [
              2000
             ],
             {
              "frame": {
               "duration": 300,
               "redraw": false
              },
              "mode": "immediate",
              "transition": {
               "duration": 300
              }
             }
            ],
            "label": 2000,
            "method": "animate"
           },
           {
            "args": [
             [
              2005
             ],
             {
              "frame": {
               "duration": 300,
               "redraw": false
              },
              "mode": "immediate",
              "transition": {
               "duration": 300
              }
             }
            ],
            "label": 2005,
            "method": "animate"
           },
           {
            "args": [
             [
              2010
             ],
             {
              "frame": {
               "duration": 300,
               "redraw": false
              },
              "mode": "immediate",
              "transition": {
               "duration": 300
              }
             }
            ],
            "label": 2010,
            "method": "animate"
           },
           {
            "args": [
             [
              2014
             ],
             {
              "frame": {
               "duration": 300,
               "redraw": false
              },
              "mode": "immediate",
              "transition": {
               "duration": 300
              }
             }
            ],
            "label": 2014,
            "method": "animate"
           }
          ],
          "transition": {
           "duration": 300,
           "easing": "cubic-in-out"
          },
          "x": 0.1,
          "xanchor": "left",
          "y": 0,
          "yanchor": "top"
         }
        ],
        "title": "Movie Analysis",
        "updatemenus": [
         {
          "buttons": [
           {
            "args": [
             null,
             {
              "frame": {
               "duration": 500,
               "redraw": false
              },
              "fromcurrent": true,
              "transistion": {
               "duration": 300,
               "easing": "quadratic-in-out"
              }
             }
            ],
            "label": "Play",
            "method": "animate"
           },
           {
            "args": [
             [
              null
             ],
             {
              "frame": {
               "duration": 0,
               "redraw": false
              },
              "mode": "immediate",
              "transistion": {
               "duration": 0
              }
             }
            ],
            "label": "Pause",
            "method": "animate"
           }
          ],
          "direction": "left",
          "pad": {
           "r": 10,
           "t": 87
          },
          "showactive": false,
          "type": "buttons",
          "x": 0.1,
          "xanchor": "right",
          "y": 0,
          "yanchor": "top"
         }
        ],
        "xaxis": {
         "title": "Box Office"
        },
        "yaxis": {
         "range": [
          3,
          9
         ],
         "title": "Rating"
        }
       }
      },
      "text/html": [
       "<div id=\"984c804f-2993-469e-91c9-ac3499b39ad2\" style=\"height: 525px; width: 100%;\" class=\"plotly-graph-div\"></div><script type=\"text/javascript\">require([\"plotly\"], function(Plotly) { window.PLOTLYENV=window.PLOTLYENV || {};window.PLOTLYENV.BASE_URL=\"https://plot.ly\";\n",
       "        Plotly.plot(\n",
       "            '984c804f-2993-469e-91c9-ac3499b39ad2',\n",
       "            [{\"x\": [36000229, 37304797, 18982395, 20052263, 26488548, 21777102, 2024721, 19244810, 59748319, 35059493, 4407416, 16767126, 6414560, 18634396, 28721187, 28788604, 61810366, 28865259, 12510807, 114176129], \"y\": [5.82, 5.99, 6.47, 7.11, 5.88, 6.24, 7.27, 6.39, 5.68, 6.04, 7.5, 5.59, 5.27, 6.24, 6.19, 5.59, 5.22, 6.12, 6.57, 7.2], \"mode\": \"markers\", \"text\": [\"Genre: Action<br>Mean: 5.82<br>Movie Count: 54<br>Mean BoxOffice: 36.0M\", \"Genre: Adventure<br>Mean: 5.99<br>Movie Count: 29<br>Mean BoxOffice: 37.3M\", \"Genre: Animation<br>Mean: 6.47<br>Movie Count: 7<br>Mean BoxOffice: 18.98M\", \"Genre: Biography<br>Mean: 7.11<br>Movie Count: 8<br>Mean BoxOffice: 20.05M\", \"Genre: Comedy<br>Mean: 5.88<br>Movie Count: 93<br>Mean BoxOffice: 26.49M\", \"Genre: Crime<br>Mean: 6.24<br>Movie Count: 48<br>Mean BoxOffice: 21.78M\", \"Genre: Documentary<br>Mean: 7.27<br>Movie Count: 10<br>Mean BoxOffice: 2.02M\", \"Genre: Drama<br>Mean: 6.39<br>Movie Count: 101<br>Mean BoxOffice: 19.24M\", \"Genre: Family<br>Mean: 5.68<br>Movie Count: 13<br>Mean BoxOffice: 59.75M\", \"Genre: Fantasy<br>Mean: 6.04<br>Movie Count: 17<br>Mean BoxOffice: 35.06M\", \"Genre: History<br>Mean: 7.5<br>Movie Count: 4<br>Mean BoxOffice: 4.41M\", \"Genre: Horror<br>Mean: 5.59<br>Movie Count: 38<br>Mean BoxOffice: 16.77M\", \"Genre: Musical<br>Mean: 5.27<br>Movie Count: 3<br>Mean BoxOffice: 6.41M\", \"Genre: Mystery<br>Mean: 6.24<br>Movie Count: 13<br>Mean BoxOffice: 18.63M\", \"Genre: Romance<br>Mean: 6.19<br>Movie Count: 30<br>Mean BoxOffice: 28.72M\", \"Genre: Sci-Fi<br>Mean: 5.59<br>Movie Count: 19<br>Mean BoxOffice: 28.79M\", \"Genre: Sport<br>Mean: 5.22<br>Movie Count: 4<br>Mean BoxOffice: 61.81M\", \"Genre: Thriller<br>Mean: 6.12<br>Movie Count: 37<br>Mean BoxOffice: 28.87M\", \"Genre: War<br>Mean: 6.57<br>Movie Count: 3<br>Mean BoxOffice: 12.51M\", \"Genre: Western<br>Mean: 7.2<br>Movie Count: 2<br>Mean BoxOffice: 114.18M\"], \"hoverinfo\": \"text\", \"marker\": {\"size\": [54, 29, 7, 8, 93, 48, 10, 101, 13, 17, 4, 38, 3, 13, 30, 19, 4, 37, 3, 2]}}],\n",
       "            {\"xaxis\": {\"title\": \"Box Office\"}, \"yaxis\": {\"title\": \"Rating\", \"range\": [3, 9]}, \"title\": \"Movie Analysis\", \"updatemenus\": [{\"type\": \"buttons\", \"buttons\": [{\"label\": \"Play\", \"method\": \"animate\", \"args\": [null, {\"frame\": {\"duration\": 500, \"redraw\": false}, \"fromcurrent\": true, \"transistion\": {\"duration\": 300, \"easing\": \"quadratic-in-out\"}}]}, {\"label\": \"Pause\", \"method\": \"animate\", \"args\": [[null], {\"frame\": {\"duration\": 0, \"redraw\": false}, \"mode\": \"immediate\", \"transistion\": {\"duration\": 0}}]}], \"direction\": \"left\", \"pad\": {\"r\": 10, \"t\": 87}, \"showactive\": false, \"x\": 0.1, \"y\": 0, \"xanchor\": \"right\", \"yanchor\": \"top\"}], \"sliders\": [{\"active\": 0, \"yanchor\": \"top\", \"xanchor\": \"left\", \"currentvalue\": {\"font\": {\"size\": 20}, \"prefix\": \"Year:\", \"visible\": true, \"xanchor\": \"right\"}, \"transition\": {\"duration\": 300, \"easing\": \"cubic-in-out\"}, \"pad\": {\"b\": 10, \"t\": 50}, \"len\": 0.9, \"x\": 0.1, \"y\": 0, \"steps\": [{\"args\": [[1990], {\"frame\": {\"duration\": 300, \"redraw\": false}, \"mode\": \"immediate\", \"transition\": {\"duration\": 300}}], \"label\": 1990, \"method\": \"animate\"}, {\"args\": [[1995], {\"frame\": {\"duration\": 300, \"redraw\": false}, \"mode\": \"immediate\", \"transition\": {\"duration\": 300}}], \"label\": 1995, \"method\": \"animate\"}, {\"args\": [[2000], {\"frame\": {\"duration\": 300, \"redraw\": false}, \"mode\": \"immediate\", \"transition\": {\"duration\": 300}}], \"label\": 2000, \"method\": \"animate\"}, {\"args\": [[2005], {\"frame\": {\"duration\": 300, \"redraw\": false}, \"mode\": \"immediate\", \"transition\": {\"duration\": 300}}], \"label\": 2005, \"method\": \"animate\"}, {\"args\": [[2010], {\"frame\": {\"duration\": 300, \"redraw\": false}, \"mode\": \"immediate\", \"transition\": {\"duration\": 300}}], \"label\": 2010, \"method\": \"animate\"}, {\"args\": [[2014], {\"frame\": {\"duration\": 300, \"redraw\": false}, \"mode\": \"immediate\", \"transition\": {\"duration\": 300}}], \"label\": 2014, \"method\": \"animate\"}]}]},\n",
       "            {\"showLink\": true, \"linkText\": \"Export to plot.ly\"}\n",
       "        ).then(function () {return Plotly.addFrames('984c804f-2993-469e-91c9-ac3499b39ad2',[{\"data\": [{\"x\": [36000229, 37304797, 18982395, 20052263, 26488548, 21777102, 2024721, 19244810, 59748319, 35059493, 4407416, 16767126, 6414560, 18634396, 28721187, 28788604, 61810366, 28865259, 12510807, 114176129], \"y\": [5.82, 5.99, 6.47, 7.11, 5.88, 6.24, 7.27, 6.39, 5.68, 6.04, 7.5, 5.59, 5.27, 6.24, 6.19, 5.59, 5.22, 6.12, 6.57, 7.2], \"mode\": \"markers\", \"text\": [\"Genre: Action<br>Mean: 5.82<br>Movie Count: 54<br>Mean BoxOffice: 36.0M\", \"Genre: Adventure<br>Mean: 5.99<br>Movie Count: 29<br>Mean BoxOffice: 37.3M\", \"Genre: Animation<br>Mean: 6.47<br>Movie Count: 7<br>Mean BoxOffice: 18.98M\", \"Genre: Biography<br>Mean: 7.11<br>Movie Count: 8<br>Mean BoxOffice: 20.05M\", \"Genre: Comedy<br>Mean: 5.88<br>Movie Count: 93<br>Mean BoxOffice: 26.49M\", \"Genre: Crime<br>Mean: 6.24<br>Movie Count: 48<br>Mean BoxOffice: 21.78M\", \"Genre: Documentary<br>Mean: 7.27<br>Movie Count: 10<br>Mean BoxOffice: 2.02M\", \"Genre: Drama<br>Mean: 6.39<br>Movie Count: 101<br>Mean BoxOffice: 19.24M\", \"Genre: Family<br>Mean: 5.68<br>Movie Count: 13<br>Mean BoxOffice: 59.75M\", \"Genre: Fantasy<br>Mean: 6.04<br>Movie Count: 17<br>Mean BoxOffice: 35.06M\", \"Genre: History<br>Mean: 7.5<br>Movie Count: 4<br>Mean BoxOffice: 4.41M\", \"Genre: Horror<br>Mean: 5.59<br>Movie Count: 38<br>Mean BoxOffice: 16.77M\", \"Genre: Musical<br>Mean: 5.27<br>Movie Count: 3<br>Mean BoxOffice: 6.41M\", \"Genre: Mystery<br>Mean: 6.24<br>Movie Count: 13<br>Mean BoxOffice: 18.63M\", \"Genre: Romance<br>Mean: 6.19<br>Movie Count: 30<br>Mean BoxOffice: 28.72M\", \"Genre: Sci-Fi<br>Mean: 5.59<br>Movie Count: 19<br>Mean BoxOffice: 28.79M\", \"Genre: Sport<br>Mean: 5.22<br>Movie Count: 4<br>Mean BoxOffice: 61.81M\", \"Genre: Thriller<br>Mean: 6.12<br>Movie Count: 37<br>Mean BoxOffice: 28.87M\", \"Genre: War<br>Mean: 6.57<br>Movie Count: 3<br>Mean BoxOffice: 12.51M\", \"Genre: Western<br>Mean: 7.2<br>Movie Count: 2<br>Mean BoxOffice: 114.18M\"], \"hoverinfo\": \"text\", \"marker\": {\"size\": [54, 29, 7, 8, 93, 48, 10, 101, 13, 17, 4, 38, 3, 13, 30, 19, 4, 37, 3, 2]}}], \"name\": 1990}, {\"data\": [{\"x\": [37959481, 48388954, 64009098, 19857494, 22157214, 22788517, 16034269, 20235923, 27701556, 29225342, 42987724, 15799800, 44757, 30257992, 22210379, 33584939, 17725500, 28631659, 2500677, 2672015], \"y\": [5.67, 6.11, 6.7, 7.01, 5.92, 6.18, 7.18, 6.35, 5.62, 5.88, 7.19, 5.03, 5.8, 6.58, 6.28, 5.14, 5.53, 5.78, 6.86, 6.88], \"mode\": \"markers\", \"text\": [\"Genre: Action<br>Mean: 5.67<br>Movie Count: 65<br>Mean BoxOffice: 37.96M\", \"Genre: Adventure<br>Mean: 6.11<br>Movie Count: 39<br>Mean BoxOffice: 48.39M\", \"Genre: Animation<br>Mean: 6.7<br>Movie Count: 8<br>Mean BoxOffice: 64.01M\", \"Genre: Biography<br>Mean: 7.01<br>Movie Count: 19<br>Mean BoxOffice: 19.86M\", \"Genre: Comedy<br>Mean: 5.92<br>Movie Count: 115<br>Mean BoxOffice: 22.16M\", \"Genre: Crime<br>Mean: 6.18<br>Movie Count: 66<br>Mean BoxOffice: 22.79M\", \"Genre: Documentary<br>Mean: 7.18<br>Movie Count: 23<br>Mean BoxOffice: 16.03M\", \"Genre: Drama<br>Mean: 6.35<br>Movie Count: 178<br>Mean BoxOffice: 20.24M\", \"Genre: Family<br>Mean: 5.62<br>Movie Count: 29<br>Mean BoxOffice: 27.7M\", \"Genre: Fantasy<br>Mean: 5.88<br>Movie Count: 20<br>Mean BoxOffice: 29.23M\", \"Genre: History<br>Mean: 7.19<br>Movie Count: 10<br>Mean BoxOffice: 42.99M\", \"Genre: Horror<br>Mean: 5.03<br>Movie Count: 29<br>Mean BoxOffice: 15.8M\", \"Genre: Musical<br>Mean: 5.8<br>Movie Count: 1<br>Mean BoxOffice: 0.04M\", \"Genre: Mystery<br>Mean: 6.58<br>Movie Count: 20<br>Mean BoxOffice: 30.26M\", \"Genre: Romance<br>Mean: 6.28<br>Movie Count: 58<br>Mean BoxOffice: 22.21M\", \"Genre: Sci-Fi<br>Mean: 5.14<br>Movie Count: 18<br>Mean BoxOffice: 33.58M\", \"Genre: Sport<br>Mean: 5.53<br>Movie Count: 3<br>Mean BoxOffice: 17.73M\", \"Genre: Thriller<br>Mean: 5.78<br>Movie Count: 49<br>Mean BoxOffice: 28.63M\", \"Genre: War<br>Mean: 6.86<br>Movie Count: 5<br>Mean BoxOffice: 2.5M\", \"Genre: Western<br>Mean: 6.88<br>Movie Count: 4<br>Mean BoxOffice: 2.67M\"], \"hoverinfo\": \"text\", \"marker\": {\"size\": [65, 39, 8, 19, 115, 66, 23, 178, 29, 20, 10, 29, 1, 20, 58, 18, 3, 49, 5, 4]}}], \"name\": 1995}, {\"data\": [{\"x\": [57460535, 66035926, 56509193, 26244618, 30521642, 21971977, 2756527, 20765821, 67855307, 63740758, 21605052, 41391617, 2220891, 21786399, 20701341, 57764252, 32409496, 33944486, 34730735, 7771867], \"y\": [5.62, 5.84, 6.48, 7.15, 5.92, 6.22, 7.4, 6.3, 5.59, 5.34, 7.39, 5.21, 7.05, 5.76, 6.12, 5.42, 6.38, 5.71, 6.95, 4.95], \"mode\": \"markers\", \"text\": [\"Genre: Action<br>Mean: 5.62<br>Movie Count: 57<br>Mean BoxOffice: 57.46M\", \"Genre: Adventure<br>Mean: 5.84<br>Movie Count: 42<br>Mean BoxOffice: 66.04M\", \"Genre: Animation<br>Mean: 6.48<br>Movie Count: 19<br>Mean BoxOffice: 56.51M\", \"Genre: Biography<br>Mean: 7.15<br>Movie Count: 25<br>Mean BoxOffice: 26.24M\", \"Genre: Comedy<br>Mean: 5.92<br>Movie Count: 144<br>Mean BoxOffice: 30.52M\", \"Genre: Crime<br>Mean: 6.22<br>Movie Count: 60<br>Mean BoxOffice: 21.97M\", \"Genre: Documentary<br>Mean: 7.4<br>Movie Count: 40<br>Mean BoxOffice: 2.76M\", \"Genre: Drama<br>Mean: 6.3<br>Movie Count: 180<br>Mean BoxOffice: 20.77M\", \"Genre: Family<br>Mean: 5.59<br>Movie Count: 17<br>Mean BoxOffice: 67.86M\", \"Genre: Fantasy<br>Mean: 5.34<br>Movie Count: 25<br>Mean BoxOffice: 63.74M\", \"Genre: History<br>Mean: 7.39<br>Movie Count: 10<br>Mean BoxOffice: 21.61M\", \"Genre: Horror<br>Mean: 5.21<br>Movie Count: 39<br>Mean BoxOffice: 41.39M\", \"Genre: Musical<br>Mean: 7.05<br>Movie Count: 2<br>Mean BoxOffice: 2.22M\", \"Genre: Mystery<br>Mean: 5.76<br>Movie Count: 26<br>Mean BoxOffice: 21.79M\", \"Genre: Romance<br>Mean: 6.12<br>Movie Count: 75<br>Mean BoxOffice: 20.7M\", \"Genre: Sci-Fi<br>Mean: 5.42<br>Movie Count: 17<br>Mean BoxOffice: 57.76M\", \"Genre: Sport<br>Mean: 6.38<br>Movie Count: 11<br>Mean BoxOffice: 32.41M\", \"Genre: Thriller<br>Mean: 5.71<br>Movie Count: 50<br>Mean BoxOffice: 33.94M\", \"Genre: War<br>Mean: 6.95<br>Movie Count: 4<br>Mean BoxOffice: 34.73M\", \"Genre: Western<br>Mean: 4.95<br>Movie Count: 2<br>Mean BoxOffice: 7.77M\"], \"hoverinfo\": \"text\", \"marker\": {\"size\": [57, 42, 19, 25, 144, 60, 40, 180, 17, 25, 10, 39, 2, 26, 75, 17, 11, 50, 4, 2]}}], \"name\": 2000}, {\"data\": [{\"x\": [47968347, 77790454, 81838410, 18408767, 31562210, 28591678, 1681682, 19268874, 63124970, 78590495, 12456196, 31415766, 10184046, 37251990, 27619050, 62415939, 29150311, 33521425, 18572493, 45356386], \"y\": [5.56, 5.87, 6.52, 7.14, 5.99, 6.02, 7.36, 6.45, 5.99, 5.64, 7.25, 5.11, 6.16, 6.04, 6.26, 5.32, 6.89, 5.8, 7.03, 6.65], \"mode\": \"markers\", \"text\": [\"Genre: Action<br>Mean: 5.56<br>Movie Count: 67<br>Mean BoxOffice: 47.97M\", \"Genre: Adventure<br>Mean: 5.87<br>Movie Count: 60<br>Mean BoxOffice: 77.79M\", \"Genre: Animation<br>Mean: 6.52<br>Movie Count: 18<br>Mean BoxOffice: 81.84M\", \"Genre: Biography<br>Mean: 7.14<br>Movie Count: 27<br>Mean BoxOffice: 18.41M\", \"Genre: Comedy<br>Mean: 5.99<br>Movie Count: 163<br>Mean BoxOffice: 31.56M\", \"Genre: Crime<br>Mean: 6.02<br>Movie Count: 59<br>Mean BoxOffice: 28.59M\", \"Genre: Documentary<br>Mean: 7.36<br>Movie Count: 64<br>Mean BoxOffice: 1.68M\", \"Genre: Drama<br>Mean: 6.45<br>Movie Count: 205<br>Mean BoxOffice: 19.27M\", \"Genre: Family<br>Mean: 5.99<br>Movie Count: 35<br>Mean BoxOffice: 63.12M\", \"Genre: Fantasy<br>Mean: 5.64<br>Movie Count: 23<br>Mean BoxOffice: 78.59M\", \"Genre: History<br>Mean: 7.25<br>Movie Count: 13<br>Mean BoxOffice: 12.46M\", \"Genre: Horror<br>Mean: 5.11<br>Movie Count: 50<br>Mean BoxOffice: 31.42M\", \"Genre: Musical<br>Mean: 6.16<br>Movie Count: 5<br>Mean BoxOffice: 10.18M\", \"Genre: Mystery<br>Mean: 6.04<br>Movie Count: 32<br>Mean BoxOffice: 37.25M\", \"Genre: Romance<br>Mean: 6.26<br>Movie Count: 67<br>Mean BoxOffice: 27.62M\", \"Genre: Sci-Fi<br>Mean: 5.32<br>Movie Count: 15<br>Mean BoxOffice: 62.42M\", \"Genre: Sport<br>Mean: 6.89<br>Movie Count: 19<br>Mean BoxOffice: 29.15M\", \"Genre: Thriller<br>Mean: 5.8<br>Movie Count: 53<br>Mean BoxOffice: 33.52M\", \"Genre: War<br>Mean: 7.03<br>Movie Count: 6<br>Mean BoxOffice: 18.57M\", \"Genre: Western<br>Mean: 6.65<br>Movie Count: 2<br>Mean BoxOffice: 45.36M\"], \"hoverinfo\": \"text\", \"marker\": {\"size\": [67, 60, 18, 27, 163, 59, 64, 205, 35, 23, 13, 50, 5, 32, 67, 15, 19, 53, 6, 2]}}], \"name\": 2005}, {\"data\": [{\"x\": [73557596, 123040636, 128231076, 18997634, 39622854, 25328552, 3136140, 23013522, 73345615, 86657065, 3368174, 27316945, 39440655, 27171755, 26097296, 76455746, 19489120, 28167730, 27176408, 86004473], \"y\": [5.98, 6.31, 6.89, 7.33, 6.05, 6.03, 7.27, 6.31, 5.92, 5.87, 7.12, 5.07, 7.55, 5.82, 6.1, 5.29, 7.12, 5.56, 7.2, 6.27], \"mode\": \"markers\", \"text\": [\"Genre: Action<br>Mean: 5.98<br>Movie Count: 77<br>Mean BoxOffice: 73.56M\", \"Genre: Adventure<br>Mean: 6.31<br>Movie Count: 58<br>Mean BoxOffice: 123.04M\", \"Genre: Animation<br>Mean: 6.89<br>Movie Count: 28<br>Mean BoxOffice: 128.23M\", \"Genre: Biography<br>Mean: 7.33<br>Movie Count: 40<br>Mean BoxOffice: 19.0M\", \"Genre: Comedy<br>Mean: 6.05<br>Movie Count: 166<br>Mean BoxOffice: 39.62M\", \"Genre: Crime<br>Mean: 6.03<br>Movie Count: 56<br>Mean BoxOffice: 25.33M\", \"Genre: Documentary<br>Mean: 7.27<br>Movie Count: 116<br>Mean BoxOffice: 3.14M\", \"Genre: Drama<br>Mean: 6.31<br>Movie Count: 201<br>Mean BoxOffice: 23.01M\", \"Genre: Family<br>Mean: 5.92<br>Movie Count: 37<br>Mean BoxOffice: 73.35M\", \"Genre: Fantasy<br>Mean: 5.87<br>Movie Count: 27<br>Mean BoxOffice: 86.66M\", \"Genre: History<br>Mean: 7.12<br>Movie Count: 13<br>Mean BoxOffice: 3.37M\", \"Genre: Horror<br>Mean: 5.07<br>Movie Count: 59<br>Mean BoxOffice: 27.32M\", \"Genre: Musical<br>Mean: 7.55<br>Movie Count: 2<br>Mean BoxOffice: 39.44M\", \"Genre: Mystery<br>Mean: 5.82<br>Movie Count: 33<br>Mean BoxOffice: 27.17M\", \"Genre: Romance<br>Mean: 6.1<br>Movie Count: 79<br>Mean BoxOffice: 26.1M\", \"Genre: Sci-Fi<br>Mean: 5.29<br>Movie Count: 30<br>Mean BoxOffice: 76.46M\", \"Genre: Sport<br>Mean: 7.12<br>Movie Count: 11<br>Mean BoxOffice: 19.49M\", \"Genre: Thriller<br>Mean: 5.56<br>Movie Count: 77<br>Mean BoxOffice: 28.17M\", \"Genre: War<br>Mean: 7.2<br>Movie Count: 5<br>Mean BoxOffice: 27.18M\", \"Genre: Western<br>Mean: 6.27<br>Movie Count: 3<br>Mean BoxOffice: 86.0M\"], \"hoverinfo\": \"text\", \"marker\": {\"size\": [77, 58, 28, 40, 166, 56, 116, 201, 37, 27, 13, 59, 2, 33, 79, 30, 11, 77, 5, 3]}}], \"name\": 2010}, {\"data\": [{\"x\": [101581247, 119569786, 86721295, 34154189, 35925551, 34053473, 999284, 31011063, 78956661, 43531526, 14169406, 15233326, 137945, 37588657, 23521490, 123323056, 37185254, 38809548, 29575419, 22522284], \"y\": [6.07, 6.35, 6.75, 7.06, 6.12, 6.34, 7.14, 6.34, 6.15, 5.47, 6.88, 5.24, 5.6, 6.02, 6.2, 5.94, 7.19, 5.67, 6.47, 6.93], \"mode\": \"markers\", \"text\": [\"Genre: Action<br>Mean: 6.07<br>Movie Count: 77<br>Mean BoxOffice: 101.58M\", \"Genre: Adventure<br>Mean: 6.35<br>Movie Count: 59<br>Mean BoxOffice: 119.57M\", \"Genre: Animation<br>Mean: 6.75<br>Movie Count: 22<br>Mean BoxOffice: 86.72M\", \"Genre: Biography<br>Mean: 7.06<br>Movie Count: 46<br>Mean BoxOffice: 34.15M\", \"Genre: Comedy<br>Mean: 6.12<br>Movie Count: 144<br>Mean BoxOffice: 35.93M\", \"Genre: Crime<br>Mean: 6.34<br>Movie Count: 53<br>Mean BoxOffice: 34.05M\", \"Genre: Documentary<br>Mean: 7.14<br>Movie Count: 70<br>Mean BoxOffice: 1.0M\", \"Genre: Drama<br>Mean: 6.34<br>Movie Count: 184<br>Mean BoxOffice: 31.01M\", \"Genre: Family<br>Mean: 6.15<br>Movie Count: 20<br>Mean BoxOffice: 78.96M\", \"Genre: Fantasy<br>Mean: 5.47<br>Movie Count: 24<br>Mean BoxOffice: 43.53M\", \"Genre: History<br>Mean: 6.88<br>Movie Count: 14<br>Mean BoxOffice: 14.17M\", \"Genre: Horror<br>Mean: 5.24<br>Movie Count: 54<br>Mean BoxOffice: 15.23M\", \"Genre: Musical<br>Mean: 5.6<br>Movie Count: 2<br>Mean BoxOffice: 0.14M\", \"Genre: Mystery<br>Mean: 6.02<br>Movie Count: 29<br>Mean BoxOffice: 37.59M\", \"Genre: Romance<br>Mean: 6.2<br>Movie Count: 60<br>Mean BoxOffice: 23.52M\", \"Genre: Sci-Fi<br>Mean: 5.94<br>Movie Count: 37<br>Mean BoxOffice: 123.32M\", \"Genre: Sport<br>Mean: 7.19<br>Movie Count: 10<br>Mean BoxOffice: 37.19M\", \"Genre: Thriller<br>Mean: 5.67<br>Movie Count: 74<br>Mean BoxOffice: 38.81M\", \"Genre: War<br>Mean: 6.47<br>Movie Count: 11<br>Mean BoxOffice: 29.58M\", \"Genre: Western<br>Mean: 6.93<br>Movie Count: 3<br>Mean BoxOffice: 22.52M\"], \"hoverinfo\": \"text\", \"marker\": {\"size\": [77, 59, 22, 46, 144, 53, 70, 184, 20, 24, 14, 54, 2, 29, 60, 37, 10, 74, 11, 3]}}], \"name\": 2014}]);}).then(function(){Plotly.animate('984c804f-2993-469e-91c9-ac3499b39ad2');})\n",
       "        });</script>"
      ],
      "text/vnd.plotly.v1+html": [
       "<div id=\"984c804f-2993-469e-91c9-ac3499b39ad2\" style=\"height: 525px; width: 100%;\" class=\"plotly-graph-div\"></div><script type=\"text/javascript\">require([\"plotly\"], function(Plotly) { window.PLOTLYENV=window.PLOTLYENV || {};window.PLOTLYENV.BASE_URL=\"https://plot.ly\";\n",
       "        Plotly.plot(\n",
       "            '984c804f-2993-469e-91c9-ac3499b39ad2',\n",
       "            [{\"x\": [36000229, 37304797, 18982395, 20052263, 26488548, 21777102, 2024721, 19244810, 59748319, 35059493, 4407416, 16767126, 6414560, 18634396, 28721187, 28788604, 61810366, 28865259, 12510807, 114176129], \"y\": [5.82, 5.99, 6.47, 7.11, 5.88, 6.24, 7.27, 6.39, 5.68, 6.04, 7.5, 5.59, 5.27, 6.24, 6.19, 5.59, 5.22, 6.12, 6.57, 7.2], \"mode\": \"markers\", \"text\": [\"Genre: Action<br>Mean: 5.82<br>Movie Count: 54<br>Mean BoxOffice: 36.0M\", \"Genre: Adventure<br>Mean: 5.99<br>Movie Count: 29<br>Mean BoxOffice: 37.3M\", \"Genre: Animation<br>Mean: 6.47<br>Movie Count: 7<br>Mean BoxOffice: 18.98M\", \"Genre: Biography<br>Mean: 7.11<br>Movie Count: 8<br>Mean BoxOffice: 20.05M\", \"Genre: Comedy<br>Mean: 5.88<br>Movie Count: 93<br>Mean BoxOffice: 26.49M\", \"Genre: Crime<br>Mean: 6.24<br>Movie Count: 48<br>Mean BoxOffice: 21.78M\", \"Genre: Documentary<br>Mean: 7.27<br>Movie Count: 10<br>Mean BoxOffice: 2.02M\", \"Genre: Drama<br>Mean: 6.39<br>Movie Count: 101<br>Mean BoxOffice: 19.24M\", \"Genre: Family<br>Mean: 5.68<br>Movie Count: 13<br>Mean BoxOffice: 59.75M\", \"Genre: Fantasy<br>Mean: 6.04<br>Movie Count: 17<br>Mean BoxOffice: 35.06M\", \"Genre: History<br>Mean: 7.5<br>Movie Count: 4<br>Mean BoxOffice: 4.41M\", \"Genre: Horror<br>Mean: 5.59<br>Movie Count: 38<br>Mean BoxOffice: 16.77M\", \"Genre: Musical<br>Mean: 5.27<br>Movie Count: 3<br>Mean BoxOffice: 6.41M\", \"Genre: Mystery<br>Mean: 6.24<br>Movie Count: 13<br>Mean BoxOffice: 18.63M\", \"Genre: Romance<br>Mean: 6.19<br>Movie Count: 30<br>Mean BoxOffice: 28.72M\", \"Genre: Sci-Fi<br>Mean: 5.59<br>Movie Count: 19<br>Mean BoxOffice: 28.79M\", \"Genre: Sport<br>Mean: 5.22<br>Movie Count: 4<br>Mean BoxOffice: 61.81M\", \"Genre: Thriller<br>Mean: 6.12<br>Movie Count: 37<br>Mean BoxOffice: 28.87M\", \"Genre: War<br>Mean: 6.57<br>Movie Count: 3<br>Mean BoxOffice: 12.51M\", \"Genre: Western<br>Mean: 7.2<br>Movie Count: 2<br>Mean BoxOffice: 114.18M\"], \"hoverinfo\": \"text\", \"marker\": {\"size\": [54, 29, 7, 8, 93, 48, 10, 101, 13, 17, 4, 38, 3, 13, 30, 19, 4, 37, 3, 2]}}],\n",
       "            {\"xaxis\": {\"title\": \"Box Office\"}, \"yaxis\": {\"title\": \"Rating\", \"range\": [3, 9]}, \"title\": \"Movie Analysis\", \"updatemenus\": [{\"type\": \"buttons\", \"buttons\": [{\"label\": \"Play\", \"method\": \"animate\", \"args\": [null, {\"frame\": {\"duration\": 500, \"redraw\": false}, \"fromcurrent\": true, \"transistion\": {\"duration\": 300, \"easing\": \"quadratic-in-out\"}}]}, {\"label\": \"Pause\", \"method\": \"animate\", \"args\": [[null], {\"frame\": {\"duration\": 0, \"redraw\": false}, \"mode\": \"immediate\", \"transistion\": {\"duration\": 0}}]}], \"direction\": \"left\", \"pad\": {\"r\": 10, \"t\": 87}, \"showactive\": false, \"x\": 0.1, \"y\": 0, \"xanchor\": \"right\", \"yanchor\": \"top\"}], \"sliders\": [{\"active\": 0, \"yanchor\": \"top\", \"xanchor\": \"left\", \"currentvalue\": {\"font\": {\"size\": 20}, \"prefix\": \"Year:\", \"visible\": true, \"xanchor\": \"right\"}, \"transition\": {\"duration\": 300, \"easing\": \"cubic-in-out\"}, \"pad\": {\"b\": 10, \"t\": 50}, \"len\": 0.9, \"x\": 0.1, \"y\": 0, \"steps\": [{\"args\": [[1990], {\"frame\": {\"duration\": 300, \"redraw\": false}, \"mode\": \"immediate\", \"transition\": {\"duration\": 300}}], \"label\": 1990, \"method\": \"animate\"}, {\"args\": [[1995], {\"frame\": {\"duration\": 300, \"redraw\": false}, \"mode\": \"immediate\", \"transition\": {\"duration\": 300}}], \"label\": 1995, \"method\": \"animate\"}, {\"args\": [[2000], {\"frame\": {\"duration\": 300, \"redraw\": false}, \"mode\": \"immediate\", \"transition\": {\"duration\": 300}}], \"label\": 2000, \"method\": \"animate\"}, {\"args\": [[2005], {\"frame\": {\"duration\": 300, \"redraw\": false}, \"mode\": \"immediate\", \"transition\": {\"duration\": 300}}], \"label\": 2005, \"method\": \"animate\"}, {\"args\": [[2010], {\"frame\": {\"duration\": 300, \"redraw\": false}, \"mode\": \"immediate\", \"transition\": {\"duration\": 300}}], \"label\": 2010, \"method\": \"animate\"}, {\"args\": [[2014], {\"frame\": {\"duration\": 300, \"redraw\": false}, \"mode\": \"immediate\", \"transition\": {\"duration\": 300}}], \"label\": 2014, \"method\": \"animate\"}]}]},\n",
       "            {\"showLink\": true, \"linkText\": \"Export to plot.ly\"}\n",
       "        ).then(function () {return Plotly.addFrames('984c804f-2993-469e-91c9-ac3499b39ad2',[{\"data\": [{\"x\": [36000229, 37304797, 18982395, 20052263, 26488548, 21777102, 2024721, 19244810, 59748319, 35059493, 4407416, 16767126, 6414560, 18634396, 28721187, 28788604, 61810366, 28865259, 12510807, 114176129], \"y\": [5.82, 5.99, 6.47, 7.11, 5.88, 6.24, 7.27, 6.39, 5.68, 6.04, 7.5, 5.59, 5.27, 6.24, 6.19, 5.59, 5.22, 6.12, 6.57, 7.2], \"mode\": \"markers\", \"text\": [\"Genre: Action<br>Mean: 5.82<br>Movie Count: 54<br>Mean BoxOffice: 36.0M\", \"Genre: Adventure<br>Mean: 5.99<br>Movie Count: 29<br>Mean BoxOffice: 37.3M\", \"Genre: Animation<br>Mean: 6.47<br>Movie Count: 7<br>Mean BoxOffice: 18.98M\", \"Genre: Biography<br>Mean: 7.11<br>Movie Count: 8<br>Mean BoxOffice: 20.05M\", \"Genre: Comedy<br>Mean: 5.88<br>Movie Count: 93<br>Mean BoxOffice: 26.49M\", \"Genre: Crime<br>Mean: 6.24<br>Movie Count: 48<br>Mean BoxOffice: 21.78M\", \"Genre: Documentary<br>Mean: 7.27<br>Movie Count: 10<br>Mean BoxOffice: 2.02M\", \"Genre: Drama<br>Mean: 6.39<br>Movie Count: 101<br>Mean BoxOffice: 19.24M\", \"Genre: Family<br>Mean: 5.68<br>Movie Count: 13<br>Mean BoxOffice: 59.75M\", \"Genre: Fantasy<br>Mean: 6.04<br>Movie Count: 17<br>Mean BoxOffice: 35.06M\", \"Genre: History<br>Mean: 7.5<br>Movie Count: 4<br>Mean BoxOffice: 4.41M\", \"Genre: Horror<br>Mean: 5.59<br>Movie Count: 38<br>Mean BoxOffice: 16.77M\", \"Genre: Musical<br>Mean: 5.27<br>Movie Count: 3<br>Mean BoxOffice: 6.41M\", \"Genre: Mystery<br>Mean: 6.24<br>Movie Count: 13<br>Mean BoxOffice: 18.63M\", \"Genre: Romance<br>Mean: 6.19<br>Movie Count: 30<br>Mean BoxOffice: 28.72M\", \"Genre: Sci-Fi<br>Mean: 5.59<br>Movie Count: 19<br>Mean BoxOffice: 28.79M\", \"Genre: Sport<br>Mean: 5.22<br>Movie Count: 4<br>Mean BoxOffice: 61.81M\", \"Genre: Thriller<br>Mean: 6.12<br>Movie Count: 37<br>Mean BoxOffice: 28.87M\", \"Genre: War<br>Mean: 6.57<br>Movie Count: 3<br>Mean BoxOffice: 12.51M\", \"Genre: Western<br>Mean: 7.2<br>Movie Count: 2<br>Mean BoxOffice: 114.18M\"], \"hoverinfo\": \"text\", \"marker\": {\"size\": [54, 29, 7, 8, 93, 48, 10, 101, 13, 17, 4, 38, 3, 13, 30, 19, 4, 37, 3, 2]}}], \"name\": 1990}, {\"data\": [{\"x\": [37959481, 48388954, 64009098, 19857494, 22157214, 22788517, 16034269, 20235923, 27701556, 29225342, 42987724, 15799800, 44757, 30257992, 22210379, 33584939, 17725500, 28631659, 2500677, 2672015], \"y\": [5.67, 6.11, 6.7, 7.01, 5.92, 6.18, 7.18, 6.35, 5.62, 5.88, 7.19, 5.03, 5.8, 6.58, 6.28, 5.14, 5.53, 5.78, 6.86, 6.88], \"mode\": \"markers\", \"text\": [\"Genre: Action<br>Mean: 5.67<br>Movie Count: 65<br>Mean BoxOffice: 37.96M\", \"Genre: Adventure<br>Mean: 6.11<br>Movie Count: 39<br>Mean BoxOffice: 48.39M\", \"Genre: Animation<br>Mean: 6.7<br>Movie Count: 8<br>Mean BoxOffice: 64.01M\", \"Genre: Biography<br>Mean: 7.01<br>Movie Count: 19<br>Mean BoxOffice: 19.86M\", \"Genre: Comedy<br>Mean: 5.92<br>Movie Count: 115<br>Mean BoxOffice: 22.16M\", \"Genre: Crime<br>Mean: 6.18<br>Movie Count: 66<br>Mean BoxOffice: 22.79M\", \"Genre: Documentary<br>Mean: 7.18<br>Movie Count: 23<br>Mean BoxOffice: 16.03M\", \"Genre: Drama<br>Mean: 6.35<br>Movie Count: 178<br>Mean BoxOffice: 20.24M\", \"Genre: Family<br>Mean: 5.62<br>Movie Count: 29<br>Mean BoxOffice: 27.7M\", \"Genre: Fantasy<br>Mean: 5.88<br>Movie Count: 20<br>Mean BoxOffice: 29.23M\", \"Genre: History<br>Mean: 7.19<br>Movie Count: 10<br>Mean BoxOffice: 42.99M\", \"Genre: Horror<br>Mean: 5.03<br>Movie Count: 29<br>Mean BoxOffice: 15.8M\", \"Genre: Musical<br>Mean: 5.8<br>Movie Count: 1<br>Mean BoxOffice: 0.04M\", \"Genre: Mystery<br>Mean: 6.58<br>Movie Count: 20<br>Mean BoxOffice: 30.26M\", \"Genre: Romance<br>Mean: 6.28<br>Movie Count: 58<br>Mean BoxOffice: 22.21M\", \"Genre: Sci-Fi<br>Mean: 5.14<br>Movie Count: 18<br>Mean BoxOffice: 33.58M\", \"Genre: Sport<br>Mean: 5.53<br>Movie Count: 3<br>Mean BoxOffice: 17.73M\", \"Genre: Thriller<br>Mean: 5.78<br>Movie Count: 49<br>Mean BoxOffice: 28.63M\", \"Genre: War<br>Mean: 6.86<br>Movie Count: 5<br>Mean BoxOffice: 2.5M\", \"Genre: Western<br>Mean: 6.88<br>Movie Count: 4<br>Mean BoxOffice: 2.67M\"], \"hoverinfo\": \"text\", \"marker\": {\"size\": [65, 39, 8, 19, 115, 66, 23, 178, 29, 20, 10, 29, 1, 20, 58, 18, 3, 49, 5, 4]}}], \"name\": 1995}, {\"data\": [{\"x\": [57460535, 66035926, 56509193, 26244618, 30521642, 21971977, 2756527, 20765821, 67855307, 63740758, 21605052, 41391617, 2220891, 21786399, 20701341, 57764252, 32409496, 33944486, 34730735, 7771867], \"y\": [5.62, 5.84, 6.48, 7.15, 5.92, 6.22, 7.4, 6.3, 5.59, 5.34, 7.39, 5.21, 7.05, 5.76, 6.12, 5.42, 6.38, 5.71, 6.95, 4.95], \"mode\": \"markers\", \"text\": [\"Genre: Action<br>Mean: 5.62<br>Movie Count: 57<br>Mean BoxOffice: 57.46M\", \"Genre: Adventure<br>Mean: 5.84<br>Movie Count: 42<br>Mean BoxOffice: 66.04M\", \"Genre: Animation<br>Mean: 6.48<br>Movie Count: 19<br>Mean BoxOffice: 56.51M\", \"Genre: Biography<br>Mean: 7.15<br>Movie Count: 25<br>Mean BoxOffice: 26.24M\", \"Genre: Comedy<br>Mean: 5.92<br>Movie Count: 144<br>Mean BoxOffice: 30.52M\", \"Genre: Crime<br>Mean: 6.22<br>Movie Count: 60<br>Mean BoxOffice: 21.97M\", \"Genre: Documentary<br>Mean: 7.4<br>Movie Count: 40<br>Mean BoxOffice: 2.76M\", \"Genre: Drama<br>Mean: 6.3<br>Movie Count: 180<br>Mean BoxOffice: 20.77M\", \"Genre: Family<br>Mean: 5.59<br>Movie Count: 17<br>Mean BoxOffice: 67.86M\", \"Genre: Fantasy<br>Mean: 5.34<br>Movie Count: 25<br>Mean BoxOffice: 63.74M\", \"Genre: History<br>Mean: 7.39<br>Movie Count: 10<br>Mean BoxOffice: 21.61M\", \"Genre: Horror<br>Mean: 5.21<br>Movie Count: 39<br>Mean BoxOffice: 41.39M\", \"Genre: Musical<br>Mean: 7.05<br>Movie Count: 2<br>Mean BoxOffice: 2.22M\", \"Genre: Mystery<br>Mean: 5.76<br>Movie Count: 26<br>Mean BoxOffice: 21.79M\", \"Genre: Romance<br>Mean: 6.12<br>Movie Count: 75<br>Mean BoxOffice: 20.7M\", \"Genre: Sci-Fi<br>Mean: 5.42<br>Movie Count: 17<br>Mean BoxOffice: 57.76M\", \"Genre: Sport<br>Mean: 6.38<br>Movie Count: 11<br>Mean BoxOffice: 32.41M\", \"Genre: Thriller<br>Mean: 5.71<br>Movie Count: 50<br>Mean BoxOffice: 33.94M\", \"Genre: War<br>Mean: 6.95<br>Movie Count: 4<br>Mean BoxOffice: 34.73M\", \"Genre: Western<br>Mean: 4.95<br>Movie Count: 2<br>Mean BoxOffice: 7.77M\"], \"hoverinfo\": \"text\", \"marker\": {\"size\": [57, 42, 19, 25, 144, 60, 40, 180, 17, 25, 10, 39, 2, 26, 75, 17, 11, 50, 4, 2]}}], \"name\": 2000}, {\"data\": [{\"x\": [47968347, 77790454, 81838410, 18408767, 31562210, 28591678, 1681682, 19268874, 63124970, 78590495, 12456196, 31415766, 10184046, 37251990, 27619050, 62415939, 29150311, 33521425, 18572493, 45356386], \"y\": [5.56, 5.87, 6.52, 7.14, 5.99, 6.02, 7.36, 6.45, 5.99, 5.64, 7.25, 5.11, 6.16, 6.04, 6.26, 5.32, 6.89, 5.8, 7.03, 6.65], \"mode\": \"markers\", \"text\": [\"Genre: Action<br>Mean: 5.56<br>Movie Count: 67<br>Mean BoxOffice: 47.97M\", \"Genre: Adventure<br>Mean: 5.87<br>Movie Count: 60<br>Mean BoxOffice: 77.79M\", \"Genre: Animation<br>Mean: 6.52<br>Movie Count: 18<br>Mean BoxOffice: 81.84M\", \"Genre: Biography<br>Mean: 7.14<br>Movie Count: 27<br>Mean BoxOffice: 18.41M\", \"Genre: Comedy<br>Mean: 5.99<br>Movie Count: 163<br>Mean BoxOffice: 31.56M\", \"Genre: Crime<br>Mean: 6.02<br>Movie Count: 59<br>Mean BoxOffice: 28.59M\", \"Genre: Documentary<br>Mean: 7.36<br>Movie Count: 64<br>Mean BoxOffice: 1.68M\", \"Genre: Drama<br>Mean: 6.45<br>Movie Count: 205<br>Mean BoxOffice: 19.27M\", \"Genre: Family<br>Mean: 5.99<br>Movie Count: 35<br>Mean BoxOffice: 63.12M\", \"Genre: Fantasy<br>Mean: 5.64<br>Movie Count: 23<br>Mean BoxOffice: 78.59M\", \"Genre: History<br>Mean: 7.25<br>Movie Count: 13<br>Mean BoxOffice: 12.46M\", \"Genre: Horror<br>Mean: 5.11<br>Movie Count: 50<br>Mean BoxOffice: 31.42M\", \"Genre: Musical<br>Mean: 6.16<br>Movie Count: 5<br>Mean BoxOffice: 10.18M\", \"Genre: Mystery<br>Mean: 6.04<br>Movie Count: 32<br>Mean BoxOffice: 37.25M\", \"Genre: Romance<br>Mean: 6.26<br>Movie Count: 67<br>Mean BoxOffice: 27.62M\", \"Genre: Sci-Fi<br>Mean: 5.32<br>Movie Count: 15<br>Mean BoxOffice: 62.42M\", \"Genre: Sport<br>Mean: 6.89<br>Movie Count: 19<br>Mean BoxOffice: 29.15M\", \"Genre: Thriller<br>Mean: 5.8<br>Movie Count: 53<br>Mean BoxOffice: 33.52M\", \"Genre: War<br>Mean: 7.03<br>Movie Count: 6<br>Mean BoxOffice: 18.57M\", \"Genre: Western<br>Mean: 6.65<br>Movie Count: 2<br>Mean BoxOffice: 45.36M\"], \"hoverinfo\": \"text\", \"marker\": {\"size\": [67, 60, 18, 27, 163, 59, 64, 205, 35, 23, 13, 50, 5, 32, 67, 15, 19, 53, 6, 2]}}], \"name\": 2005}, {\"data\": [{\"x\": [73557596, 123040636, 128231076, 18997634, 39622854, 25328552, 3136140, 23013522, 73345615, 86657065, 3368174, 27316945, 39440655, 27171755, 26097296, 76455746, 19489120, 28167730, 27176408, 86004473], \"y\": [5.98, 6.31, 6.89, 7.33, 6.05, 6.03, 7.27, 6.31, 5.92, 5.87, 7.12, 5.07, 7.55, 5.82, 6.1, 5.29, 7.12, 5.56, 7.2, 6.27], \"mode\": \"markers\", \"text\": [\"Genre: Action<br>Mean: 5.98<br>Movie Count: 77<br>Mean BoxOffice: 73.56M\", \"Genre: Adventure<br>Mean: 6.31<br>Movie Count: 58<br>Mean BoxOffice: 123.04M\", \"Genre: Animation<br>Mean: 6.89<br>Movie Count: 28<br>Mean BoxOffice: 128.23M\", \"Genre: Biography<br>Mean: 7.33<br>Movie Count: 40<br>Mean BoxOffice: 19.0M\", \"Genre: Comedy<br>Mean: 6.05<br>Movie Count: 166<br>Mean BoxOffice: 39.62M\", \"Genre: Crime<br>Mean: 6.03<br>Movie Count: 56<br>Mean BoxOffice: 25.33M\", \"Genre: Documentary<br>Mean: 7.27<br>Movie Count: 116<br>Mean BoxOffice: 3.14M\", \"Genre: Drama<br>Mean: 6.31<br>Movie Count: 201<br>Mean BoxOffice: 23.01M\", \"Genre: Family<br>Mean: 5.92<br>Movie Count: 37<br>Mean BoxOffice: 73.35M\", \"Genre: Fantasy<br>Mean: 5.87<br>Movie Count: 27<br>Mean BoxOffice: 86.66M\", \"Genre: History<br>Mean: 7.12<br>Movie Count: 13<br>Mean BoxOffice: 3.37M\", \"Genre: Horror<br>Mean: 5.07<br>Movie Count: 59<br>Mean BoxOffice: 27.32M\", \"Genre: Musical<br>Mean: 7.55<br>Movie Count: 2<br>Mean BoxOffice: 39.44M\", \"Genre: Mystery<br>Mean: 5.82<br>Movie Count: 33<br>Mean BoxOffice: 27.17M\", \"Genre: Romance<br>Mean: 6.1<br>Movie Count: 79<br>Mean BoxOffice: 26.1M\", \"Genre: Sci-Fi<br>Mean: 5.29<br>Movie Count: 30<br>Mean BoxOffice: 76.46M\", \"Genre: Sport<br>Mean: 7.12<br>Movie Count: 11<br>Mean BoxOffice: 19.49M\", \"Genre: Thriller<br>Mean: 5.56<br>Movie Count: 77<br>Mean BoxOffice: 28.17M\", \"Genre: War<br>Mean: 7.2<br>Movie Count: 5<br>Mean BoxOffice: 27.18M\", \"Genre: Western<br>Mean: 6.27<br>Movie Count: 3<br>Mean BoxOffice: 86.0M\"], \"hoverinfo\": \"text\", \"marker\": {\"size\": [77, 58, 28, 40, 166, 56, 116, 201, 37, 27, 13, 59, 2, 33, 79, 30, 11, 77, 5, 3]}}], \"name\": 2010}, {\"data\": [{\"x\": [101581247, 119569786, 86721295, 34154189, 35925551, 34053473, 999284, 31011063, 78956661, 43531526, 14169406, 15233326, 137945, 37588657, 23521490, 123323056, 37185254, 38809548, 29575419, 22522284], \"y\": [6.07, 6.35, 6.75, 7.06, 6.12, 6.34, 7.14, 6.34, 6.15, 5.47, 6.88, 5.24, 5.6, 6.02, 6.2, 5.94, 7.19, 5.67, 6.47, 6.93], \"mode\": \"markers\", \"text\": [\"Genre: Action<br>Mean: 6.07<br>Movie Count: 77<br>Mean BoxOffice: 101.58M\", \"Genre: Adventure<br>Mean: 6.35<br>Movie Count: 59<br>Mean BoxOffice: 119.57M\", \"Genre: Animation<br>Mean: 6.75<br>Movie Count: 22<br>Mean BoxOffice: 86.72M\", \"Genre: Biography<br>Mean: 7.06<br>Movie Count: 46<br>Mean BoxOffice: 34.15M\", \"Genre: Comedy<br>Mean: 6.12<br>Movie Count: 144<br>Mean BoxOffice: 35.93M\", \"Genre: Crime<br>Mean: 6.34<br>Movie Count: 53<br>Mean BoxOffice: 34.05M\", \"Genre: Documentary<br>Mean: 7.14<br>Movie Count: 70<br>Mean BoxOffice: 1.0M\", \"Genre: Drama<br>Mean: 6.34<br>Movie Count: 184<br>Mean BoxOffice: 31.01M\", \"Genre: Family<br>Mean: 6.15<br>Movie Count: 20<br>Mean BoxOffice: 78.96M\", \"Genre: Fantasy<br>Mean: 5.47<br>Movie Count: 24<br>Mean BoxOffice: 43.53M\", \"Genre: History<br>Mean: 6.88<br>Movie Count: 14<br>Mean BoxOffice: 14.17M\", \"Genre: Horror<br>Mean: 5.24<br>Movie Count: 54<br>Mean BoxOffice: 15.23M\", \"Genre: Musical<br>Mean: 5.6<br>Movie Count: 2<br>Mean BoxOffice: 0.14M\", \"Genre: Mystery<br>Mean: 6.02<br>Movie Count: 29<br>Mean BoxOffice: 37.59M\", \"Genre: Romance<br>Mean: 6.2<br>Movie Count: 60<br>Mean BoxOffice: 23.52M\", \"Genre: Sci-Fi<br>Mean: 5.94<br>Movie Count: 37<br>Mean BoxOffice: 123.32M\", \"Genre: Sport<br>Mean: 7.19<br>Movie Count: 10<br>Mean BoxOffice: 37.19M\", \"Genre: Thriller<br>Mean: 5.67<br>Movie Count: 74<br>Mean BoxOffice: 38.81M\", \"Genre: War<br>Mean: 6.47<br>Movie Count: 11<br>Mean BoxOffice: 29.58M\", \"Genre: Western<br>Mean: 6.93<br>Movie Count: 3<br>Mean BoxOffice: 22.52M\"], \"hoverinfo\": \"text\", \"marker\": {\"size\": [77, 59, 22, 46, 144, 53, 70, 184, 20, 24, 14, 54, 2, 29, 60, 37, 10, 74, 11, 3]}}], \"name\": 2014}]);}).then(function(){Plotly.animate('984c804f-2993-469e-91c9-ac3499b39ad2');})\n",
       "        });</script>"
      ]
     },
     "metadata": {},
     "output_type": "display_data"
    }
   ],
   "source": [
    "'''\n",
    "Plotting the dataset\n",
    "'''\n",
    "# plot(figure)\n",
    "iplot(figure)"
   ]
  },
  {
   "cell_type": "code",
   "execution_count": null,
   "metadata": {
    "collapsed": true
   },
   "outputs": [],
   "source": []
  }
 ],
 "metadata": {
  "kernelspec": {
   "display_name": "Python 3",
   "language": "python",
   "name": "python3"
  },
  "language_info": {
   "codemirror_mode": {
    "name": "ipython",
    "version": 3
   },
   "file_extension": ".py",
   "mimetype": "text/x-python",
   "name": "python",
   "nbconvert_exporter": "python",
   "pygments_lexer": "ipython3",
   "version": "3.6.1"
  }
 },
 "nbformat": 4,
 "nbformat_minor": 2
}
