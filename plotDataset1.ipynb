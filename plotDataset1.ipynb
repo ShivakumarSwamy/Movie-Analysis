{
 "cells": [
  {
   "cell_type": "code",
   "execution_count": 1,
   "metadata": {},
   "outputs": [
    {
     "data": {
      "text/html": [
       "<script>requirejs.config({paths: { 'plotly': ['https://cdn.plot.ly/plotly-latest.min']},});if(!window.Plotly) {{require(['plotly'],function(plotly) {window.Plotly=plotly;});}}</script>"
      ],
      "text/vnd.plotly.v1+html": [
       "<script>requirejs.config({paths: { 'plotly': ['https://cdn.plot.ly/plotly-latest.min']},});if(!window.Plotly) {{require(['plotly'],function(plotly) {window.Plotly=plotly;});}}</script>"
      ]
     },
     "metadata": {},
     "output_type": "display_data"
    }
   ],
   "source": [
    "import pandas as pd\n",
    "import random\n",
    "from plotly.graph_objs import *\n",
    "'''\n",
    "Using plotly offline mode\n",
    "'''\n",
    "from plotly.offline import init_notebook_mode,iplot,plot\n",
    "init_notebook_mode(connected=True)"
   ]
  },
  {
   "cell_type": "code",
   "execution_count": 2,
   "metadata": {
    "collapsed": true
   },
   "outputs": [],
   "source": [
    "'''\n",
    "Reading the Dataset\n",
    "'''\n",
    "dataset = pd.read_csv('finalDataset.csv')"
   ]
  },
  {
   "cell_type": "code",
   "execution_count": 3,
   "metadata": {},
   "outputs": [
    {
     "data": {
      "text/html": [
       "<div>\n",
       "<style>\n",
       "    .dataframe thead tr:only-child th {\n",
       "        text-align: right;\n",
       "    }\n",
       "\n",
       "    .dataframe thead th {\n",
       "        text-align: left;\n",
       "    }\n",
       "\n",
       "    .dataframe tbody tr th {\n",
       "        vertical-align: top;\n",
       "    }\n",
       "</style>\n",
       "<table border=\"1\" class=\"dataframe\">\n",
       "  <thead>\n",
       "    <tr style=\"text-align: right;\">\n",
       "      <th></th>\n",
       "      <th>TMDB ID</th>\n",
       "      <th>IMDB ID</th>\n",
       "      <th>TITLE</th>\n",
       "      <th>YEAR</th>\n",
       "      <th>GENRE</th>\n",
       "      <th>RATING</th>\n",
       "      <th>RELEASED</th>\n",
       "      <th>ACTORS</th>\n",
       "      <th>AWARDS</th>\n",
       "      <th>COUNTRY</th>\n",
       "      <th>LANGUAGE</th>\n",
       "      <th>BOX OFFICE</th>\n",
       "      <th>ADJ. BOX OFFICE</th>\n",
       "    </tr>\n",
       "  </thead>\n",
       "  <tbody>\n",
       "    <tr>\n",
       "      <th>0</th>\n",
       "      <td>862</td>\n",
       "      <td>tt0114709</td>\n",
       "      <td>Toy Story</td>\n",
       "      <td>1995</td>\n",
       "      <td>Animation, Adventure, Comedy</td>\n",
       "      <td>8.3</td>\n",
       "      <td>22 Nov 1995</td>\n",
       "      <td>Tom Hanks, Tim Allen, Don Rickles, Jim Varney</td>\n",
       "      <td>Nominated for 3 Oscars. Another 23 wins &amp; 18 n...</td>\n",
       "      <td>USA</td>\n",
       "      <td>English</td>\n",
       "      <td>191796233.0</td>\n",
       "      <td>360224189.0</td>\n",
       "    </tr>\n",
       "    <tr>\n",
       "      <th>1</th>\n",
       "      <td>8844</td>\n",
       "      <td>tt0113497</td>\n",
       "      <td>Jumanji</td>\n",
       "      <td>1995</td>\n",
       "      <td>Action, Adventure, Family</td>\n",
       "      <td>6.9</td>\n",
       "      <td>15 Dec 1995</td>\n",
       "      <td>Robin Williams, Jonathan Hyde, Kirsten Dunst, ...</td>\n",
       "      <td>4 wins &amp; 9 nominations.</td>\n",
       "      <td>USA</td>\n",
       "      <td>English, French</td>\n",
       "      <td>100200000.0</td>\n",
       "      <td>188191724.0</td>\n",
       "    </tr>\n",
       "    <tr>\n",
       "      <th>2</th>\n",
       "      <td>15602</td>\n",
       "      <td>tt0113228</td>\n",
       "      <td>Grumpier Old Men</td>\n",
       "      <td>1995</td>\n",
       "      <td>Comedy, Romance</td>\n",
       "      <td>6.6</td>\n",
       "      <td>22 Dec 1995</td>\n",
       "      <td>Walter Matthau, Jack Lemmon, Sophia Loren, Ann...</td>\n",
       "      <td>2 wins &amp; 2 nominations.</td>\n",
       "      <td>USA</td>\n",
       "      <td>English</td>\n",
       "      <td>69870000.0</td>\n",
       "      <td>131227103.0</td>\n",
       "    </tr>\n",
       "  </tbody>\n",
       "</table>\n",
       "</div>"
      ],
      "text/plain": [
       "   TMDB ID    IMDB ID             TITLE  YEAR                         GENRE  \\\n",
       "0      862  tt0114709         Toy Story  1995  Animation, Adventure, Comedy   \n",
       "1     8844  tt0113497           Jumanji  1995     Action, Adventure, Family   \n",
       "2    15602  tt0113228  Grumpier Old Men  1995               Comedy, Romance   \n",
       "\n",
       "   RATING     RELEASED                                             ACTORS  \\\n",
       "0     8.3  22 Nov 1995      Tom Hanks, Tim Allen, Don Rickles, Jim Varney   \n",
       "1     6.9  15 Dec 1995  Robin Williams, Jonathan Hyde, Kirsten Dunst, ...   \n",
       "2     6.6  22 Dec 1995  Walter Matthau, Jack Lemmon, Sophia Loren, Ann...   \n",
       "\n",
       "                                              AWARDS COUNTRY         LANGUAGE  \\\n",
       "0  Nominated for 3 Oscars. Another 23 wins & 18 n...     USA          English   \n",
       "1                            4 wins & 9 nominations.     USA  English, French   \n",
       "2                            2 wins & 2 nominations.     USA          English   \n",
       "\n",
       "    BOX OFFICE  ADJ. BOX OFFICE  \n",
       "0  191796233.0      360224189.0  \n",
       "1  100200000.0      188191724.0  \n",
       "2   69870000.0      131227103.0  "
      ]
     },
     "execution_count": 3,
     "metadata": {},
     "output_type": "execute_result"
    }
   ],
   "source": [
    "'''\n",
    "Snapshot of Dataset\n",
    "'''\n",
    "dataset.head(3)"
   ]
  },
  {
   "cell_type": "code",
   "execution_count": 4,
   "metadata": {
    "collapsed": true
   },
   "outputs": [],
   "source": [
    "'''\n",
    "List of Year's\n",
    "'''\n",
    "yearList = [1990, 1995, 2000, 2005, 2010, 2014]\n",
    "\n",
    "'''\n",
    "List of Genres\n",
    "'''\n",
    "genreList = ['Action', 'Adventure', 'Animation', 'Biography', 'Comedy', 'Crime', \\\n",
    " 'Documentary', 'Drama', 'Family', 'Fantasy', 'History', 'Horror', \\\n",
    " 'Musical', 'Mystery' ,'Romance', 'Sci-Fi', 'Sport', 'Thriller', 'War', 'Western']"
   ]
  },
  {
   "cell_type": "code",
   "execution_count": 5,
   "metadata": {
    "collapsed": true
   },
   "outputs": [],
   "source": [
    "'''\n",
    "Function to calcuate mean rating for specific genre and year\n",
    "'''\n",
    "def calculateMeanRating(genre, year):\n",
    "    return round(dataset[(dataset.GENRE.str.contains(genre, na = False)) & (dataset.YEAR == year)]['RATING'].mean(),2)\n",
    "\n",
    "'''\n",
    "Function to calculate movie count for specific genre year\n",
    "'''\n",
    "def calculateMovieCount(genre, year):\n",
    "    return len(dataset[(dataset.GENRE.str.contains(genre, na = False)) & (dataset.YEAR == year)])\n",
    "\n",
    "'''\n",
    "Function to calculate box office avg for specific genre year\n",
    "'''\n",
    "def calculateMeanBoxOffice(genre, year):\n",
    "    return int(dataset[(dataset.GENRE.str.contains(genre, na = False)) & (dataset.YEAR == year)]['BOX OFFICE'].mean())\n"
   ]
  },
  {
   "cell_type": "code",
   "execution_count": 6,
   "metadata": {
    "collapsed": true
   },
   "outputs": [],
   "source": [
    "'''\n",
    "First Index: Mean Rating for each genre\n",
    "Second Index: Movie Count for each gerne\n",
    "Third Index: Mean Box Office for genre\n",
    "'''\n",
    "list1990 = [[calculateMeanRating(genre, yearList[0]) for genre in genreList], \\\n",
    "           [calculateMovieCount(genre, yearList[0]) for genre in genreList], \\\n",
    "           [calculateMeanBoxOffice(genre, yearList[0]) for genre in genreList]]\n",
    "\n",
    "list1995 = [[calculateMeanRating(genre, yearList[1]) for genre in genreList], \\\n",
    "           [calculateMovieCount(genre, yearList[1]) for genre in genreList], \\\n",
    "           [calculateMeanBoxOffice(genre, yearList[1]) for genre in genreList]]\n",
    "\n",
    "list2000 = [[calculateMeanRating(genre, yearList[2]) for genre in genreList], \\\n",
    "           [calculateMovieCount(genre, yearList[2]) for genre in genreList], \\\n",
    "           [calculateMeanBoxOffice(genre, yearList[2]) for genre in genreList]]\n",
    "\n",
    "list2005 = [[calculateMeanRating(genre, yearList[3]) for genre in genreList], \\\n",
    "           [calculateMovieCount(genre, yearList[3]) for genre in genreList], \\\n",
    "           [calculateMeanBoxOffice(genre, yearList[3]) for genre in genreList]]\n",
    "\n",
    "list2010 = [[calculateMeanRating(genre, yearList[4]) for genre in genreList], \\\n",
    "           [calculateMovieCount(genre, yearList[4]) for genre in genreList], \\\n",
    "           [calculateMeanBoxOffice(genre, yearList[4]) for genre in genreList]]\n",
    "\n",
    "list2014 = [[calculateMeanRating(genre, yearList[5]) for genre in genreList], \\\n",
    "           [calculateMovieCount(genre, yearList[5]) for genre in genreList], \\\n",
    "           [calculateMeanBoxOffice(genre, yearList[5]) for genre in genreList]]"
   ]
  },
  {
   "cell_type": "code",
   "execution_count": 7,
   "metadata": {},
   "outputs": [
    {
     "data": {
      "text/plain": [
       "(5.82, 54, 36000229)"
      ]
     },
     "execution_count": 7,
     "metadata": {},
     "output_type": "execute_result"
    }
   ],
   "source": [
    "list1990[0][0], list1990[1][0], list1990[2][0]"
   ]
  },
  {
   "cell_type": "code",
   "execution_count": 8,
   "metadata": {
    "collapsed": true
   },
   "outputs": [],
   "source": [
    "randomColorList = [random.sample(range(255), 20), random.sample(range(255), 20), random.sample(range(255), 20)]"
   ]
  },
  {
   "cell_type": "code",
   "execution_count": 9,
   "metadata": {},
   "outputs": [
    {
     "data": {
      "text/plain": [
       "172"
      ]
     },
     "execution_count": 9,
     "metadata": {},
     "output_type": "execute_result"
    }
   ],
   "source": [
    "randomColorList[0][0]"
   ]
  },
  {
   "cell_type": "code",
   "execution_count": 93,
   "metadata": {},
   "outputs": [],
   "source": [
    "def data_(rating, movieCount, boxoffice, genre, i):\n",
    "    \n",
    "    return {\n",
    "        'x' : [boxoffice],\n",
    "        'y' : [rating],\n",
    "        'name': genre,\n",
    "        'mode' : 'markers',\n",
    "        'marker': {\n",
    "            'size' : [movieCount],\n",
    "            'sizemode' : 'diameter',\n",
    "            'color' : 'rgb({},{},{})'.format(randomColorList[0][i], randomColorList[1][i], randomColorList[2][i]),\n",
    "            'line' : {\n",
    "                'width' : 1\n",
    "            } \n",
    "        },\n",
    "        'text' : 'Genre: ' + genre + \\\n",
    "                 '<br>Mean Rating: ' + str(rating) + \\\n",
    "                 '<br>Movie Count: ' + str(movieCount) + \\\n",
    "                 '<br>Mean Box Office: ' + str(round(boxoffice/1000000, 2)) + 'M',\n",
    "        'hoverinfo': 'text'\n",
    "    }"
   ]
  },
  {
   "cell_type": "code",
   "execution_count": 94,
   "metadata": {
    "collapsed": true
   },
   "outputs": [],
   "source": [
    "figure = {\n",
    "    'data' : [], \n",
    "    'layout' : {},\n",
    "    'frames' : []\n",
    "}\n",
    "\n",
    "figure['layout']['xaxis'] = {'title' : ' Mean Box Office',\n",
    "                             'titlefont' : {\n",
    "                                 'size' : 16, 'family' : 'Droid Sans'\n",
    "                             },\n",
    "                            'showline' : True,\n",
    "                            'zeroline' : False,\n",
    "                            'range' : [-10000000, 140000000],\n",
    "                            'gridcolor' : '#FFFFFF',\n",
    "                            'ticks' : 'outside',\n",
    "                            'tickwidth' : 2}\n",
    "\n",
    "figure['layout']['yaxis'] = {'title' : 'Mean Rating',\n",
    "                            'titlefont' : {\n",
    "                                'size' : 16, 'family' : 'Droid Sans'\n",
    "                            },\n",
    "                            'showline' : True,\n",
    "                            'range' : [3.5,9],\n",
    "                            'gridcolor' : '#FFFFFF',\n",
    "                            'ticks' : 'outside',\n",
    "                            'tickwidth' : 2}\n",
    "\n",
    "figure['layout']['title'] = 'Movie Analysis'\n",
    "\n",
    "figure['layout']['titlefont'] = {'size' : 28, 'family' : 'Times New Roman'}\n",
    "\n",
    "figure['layout']['plot_bgcolor'] = 'rgb(223,232,243)'\n",
    "\n",
    "figure['layout']['updatemenus'] = [\n",
    "    {\n",
    "        'type': 'buttons',\n",
    "        'buttons' : [{\n",
    "            'label' : 'Play',\n",
    "            'method' : 'animate',\n",
    "            'args' : [None, {'frame' : {'duration' : 500, 'redraw': False},'fromcurrent': True,\n",
    "                             'transistion' : {'duration': 300, 'easing': 'quadratic-in-out'}}]\n",
    "        },\n",
    "        {\n",
    "            'label' :'Pause',\n",
    "            'method' : 'animate',\n",
    "            'args' : [[None], {'frame' : {'duration' : 0, 'redraw' : False}, 'mode': 'immediate',\n",
    "                                'transistion': {'duration': 0}}]\n",
    "        }],\n",
    "        'direction' : 'left',\n",
    "        'pad': {'r': 10, 't': 87},\n",
    "        'showactive' : False,\n",
    "        'x': 0.1,\n",
    "        'y': 0,\n",
    "        'xanchor': 'right',\n",
    "        'yanchor': 'top'\n",
    "    }\n",
    "]"
   ]
  },
  {
   "cell_type": "code",
   "execution_count": 95,
   "metadata": {
    "collapsed": true
   },
   "outputs": [],
   "source": [
    "for i in range(20):\n",
    "    figure['data'].append(data_(list1990[0][i], list1990[1][i], list1990[2][i], genreList[i], i))"
   ]
  },
  {
   "cell_type": "code",
   "execution_count": 96,
   "metadata": {
    "collapsed": true
   },
   "outputs": [],
   "source": [
    "sliders_dict = {\n",
    "    'active': 0,\n",
    "    'yanchor': 'top',\n",
    "    'xanchor': 'left',\n",
    "    'currentvalue': {\n",
    "        'font': {'size': 20},\n",
    "        # To show in plot Year: \n",
    "        'prefix': 'Year:',\n",
    "        'visible': True,\n",
    "        'xanchor': 'right'\n",
    "    },\n",
    "    'transition': {'duration': 300, 'easing': 'cubic-in-out'},\n",
    "    'pad': {'b': 10, 't': 50},\n",
    "    'len': 0.9,\n",
    "    'x': 0.1,\n",
    "    'y': 0,\n",
    "    # Dict of each year will be added later to list \n",
    "    'steps': []\n",
    "}"
   ]
  },
  {
   "cell_type": "code",
   "execution_count": 97,
   "metadata": {
    "collapsed": true
   },
   "outputs": [],
   "source": [
    "for year in yearList:\n",
    "    frame = {'data' : [], 'name': year}\n",
    "    \n",
    "    for i in range(20):\n",
    "        if year == 1990:\n",
    "            frame['data'].append(data_(list1990[0][i], list1990[1][i], list1990[2][i], genreList[i], i))\n",
    "        elif year == 1995:\n",
    "            frame['data'].append(data_(list1995[0][i], list1995[1][i], list1995[2][i], genreList[i], i))\n",
    "        elif year == 2000:\n",
    "            frame['data'].append(data_(list2000[0][i], list2000[1][i], list2000[2][i], genreList[i], i))\n",
    "        elif year == 2005:\n",
    "            frame['data'].append(data_(list2005[0][i], list2005[1][i], list2005[2][i], genreList[i], i))\n",
    "        elif year == 2010:\n",
    "            frame['data'].append(data_(list2010[0][i], list2010[1][i], list2010[2][i], genreList[i], i))\n",
    "        else:\n",
    "            frame['data'].append(data_(list2014[0][i], list2014[1][i], list2014[2][i], genreList[i], i))\n",
    "            \n",
    "    \n",
    "    figure['frames'].append(frame)\n",
    "    slider_step = {'args': [\n",
    "        [year],\n",
    "        {'frame': {'duration': 300, 'redraw': False},\n",
    "         'mode': 'immediate',\n",
    "       'transition': {'duration': 300}}\n",
    "     ],\n",
    "     'label': year,\n",
    "     'method': 'animate'}\n",
    "    sliders_dict['steps'].append(slider_step)\n",
    "\n",
    "    \n",
    "figure['layout']['sliders'] = [sliders_dict]"
   ]
  },
  {
   "cell_type": "code",
   "execution_count": 102,
   "metadata": {},
   "outputs": [],
   "source": [
    "figure['layout']['legend'] = {\n",
    "    'font' : {\n",
    "        'size' : 14\n",
    "    }\n",
    "}"
   ]
  },
  {
   "cell_type": "code",
   "execution_count": 103,
   "metadata": {
    "collapsed": true
   },
   "outputs": [],
   "source": [
    "# figure['frames'][0]"
   ]
  },
  {
   "cell_type": "code",
   "execution_count": 104,
   "metadata": {},
   "outputs": [
    {
     "data": {
      "text/plain": [
       "'file:///Users/shivakumarswamybg/Desktop/Project/temp-plot.html'"
      ]
     },
     "execution_count": 104,
     "metadata": {},
     "output_type": "execute_result"
    }
   ],
   "source": [
    "'''\n",
    "Plotting the dataset\n",
    "'''\n",
    "plot(figure)\n",
    "# iplot(figure)"
   ]
  },
  {
   "cell_type": "code",
   "execution_count": null,
   "metadata": {
    "collapsed": true
   },
   "outputs": [],
   "source": []
  }
 ],
 "metadata": {
  "kernelspec": {
   "display_name": "Python 3",
   "language": "python",
   "name": "python3"
  },
  "language_info": {
   "codemirror_mode": {
    "name": "ipython",
    "version": 3
   },
   "file_extension": ".py",
   "mimetype": "text/x-python",
   "name": "python",
   "nbconvert_exporter": "python",
   "pygments_lexer": "ipython3",
   "version": "3.6.1"
  }
 },
 "nbformat": 4,
 "nbformat_minor": 2
}
