{
 "cells": [
  {
   "cell_type": "code",
   "execution_count": 456,
   "metadata": {},
   "outputs": [
    {
     "data": {
      "text/html": [
       "<script>requirejs.config({paths: { 'plotly': ['https://cdn.plot.ly/plotly-latest.min']},});if(!window.Plotly) {{require(['plotly'],function(plotly) {window.Plotly=plotly;});}}</script>"
      ],
      "text/vnd.plotly.v1+html": [
       "<script>requirejs.config({paths: { 'plotly': ['https://cdn.plot.ly/plotly-latest.min']},});if(!window.Plotly) {{require(['plotly'],function(plotly) {window.Plotly=plotly;});}}</script>"
      ]
     },
     "metadata": {},
     "output_type": "display_data"
    }
   ],
   "source": [
    "import pandas as pd\n",
    "from plotly.graph_objs import *\n",
    "'''\n",
    "Using plotly offline mode\n",
    "'''\n",
    "from plotly.offline import init_notebook_mode,iplot,plot\n",
    "init_notebook_mode(connected=True)"
   ]
  },
  {
   "cell_type": "code",
   "execution_count": 457,
   "metadata": {
    "collapsed": true
   },
   "outputs": [],
   "source": [
    "'''\n",
    "Reading the Dataset\n",
    "'''\n",
    "dataset = pd.read_csv('finalDataset.csv')"
   ]
  },
  {
   "cell_type": "code",
   "execution_count": 458,
   "metadata": {},
   "outputs": [
    {
     "data": {
      "text/html": [
       "<div>\n",
       "<style>\n",
       "    .dataframe thead tr:only-child th {\n",
       "        text-align: right;\n",
       "    }\n",
       "\n",
       "    .dataframe thead th {\n",
       "        text-align: left;\n",
       "    }\n",
       "\n",
       "    .dataframe tbody tr th {\n",
       "        vertical-align: top;\n",
       "    }\n",
       "</style>\n",
       "<table border=\"1\" class=\"dataframe\">\n",
       "  <thead>\n",
       "    <tr style=\"text-align: right;\">\n",
       "      <th></th>\n",
       "      <th>TMDB ID</th>\n",
       "      <th>IMDB ID</th>\n",
       "      <th>TITLE</th>\n",
       "      <th>YEAR</th>\n",
       "      <th>GENRE</th>\n",
       "      <th>RATING</th>\n",
       "      <th>RELEASED</th>\n",
       "      <th>ACTORS</th>\n",
       "      <th>AWARDS</th>\n",
       "      <th>COUNTRY</th>\n",
       "      <th>LANGUAGE</th>\n",
       "      <th>BOX OFFICE</th>\n",
       "      <th>ADJ. BOX OFFICE</th>\n",
       "    </tr>\n",
       "  </thead>\n",
       "  <tbody>\n",
       "    <tr>\n",
       "      <th>0</th>\n",
       "      <td>862</td>\n",
       "      <td>tt0114709</td>\n",
       "      <td>Toy Story</td>\n",
       "      <td>1995</td>\n",
       "      <td>Animation, Adventure, Comedy</td>\n",
       "      <td>8.3</td>\n",
       "      <td>22 Nov 1995</td>\n",
       "      <td>Tom Hanks, Tim Allen, Don Rickles, Jim Varney</td>\n",
       "      <td>Nominated for 3 Oscars. Another 23 wins &amp; 18 n...</td>\n",
       "      <td>USA</td>\n",
       "      <td>English</td>\n",
       "      <td>191796233.0</td>\n",
       "      <td>360224189.0</td>\n",
       "    </tr>\n",
       "    <tr>\n",
       "      <th>1</th>\n",
       "      <td>8844</td>\n",
       "      <td>tt0113497</td>\n",
       "      <td>Jumanji</td>\n",
       "      <td>1995</td>\n",
       "      <td>Action, Adventure, Family</td>\n",
       "      <td>6.9</td>\n",
       "      <td>15 Dec 1995</td>\n",
       "      <td>Robin Williams, Jonathan Hyde, Kirsten Dunst, ...</td>\n",
       "      <td>4 wins &amp; 9 nominations.</td>\n",
       "      <td>USA</td>\n",
       "      <td>English, French</td>\n",
       "      <td>100200000.0</td>\n",
       "      <td>188191724.0</td>\n",
       "    </tr>\n",
       "    <tr>\n",
       "      <th>2</th>\n",
       "      <td>15602</td>\n",
       "      <td>tt0113228</td>\n",
       "      <td>Grumpier Old Men</td>\n",
       "      <td>1995</td>\n",
       "      <td>Comedy, Romance</td>\n",
       "      <td>6.6</td>\n",
       "      <td>22 Dec 1995</td>\n",
       "      <td>Walter Matthau, Jack Lemmon, Sophia Loren, Ann...</td>\n",
       "      <td>2 wins &amp; 2 nominations.</td>\n",
       "      <td>USA</td>\n",
       "      <td>English</td>\n",
       "      <td>69870000.0</td>\n",
       "      <td>131227103.0</td>\n",
       "    </tr>\n",
       "  </tbody>\n",
       "</table>\n",
       "</div>"
      ],
      "text/plain": [
       "   TMDB ID    IMDB ID             TITLE  YEAR                         GENRE  \\\n",
       "0      862  tt0114709         Toy Story  1995  Animation, Adventure, Comedy   \n",
       "1     8844  tt0113497           Jumanji  1995     Action, Adventure, Family   \n",
       "2    15602  tt0113228  Grumpier Old Men  1995               Comedy, Romance   \n",
       "\n",
       "   RATING     RELEASED                                             ACTORS  \\\n",
       "0     8.3  22 Nov 1995      Tom Hanks, Tim Allen, Don Rickles, Jim Varney   \n",
       "1     6.9  15 Dec 1995  Robin Williams, Jonathan Hyde, Kirsten Dunst, ...   \n",
       "2     6.6  22 Dec 1995  Walter Matthau, Jack Lemmon, Sophia Loren, Ann...   \n",
       "\n",
       "                                              AWARDS COUNTRY         LANGUAGE  \\\n",
       "0  Nominated for 3 Oscars. Another 23 wins & 18 n...     USA          English   \n",
       "1                            4 wins & 9 nominations.     USA  English, French   \n",
       "2                            2 wins & 2 nominations.     USA          English   \n",
       "\n",
       "    BOX OFFICE  ADJ. BOX OFFICE  \n",
       "0  191796233.0      360224189.0  \n",
       "1  100200000.0      188191724.0  \n",
       "2   69870000.0      131227103.0  "
      ]
     },
     "execution_count": 458,
     "metadata": {},
     "output_type": "execute_result"
    }
   ],
   "source": [
    "'''\n",
    "Snapshot of Dataset\n",
    "'''\n",
    "dataset.head(3)"
   ]
  },
  {
   "cell_type": "code",
   "execution_count": 459,
   "metadata": {
    "collapsed": true
   },
   "outputs": [],
   "source": [
    "'''\n",
    "List of Year's\n",
    "'''\n",
    "yearList = [1990, 1995, 2000, 2005, 2010, 2014]\n",
    "\n",
    "'''\n",
    "List of Genres\n",
    "'''\n",
    "genreList = ['Action', 'Adventure', 'Animation', 'Biography', 'Comedy', 'Crime', \\\n",
    " 'Documentary', 'Drama', 'Family', 'Fantasy', 'History', 'Horror', \\\n",
    " 'Musical', 'Mystery' ,'Romance', 'Sci-Fi', 'Sport', 'Thriller', 'War', 'Western']"
   ]
  },
  {
   "cell_type": "code",
   "execution_count": 460,
   "metadata": {
    "collapsed": true
   },
   "outputs": [],
   "source": [
    "'''\n",
    "Function to calcuate mean rating for specific genre and year\n",
    "'''\n",
    "def calculateMeanForSpecificGenreAndYear(genre, year):\n",
    "    return round(dataset[(dataset.GENRE.str.contains(genre, na = False)) & (dataset.YEAR == year)]['RATING'].mean(),2)\n",
    "\n",
    "'''\n",
    "Function to calculate movie count for specific genre year\n",
    "'''\n",
    "def calculateMovieCountForSpecificGenreAndYear(genre, year):\n",
    "    return len(dataset[(dataset.GENRE.str.contains(genre, na = False)) & (dataset.YEAR == year)])\n",
    "\n",
    "'''\n",
    "Function to calculate box office avg for specific genre year\n",
    "'''\n",
    "def calculateBoxOfficeAvgForSpecificGenreAndYear(genre, year):\n",
    "    return int(dataset[(dataset.GENRE.str.contains(genre, na = False)) & (dataset.YEAR == year)]['BOX OFFICE'].mean())\n",
    "\n",
    "'''\n",
    "Funtion to calcuate Avg Mean for each Year\n",
    "'''\n",
    "def calculateAvgMeanForEachYear(year):\n",
    "    return round(dataset[dataset.YEAR == year]['RATING'].mean(),2)"
   ]
  },
  {
   "cell_type": "code",
   "execution_count": 461,
   "metadata": {
    "collapsed": true
   },
   "outputs": [],
   "source": [
    "'''\n",
    "First Index: Mean Rating for each genre\n",
    "Second Index: Movie Count for each gerne\n",
    "Third Index: Box Office Avg. for genre\n",
    "'''\n",
    "list1990 = [[],[],[]]\n",
    "list1995 = [[],[],[]]\n",
    "list2000 = [[],[],[]]\n",
    "list2005 = [[],[],[]]\n",
    "list2010 = [[],[],[]]\n",
    "list2014 = [[],[],[]]"
   ]
  },
  {
   "cell_type": "code",
   "execution_count": 462,
   "metadata": {
    "collapsed": true
   },
   "outputs": [],
   "source": [
    "'''\n",
    "Adding Mean Rating, Movie Count, Mean Box Office to corresponding Year list \n",
    "'''\n",
    "for year in yearList:\n",
    "    for genre in genreList:\n",
    "        if year == 1990:\n",
    "            list1990[0].append(calculateMeanForSpecificGenreAndYear(genre, year))\n",
    "            list1990[1].append(calculateMovieCountForSpecificGenreAndYear(genre, year))\n",
    "            list1990[2].append(calculateBoxOfficeAvgForSpecificGenreAndYear(genre, year))\n",
    "        elif year == 1995:\n",
    "            list1995[0].append(calculateMeanForSpecificGenreAndYear(genre, year))\n",
    "            list1995[1].append(calculateMovieCountForSpecificGenreAndYear(genre, year))\n",
    "            list1995[2].append(calculateBoxOfficeAvgForSpecificGenreAndYear(genre, year))\n",
    "        elif year == 2000:    \n",
    "            list2000[0].append(calculateMeanForSpecificGenreAndYear(genre, year))\n",
    "            list2000[1].append(calculateMovieCountForSpecificGenreAndYear(genre, year))\n",
    "            list2000[2].append(calculateBoxOfficeAvgForSpecificGenreAndYear(genre, year))\n",
    "        elif year == 2005:\n",
    "            list2005[0].append(calculateMeanForSpecificGenreAndYear(genre, year))\n",
    "            list2005[1].append(calculateMovieCountForSpecificGenreAndYear(genre, year))\n",
    "            list2005[2].append(calculateBoxOfficeAvgForSpecificGenreAndYear(genre, year))\n",
    "        elif year == 2010:\n",
    "            list2010[0].append(calculateMeanForSpecificGenreAndYear(genre, year))\n",
    "            list2010[1].append(calculateMovieCountForSpecificGenreAndYear(genre, year))\n",
    "            list2010[2].append(calculateBoxOfficeAvgForSpecificGenreAndYear(genre, year))\n",
    "        else:\n",
    "            list2014[0].append(calculateMeanForSpecificGenreAndYear(genre, year))\n",
    "            list2014[1].append(calculateMovieCountForSpecificGenreAndYear(genre, year))\n",
    "            list2014[2].append(calculateBoxOfficeAvgForSpecificGenreAndYear(genre, year))\n",
    "            "
   ]
  },
  {
   "cell_type": "code",
   "execution_count": 463,
   "metadata": {
    "collapsed": true
   },
   "outputs": [],
   "source": [
    "'''\n",
    "Standard Rating For Each YEAR\n",
    "'''\n",
    "listStandardRating = []"
   ]
  },
  {
   "cell_type": "code",
   "execution_count": 464,
   "metadata": {
    "collapsed": true
   },
   "outputs": [],
   "source": [
    "'''\n",
    "Adding Standard Rating to List  \n",
    "'''\n",
    "for year in yearList:\n",
    "    listStandardRating.append(calculateAvgMeanForEachYear(year))"
   ]
  },
  {
   "cell_type": "code",
   "execution_count": 465,
   "metadata": {
    "collapsed": true
   },
   "outputs": [],
   "source": [
    "'''\n",
    "Creating a dict for Mean Rating, Movie Count, Mean Box Office \n",
    "'''\n",
    "dictMeanByYear = {'1990': list1990[0], '1995': list1995[0], '2000': list2000[0], '2005': list2005[0],\\\n",
    "                  '2010': list2010[0], '2014': list2014[0]}\n",
    "dictMovieCountByYear = {'1990': list1990[1], '1995': list1995[1], '2000': list2000[1], '2005': list2005[1],\\\n",
    "                  '2010': list2010[1], '2014': list2014[1]}\n",
    "dictBoxOfficeByYear = {'1990': list1990[2], '1995': list1995[2], '2000': list2000[2], '2005': list2005[2],\\\n",
    "                  '2010': list2010[2], '2014': list2014[2]}"
   ]
  },
  {
   "cell_type": "code",
   "execution_count": 466,
   "metadata": {
    "collapsed": true
   },
   "outputs": [],
   "source": [
    "'''\n",
    "Dataframe for Mean Rating by Year \n",
    "'''\n",
    "dataframeMeanByYear = pd.DataFrame(dictMeanByYear, index=genreList)"
   ]
  },
  {
   "cell_type": "code",
   "execution_count": 467,
   "metadata": {},
   "outputs": [
    {
     "data": {
      "text/html": [
       "<div>\n",
       "<style>\n",
       "    .dataframe thead tr:only-child th {\n",
       "        text-align: right;\n",
       "    }\n",
       "\n",
       "    .dataframe thead th {\n",
       "        text-align: left;\n",
       "    }\n",
       "\n",
       "    .dataframe tbody tr th {\n",
       "        vertical-align: top;\n",
       "    }\n",
       "</style>\n",
       "<table border=\"1\" class=\"dataframe\">\n",
       "  <thead>\n",
       "    <tr style=\"text-align: right;\">\n",
       "      <th></th>\n",
       "      <th>1990</th>\n",
       "      <th>1995</th>\n",
       "      <th>2000</th>\n",
       "      <th>2005</th>\n",
       "      <th>2010</th>\n",
       "      <th>2014</th>\n",
       "    </tr>\n",
       "  </thead>\n",
       "  <tbody>\n",
       "    <tr>\n",
       "      <th>Action</th>\n",
       "      <td>5.82</td>\n",
       "      <td>5.67</td>\n",
       "      <td>5.62</td>\n",
       "      <td>5.56</td>\n",
       "      <td>5.98</td>\n",
       "      <td>6.07</td>\n",
       "    </tr>\n",
       "    <tr>\n",
       "      <th>Adventure</th>\n",
       "      <td>5.99</td>\n",
       "      <td>6.11</td>\n",
       "      <td>5.84</td>\n",
       "      <td>5.87</td>\n",
       "      <td>6.31</td>\n",
       "      <td>6.35</td>\n",
       "    </tr>\n",
       "    <tr>\n",
       "      <th>Animation</th>\n",
       "      <td>6.47</td>\n",
       "      <td>6.70</td>\n",
       "      <td>6.48</td>\n",
       "      <td>6.52</td>\n",
       "      <td>6.89</td>\n",
       "      <td>6.75</td>\n",
       "    </tr>\n",
       "  </tbody>\n",
       "</table>\n",
       "</div>"
      ],
      "text/plain": [
       "           1990  1995  2000  2005  2010  2014\n",
       "Action     5.82  5.67  5.62  5.56  5.98  6.07\n",
       "Adventure  5.99  6.11  5.84  5.87  6.31  6.35\n",
       "Animation  6.47  6.70  6.48  6.52  6.89  6.75"
      ]
     },
     "execution_count": 467,
     "metadata": {},
     "output_type": "execute_result"
    }
   ],
   "source": [
    "'''\n",
    "Snapshot of DataFrame for Mean Rating by Year\n",
    "'''\n",
    "dataframeMeanByYear.head(3)"
   ]
  },
  {
   "cell_type": "code",
   "execution_count": 468,
   "metadata": {
    "collapsed": true
   },
   "outputs": [],
   "source": [
    "'''\n",
    "Dataframe for Movie Count by year and genre\n",
    "'''\n",
    "dataframeMovieCountByYear = pd.DataFrame(dictMovieCountByYear, index=genreList)"
   ]
  },
  {
   "cell_type": "code",
   "execution_count": 469,
   "metadata": {},
   "outputs": [
    {
     "data": {
      "text/html": [
       "<div>\n",
       "<style>\n",
       "    .dataframe thead tr:only-child th {\n",
       "        text-align: right;\n",
       "    }\n",
       "\n",
       "    .dataframe thead th {\n",
       "        text-align: left;\n",
       "    }\n",
       "\n",
       "    .dataframe tbody tr th {\n",
       "        vertical-align: top;\n",
       "    }\n",
       "</style>\n",
       "<table border=\"1\" class=\"dataframe\">\n",
       "  <thead>\n",
       "    <tr style=\"text-align: right;\">\n",
       "      <th></th>\n",
       "      <th>1990</th>\n",
       "      <th>1995</th>\n",
       "      <th>2000</th>\n",
       "      <th>2005</th>\n",
       "      <th>2010</th>\n",
       "      <th>2014</th>\n",
       "    </tr>\n",
       "  </thead>\n",
       "  <tbody>\n",
       "    <tr>\n",
       "      <th>Action</th>\n",
       "      <td>54</td>\n",
       "      <td>65</td>\n",
       "      <td>57</td>\n",
       "      <td>67</td>\n",
       "      <td>77</td>\n",
       "      <td>77</td>\n",
       "    </tr>\n",
       "    <tr>\n",
       "      <th>Adventure</th>\n",
       "      <td>29</td>\n",
       "      <td>39</td>\n",
       "      <td>42</td>\n",
       "      <td>60</td>\n",
       "      <td>58</td>\n",
       "      <td>59</td>\n",
       "    </tr>\n",
       "    <tr>\n",
       "      <th>Animation</th>\n",
       "      <td>7</td>\n",
       "      <td>8</td>\n",
       "      <td>19</td>\n",
       "      <td>18</td>\n",
       "      <td>28</td>\n",
       "      <td>22</td>\n",
       "    </tr>\n",
       "  </tbody>\n",
       "</table>\n",
       "</div>"
      ],
      "text/plain": [
       "           1990  1995  2000  2005  2010  2014\n",
       "Action       54    65    57    67    77    77\n",
       "Adventure    29    39    42    60    58    59\n",
       "Animation     7     8    19    18    28    22"
      ]
     },
     "execution_count": 469,
     "metadata": {},
     "output_type": "execute_result"
    }
   ],
   "source": [
    "'''\n",
    "Snapshot of Dataframe for Movie Counr by year and genre\n",
    "'''\n",
    "dataframeMovieCountByYear.head(3)"
   ]
  },
  {
   "cell_type": "code",
   "execution_count": 470,
   "metadata": {
    "collapsed": true
   },
   "outputs": [],
   "source": [
    "'''\n",
    "Dataframe for Mean Box Office by Year\n",
    "'''\n",
    "dataframeBoxOfficeByYear = pd.DataFrame(dictBoxOfficeByYear, index=genreList)"
   ]
  },
  {
   "cell_type": "code",
   "execution_count": 471,
   "metadata": {},
   "outputs": [
    {
     "data": {
      "text/html": [
       "<div>\n",
       "<style>\n",
       "    .dataframe thead tr:only-child th {\n",
       "        text-align: right;\n",
       "    }\n",
       "\n",
       "    .dataframe thead th {\n",
       "        text-align: left;\n",
       "    }\n",
       "\n",
       "    .dataframe tbody tr th {\n",
       "        vertical-align: top;\n",
       "    }\n",
       "</style>\n",
       "<table border=\"1\" class=\"dataframe\">\n",
       "  <thead>\n",
       "    <tr style=\"text-align: right;\">\n",
       "      <th></th>\n",
       "      <th>1990</th>\n",
       "      <th>1995</th>\n",
       "      <th>2000</th>\n",
       "      <th>2005</th>\n",
       "      <th>2010</th>\n",
       "      <th>2014</th>\n",
       "    </tr>\n",
       "  </thead>\n",
       "  <tbody>\n",
       "    <tr>\n",
       "      <th>Action</th>\n",
       "      <td>36000229</td>\n",
       "      <td>37959481</td>\n",
       "      <td>57460535</td>\n",
       "      <td>47968347</td>\n",
       "      <td>73557596</td>\n",
       "      <td>101581247</td>\n",
       "    </tr>\n",
       "    <tr>\n",
       "      <th>Adventure</th>\n",
       "      <td>37304797</td>\n",
       "      <td>48388954</td>\n",
       "      <td>66035926</td>\n",
       "      <td>77790454</td>\n",
       "      <td>123040636</td>\n",
       "      <td>119569786</td>\n",
       "    </tr>\n",
       "    <tr>\n",
       "      <th>Animation</th>\n",
       "      <td>18982395</td>\n",
       "      <td>64009098</td>\n",
       "      <td>56509193</td>\n",
       "      <td>81838410</td>\n",
       "      <td>128231076</td>\n",
       "      <td>86721295</td>\n",
       "    </tr>\n",
       "  </tbody>\n",
       "</table>\n",
       "</div>"
      ],
      "text/plain": [
       "               1990      1995      2000      2005       2010       2014\n",
       "Action     36000229  37959481  57460535  47968347   73557596  101581247\n",
       "Adventure  37304797  48388954  66035926  77790454  123040636  119569786\n",
       "Animation  18982395  64009098  56509193  81838410  128231076   86721295"
      ]
     },
     "execution_count": 471,
     "metadata": {},
     "output_type": "execute_result"
    }
   ],
   "source": [
    "'''\n",
    "Snapshot of Dataframe for Mean box office by year and genre\n",
    "'''\n",
    "dataframeBoxOfficeByYear.head(3)"
   ]
  },
  {
   "cell_type": "code",
   "execution_count": 472,
   "metadata": {
    "collapsed": true
   },
   "outputs": [],
   "source": [
    "'''\n",
    "Initialzing figure\n",
    "'''\n",
    "figure = {\n",
    "    'data' : [],\n",
    "    'layout' : {},\n",
    "    'frames' : []\n",
    "}"
   ]
  },
  {
   "cell_type": "code",
   "execution_count": 473,
   "metadata": {
    "collapsed": true
   },
   "outputs": [],
   "source": [
    "'''\n",
    "Setting the title of xaxis\n",
    "'''\n",
    "figure['layout']['xaxis'] = {'title' : 'Box Office'}\n",
    "\n",
    "'''\n",
    "Setting the title of yaxis and fixing the range of values of yaxis\n",
    "'''\n",
    "figure['layout']['yaxis'] = {'title' : 'Rating', 'range' : [3,9]}\n",
    "\n",
    "'''\n",
    "Setting the title of plot\n",
    "'''\n",
    "figure['layout']['title'] = 'Movie Analysis'"
   ]
  },
  {
   "cell_type": "code",
   "execution_count": 474,
   "metadata": {
    "collapsed": true
   },
   "outputs": [],
   "source": [
    "'''\n",
    "Setting the Buttons Play and Pause\n",
    "'''\n",
    "figure['layout']['updatemenus'] = [\n",
    "    {\n",
    "        'type': 'buttons',\n",
    "        'buttons' : [{\n",
    "            'label' : 'Play',\n",
    "            'method' : 'animate',\n",
    "            'args' : [None, {'frame' : {'duration' : 500, 'redraw': False},'fromcurrent': True,\n",
    "                             'transistion' : {'duration': 300, 'easing': 'quadratic-in-out'}}]\n",
    "        },\n",
    "        {\n",
    "            'label' :'Pause',\n",
    "            'method' : 'animate',\n",
    "            'args' : [[None], {'frame' : {'duration' : 0, 'redraw' : False}, 'mode': 'immediate',\n",
    "                                'transistion': {'duration': 0}}]\n",
    "        }],\n",
    "        'direction' : 'left',\n",
    "        'pad': {'r': 10, 't': 87},\n",
    "        'showactive' : False,\n",
    "        'x': 0.1,\n",
    "        'y': 0,\n",
    "        'xanchor': 'right',\n",
    "        'yanchor': 'top'\n",
    "    }\n",
    "]"
   ]
  },
  {
   "cell_type": "code",
   "execution_count": 475,
   "metadata": {},
   "outputs": [],
   "source": [
    "'''\n",
    "Make data [To show intially when plot is openend]\n",
    "'''\n",
    "dataDict = {\n",
    "    \n",
    "     # Setting xaxis to mean box office of year 1990  \n",
    "    'x': dataframeBoxOfficeByYear['1990'].values,\n",
    "    \n",
    "    # Setting yaxis to mean rating of year 1990  \n",
    "    'y': dataframeMeanByYear['1990'].values,\n",
    "    'mode' : 'markers',\n",
    "   \n",
    "    # Setting what to display when hovered over the data point\n",
    "    'text' : 'Genre: ' + dataframeMeanByYear['1990'].index + '<br>Mean: ' + \\\n",
    "            dataframeMeanByYear['1990'].values.astype(str) + '<br>Movie Count: ' + \\\n",
    "            dataframeMovieCountByYear['1990'].values.astype(str) + '<br>Mean BoxOffice: ' +\\\n",
    "            \n",
    "            # Display Box Office in millions format \n",
    "            (dataframeBoxOfficeByYear['1990'].values/1000000).round(2).astype(str) + 'M',\n",
    "   \n",
    "    # Setting the hoverinfo as text\n",
    "    'hoverinfo' : 'text',\n",
    "    'marker' : {\n",
    "       \n",
    "        # Setting the diameter to Movie count of year 1990\n",
    "        'size' : dataframeMovieCountByYear['1990'].values\n",
    "    }\n",
    "}\n",
    "\n",
    "'''\n",
    "Appending the initial data to figure which will be used to plot\n",
    "'''\n",
    "figure['data'].append(dataDict)"
   ]
  },
  {
   "cell_type": "code",
   "execution_count": 476,
   "metadata": {
    "collapsed": true
   },
   "outputs": [],
   "source": [
    "'''\n",
    "Dict to show sliders\n",
    "'''\n",
    "sliders_dict = {\n",
    "    'active': 0,\n",
    "    'yanchor': 'top',\n",
    "    'xanchor': 'left',\n",
    "    'currentvalue': {\n",
    "        'font': {'size': 20},\n",
    "        # To show in plot Year: \n",
    "        'prefix': 'Year:',\n",
    "        'visible': True,\n",
    "        'xanchor': 'right'\n",
    "    },\n",
    "    'transition': {'duration': 300, 'easing': 'cubic-in-out'},\n",
    "    'pad': {'b': 10, 't': 50},\n",
    "    'len': 0.9,\n",
    "    'x': 0.1,\n",
    "    'y': 0,\n",
    "    # Dict of each year will be added later to list \n",
    "    'steps': []\n",
    "}"
   ]
  },
  {
   "cell_type": "code",
   "execution_count": 477,
   "metadata": {},
   "outputs": [],
   "source": [
    "'''\n",
    "Adding frames to figure. For each year a corresponding frame will be populated when slider moves from year to year \n",
    "'''\n",
    "for year in yearList: \n",
    "    # Creating a frame \n",
    "    frame = {'data' : [], 'name': year}\n",
    "    # Dict of data that will be added later to added to frame\n",
    "    dataDict = {\n",
    "            'x': dataframeBoxOfficeByYear[str(year)].values,\n",
    "            'y': dataframeMeanByYear[str(year)].values,\n",
    "            'mode' : 'markers',\n",
    "            'text' : 'Genre: ' + dataframeMeanByYear[str(year)].index + '<br>Mean: ' + \\\n",
    "            dataframeMeanByYear[str(year)].values.astype(str) + '<br>Movie Count: ' + \\\n",
    "            dataframeMovieCountByYear[str(year)].values.astype(str) + '<br>Mean BoxOffice: ' +\\\n",
    "            (dataframeBoxOfficeByYear[str(year)].values/1000000).round(2).astype(str) + 'M',\n",
    "            'hoverinfo' : 'text',\n",
    "            'marker' : {\n",
    "                'size' : dataframeMovieCountByYear[str(year)].values\n",
    "            }\n",
    "        }\n",
    "    # Adding data to frame\n",
    "    frame['data'].append(dataDict)\n",
    "    # Adding frame to figure \n",
    "    figure['frames'].append(frame)\n",
    "    # Dict of steps that will be later added to sliders_dict\n",
    "    sliderSteps = {\n",
    "        'args' : [[year], {'frame': {'duration' : 300, 'redraw': False}, 'mode': 'immediate',\n",
    "                          'transition': {'duration': 300}}],\n",
    "        'label' : year,\n",
    "        'method': 'animate'\n",
    "    }\n",
    "    # Appending dict sliderSteps to slider_dict \n",
    "    sliders_dict['steps'].append(sliderSteps)\n",
    "    \n",
    "    "
   ]
  },
  {
   "cell_type": "code",
   "execution_count": 478,
   "metadata": {
    "collapsed": true
   },
   "outputs": [],
   "source": [
    "'''\n",
    "Setting sliders with required data\n",
    "'''\n",
    "figure['layout']['sliders'] = [sliders_dict]"
   ]
  },
  {
   "cell_type": "code",
   "execution_count": 480,
   "metadata": {},
   "outputs": [
    {
     "data": {
      "text/plain": [
       "'file:///Users/shivakumarswamybg/Desktop/Project/temp-plot.html'"
      ]
     },
     "execution_count": 480,
     "metadata": {},
     "output_type": "execute_result"
    }
   ],
   "source": [
    "'''\n",
    "Plotting the dataset\n",
    "'''\n",
    "plot(figure)\n",
    "# iplot(figure)"
   ]
  },
  {
   "cell_type": "code",
   "execution_count": null,
   "metadata": {
    "collapsed": true
   },
   "outputs": [],
   "source": []
  }
 ],
 "metadata": {
  "kernelspec": {
   "display_name": "Python 3",
   "language": "python",
   "name": "python3"
  },
  "language_info": {
   "codemirror_mode": {
    "name": "ipython",
    "version": 3
   },
   "file_extension": ".py",
   "mimetype": "text/x-python",
   "name": "python",
   "nbconvert_exporter": "python",
   "pygments_lexer": "ipython3",
   "version": "3.6.1"
  }
 },
 "nbformat": 4,
 "nbformat_minor": 2
}
