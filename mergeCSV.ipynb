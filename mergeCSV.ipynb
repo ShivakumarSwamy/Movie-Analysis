{
 "cells": [
  {
   "cell_type": "markdown",
   "metadata": {},
   "source": [
    "<h1> <center> Merging CSV </center> </h1> "
   ]
  },
  {
   "cell_type": "code",
   "execution_count": 39,
   "metadata": {
    "collapsed": true
   },
   "outputs": [],
   "source": [
    "import pandas as pd"
   ]
  },
  {
   "cell_type": "markdown",
   "metadata": {},
   "source": [
    " ** Reading csv of 1000 entries **"
   ]
  },
  {
   "cell_type": "code",
   "execution_count": 40,
   "metadata": {},
   "outputs": [
    {
     "data": {
      "text/html": [
       "<div>\n",
       "<style>\n",
       "    .dataframe thead tr:only-child th {\n",
       "        text-align: right;\n",
       "    }\n",
       "\n",
       "    .dataframe thead th {\n",
       "        text-align: left;\n",
       "    }\n",
       "\n",
       "    .dataframe tbody tr th {\n",
       "        vertical-align: top;\n",
       "    }\n",
       "</style>\n",
       "<table border=\"1\" class=\"dataframe\">\n",
       "  <thead>\n",
       "    <tr style=\"text-align: right;\">\n",
       "      <th></th>\n",
       "      <th>IMDB ID</th>\n",
       "      <th>BOX OFFICE</th>\n",
       "    </tr>\n",
       "  </thead>\n",
       "  <tbody>\n",
       "    <tr>\n",
       "      <th>0</th>\n",
       "      <td>tt0114709</td>\n",
       "      <td>191796233.0</td>\n",
       "    </tr>\n",
       "    <tr>\n",
       "      <th>1</th>\n",
       "      <td>tt0113497</td>\n",
       "      <td>100200000.0</td>\n",
       "    </tr>\n",
       "    <tr>\n",
       "      <th>2</th>\n",
       "      <td>tt0113228</td>\n",
       "      <td>69870000.0</td>\n",
       "    </tr>\n",
       "  </tbody>\n",
       "</table>\n",
       "</div>"
      ],
      "text/plain": [
       "     IMDB ID   BOX OFFICE\n",
       "0  tt0114709  191796233.0\n",
       "1  tt0113497  100200000.0\n",
       "2  tt0113228   69870000.0"
      ]
     },
     "execution_count": 40,
     "metadata": {},
     "output_type": "execute_result"
    }
   ],
   "source": [
    "movie_1000 = pd.read_csv('movie_with_boxoffice_1000.csv')\n",
    "\n",
    "movie_1000.head(3)"
   ]
  },
  {
   "cell_type": "markdown",
   "metadata": {},
   "source": [
    "** Reading remaing entries **"
   ]
  },
  {
   "cell_type": "code",
   "execution_count": 41,
   "metadata": {
    "collapsed": true
   },
   "outputs": [],
   "source": [
    "movie_2000 = pd.read_csv('movie_with_boxoffice_2000.csv')\n",
    "\n",
    "movie_3000 = pd.read_csv('movie_with_boxoffice_3000.csv')\n",
    "\n",
    "movie_4000 = pd.read_csv('movie_with_boxoffice_4000.csv')\n",
    "\n",
    "movie_5000 = pd.read_csv('movie_with_boxoffice_5000.csv')\n",
    "\n",
    "movie_6000 = pd.read_csv('movie_with_boxoffice_6000.csv')\n",
    "\n",
    "movie_7000 = pd.read_csv('movie_with_boxoffice_7000.csv')\n",
    "\n",
    "movie_8000 = pd.read_csv('movie_with_boxoffice_8000.csv')\n",
    "\n",
    "movie_9000 = pd.read_csv('movie_with_boxoffice_9000.csv')\n",
    "\n",
    "movie_10060 = pd.read_csv('movie_with_boxoffice_10060.csv')\n"
   ]
  },
  {
   "cell_type": "markdown",
   "metadata": {},
   "source": [
    "** Dataframe with all entries **"
   ]
  },
  {
   "cell_type": "code",
   "execution_count": 42,
   "metadata": {
    "collapsed": true
   },
   "outputs": [],
   "source": [
    "boxoffice = movie_1000.append([movie_2000, movie_3000,movie_4000, movie_5000, movie_6000,\\\n",
    "                  movie_7000, movie_8000, movie_9000, movie_10060], ignore_index = True, verify_integrity = True)\n",
    "\n",
    "# boxoffice.to_csv('boxoffice.csv', index = False)"
   ]
  },
  {
   "cell_type": "markdown",
   "metadata": {},
   "source": [
    "**\n",
    "Reading dataset without boxoffice\n",
    "**"
   ]
  },
  {
   "cell_type": "code",
   "execution_count": 43,
   "metadata": {},
   "outputs": [
    {
     "data": {
      "text/html": [
       "<div>\n",
       "<style>\n",
       "    .dataframe thead tr:only-child th {\n",
       "        text-align: right;\n",
       "    }\n",
       "\n",
       "    .dataframe thead th {\n",
       "        text-align: left;\n",
       "    }\n",
       "\n",
       "    .dataframe tbody tr th {\n",
       "        vertical-align: top;\n",
       "    }\n",
       "</style>\n",
       "<table border=\"1\" class=\"dataframe\">\n",
       "  <thead>\n",
       "    <tr style=\"text-align: right;\">\n",
       "      <th></th>\n",
       "      <th>TMDB ID</th>\n",
       "      <th>IMDB ID</th>\n",
       "      <th>TITLE</th>\n",
       "      <th>YEAR</th>\n",
       "      <th>GENRE</th>\n",
       "      <th>RATING</th>\n",
       "      <th>RELEASED</th>\n",
       "      <th>ACTORS</th>\n",
       "      <th>AWARDS</th>\n",
       "      <th>COUNTRY</th>\n",
       "      <th>LANGUAGE</th>\n",
       "    </tr>\n",
       "  </thead>\n",
       "  <tbody>\n",
       "    <tr>\n",
       "      <th>0</th>\n",
       "      <td>862</td>\n",
       "      <td>tt0114709</td>\n",
       "      <td>Toy Story</td>\n",
       "      <td>1995</td>\n",
       "      <td>Animation, Adventure, Comedy</td>\n",
       "      <td>8.3</td>\n",
       "      <td>22 Nov 1995</td>\n",
       "      <td>Tom Hanks, Tim Allen, Don Rickles, Jim Varney</td>\n",
       "      <td>Nominated for 3 Oscars. Another 23 wins &amp; 18 n...</td>\n",
       "      <td>USA</td>\n",
       "      <td>English</td>\n",
       "    </tr>\n",
       "    <tr>\n",
       "      <th>1</th>\n",
       "      <td>8844</td>\n",
       "      <td>tt0113497</td>\n",
       "      <td>Jumanji</td>\n",
       "      <td>1995</td>\n",
       "      <td>Action, Adventure, Family</td>\n",
       "      <td>6.9</td>\n",
       "      <td>15 Dec 1995</td>\n",
       "      <td>Robin Williams, Jonathan Hyde, Kirsten Dunst, ...</td>\n",
       "      <td>4 wins &amp; 9 nominations.</td>\n",
       "      <td>USA</td>\n",
       "      <td>English, French</td>\n",
       "    </tr>\n",
       "    <tr>\n",
       "      <th>2</th>\n",
       "      <td>15602</td>\n",
       "      <td>tt0113228</td>\n",
       "      <td>Grumpier Old Men</td>\n",
       "      <td>1995</td>\n",
       "      <td>Comedy, Romance</td>\n",
       "      <td>6.6</td>\n",
       "      <td>22 Dec 1995</td>\n",
       "      <td>Walter Matthau, Jack Lemmon, Sophia Loren, Ann...</td>\n",
       "      <td>2 wins &amp; 2 nominations.</td>\n",
       "      <td>USA</td>\n",
       "      <td>English</td>\n",
       "    </tr>\n",
       "  </tbody>\n",
       "</table>\n",
       "</div>"
      ],
      "text/plain": [
       "   TMDB ID    IMDB ID             TITLE  YEAR                         GENRE  \\\n",
       "0      862  tt0114709         Toy Story  1995  Animation, Adventure, Comedy   \n",
       "1     8844  tt0113497           Jumanji  1995     Action, Adventure, Family   \n",
       "2    15602  tt0113228  Grumpier Old Men  1995               Comedy, Romance   \n",
       "\n",
       "   RATING     RELEASED                                             ACTORS  \\\n",
       "0     8.3  22 Nov 1995      Tom Hanks, Tim Allen, Don Rickles, Jim Varney   \n",
       "1     6.9  15 Dec 1995  Robin Williams, Jonathan Hyde, Kirsten Dunst, ...   \n",
       "2     6.6  22 Dec 1995  Walter Matthau, Jack Lemmon, Sophia Loren, Ann...   \n",
       "\n",
       "                                              AWARDS COUNTRY         LANGUAGE  \n",
       "0  Nominated for 3 Oscars. Another 23 wins & 18 n...     USA          English  \n",
       "1                            4 wins & 9 nominations.     USA  English, French  \n",
       "2                            2 wins & 2 nominations.     USA          English  "
      ]
     },
     "execution_count": 43,
     "metadata": {},
     "output_type": "execute_result"
    }
   ],
   "source": [
    "datasetWithoutBoxoffice = pd.read_csv('datasetWithoutBoxoffice.csv')\n",
    "\n",
    "datasetWithoutBoxoffice.head(3)"
   ]
  },
  {
   "cell_type": "markdown",
   "metadata": {},
   "source": [
    "**\n",
    "Merging using IMDB ID as key \n",
    "**"
   ]
  },
  {
   "cell_type": "code",
   "execution_count": 44,
   "metadata": {},
   "outputs": [
    {
     "data": {
      "text/html": [
       "<div>\n",
       "<style>\n",
       "    .dataframe thead tr:only-child th {\n",
       "        text-align: right;\n",
       "    }\n",
       "\n",
       "    .dataframe thead th {\n",
       "        text-align: left;\n",
       "    }\n",
       "\n",
       "    .dataframe tbody tr th {\n",
       "        vertical-align: top;\n",
       "    }\n",
       "</style>\n",
       "<table border=\"1\" class=\"dataframe\">\n",
       "  <thead>\n",
       "    <tr style=\"text-align: right;\">\n",
       "      <th></th>\n",
       "      <th>TMDB ID</th>\n",
       "      <th>IMDB ID</th>\n",
       "      <th>TITLE</th>\n",
       "      <th>YEAR</th>\n",
       "      <th>GENRE</th>\n",
       "      <th>RATING</th>\n",
       "      <th>RELEASED</th>\n",
       "      <th>ACTORS</th>\n",
       "      <th>AWARDS</th>\n",
       "      <th>COUNTRY</th>\n",
       "      <th>LANGUAGE</th>\n",
       "      <th>BOX OFFICE</th>\n",
       "    </tr>\n",
       "  </thead>\n",
       "  <tbody>\n",
       "    <tr>\n",
       "      <th>0</th>\n",
       "      <td>862</td>\n",
       "      <td>tt0114709</td>\n",
       "      <td>Toy Story</td>\n",
       "      <td>1995</td>\n",
       "      <td>Animation, Adventure, Comedy</td>\n",
       "      <td>8.3</td>\n",
       "      <td>22 Nov 1995</td>\n",
       "      <td>Tom Hanks, Tim Allen, Don Rickles, Jim Varney</td>\n",
       "      <td>Nominated for 3 Oscars. Another 23 wins &amp; 18 n...</td>\n",
       "      <td>USA</td>\n",
       "      <td>English</td>\n",
       "      <td>191796233.0</td>\n",
       "    </tr>\n",
       "    <tr>\n",
       "      <th>1</th>\n",
       "      <td>8844</td>\n",
       "      <td>tt0113497</td>\n",
       "      <td>Jumanji</td>\n",
       "      <td>1995</td>\n",
       "      <td>Action, Adventure, Family</td>\n",
       "      <td>6.9</td>\n",
       "      <td>15 Dec 1995</td>\n",
       "      <td>Robin Williams, Jonathan Hyde, Kirsten Dunst, ...</td>\n",
       "      <td>4 wins &amp; 9 nominations.</td>\n",
       "      <td>USA</td>\n",
       "      <td>English, French</td>\n",
       "      <td>100200000.0</td>\n",
       "    </tr>\n",
       "    <tr>\n",
       "      <th>2</th>\n",
       "      <td>15602</td>\n",
       "      <td>tt0113228</td>\n",
       "      <td>Grumpier Old Men</td>\n",
       "      <td>1995</td>\n",
       "      <td>Comedy, Romance</td>\n",
       "      <td>6.6</td>\n",
       "      <td>22 Dec 1995</td>\n",
       "      <td>Walter Matthau, Jack Lemmon, Sophia Loren, Ann...</td>\n",
       "      <td>2 wins &amp; 2 nominations.</td>\n",
       "      <td>USA</td>\n",
       "      <td>English</td>\n",
       "      <td>69870000.0</td>\n",
       "    </tr>\n",
       "  </tbody>\n",
       "</table>\n",
       "</div>"
      ],
      "text/plain": [
       "   TMDB ID    IMDB ID             TITLE  YEAR                         GENRE  \\\n",
       "0      862  tt0114709         Toy Story  1995  Animation, Adventure, Comedy   \n",
       "1     8844  tt0113497           Jumanji  1995     Action, Adventure, Family   \n",
       "2    15602  tt0113228  Grumpier Old Men  1995               Comedy, Romance   \n",
       "\n",
       "   RATING     RELEASED                                             ACTORS  \\\n",
       "0     8.3  22 Nov 1995      Tom Hanks, Tim Allen, Don Rickles, Jim Varney   \n",
       "1     6.9  15 Dec 1995  Robin Williams, Jonathan Hyde, Kirsten Dunst, ...   \n",
       "2     6.6  22 Dec 1995  Walter Matthau, Jack Lemmon, Sophia Loren, Ann...   \n",
       "\n",
       "                                              AWARDS COUNTRY         LANGUAGE  \\\n",
       "0  Nominated for 3 Oscars. Another 23 wins & 18 n...     USA          English   \n",
       "1                            4 wins & 9 nominations.     USA  English, French   \n",
       "2                            2 wins & 2 nominations.     USA          English   \n",
       "\n",
       "    BOX OFFICE  \n",
       "0  191796233.0  \n",
       "1  100200000.0  \n",
       "2   69870000.0  "
      ]
     },
     "execution_count": 44,
     "metadata": {},
     "output_type": "execute_result"
    }
   ],
   "source": [
    "result = datasetWithoutBoxoffice.merge(boxoffice, left_on='IMDB ID', right_on='IMDB ID', how = 'inner' )\n",
    "\n",
    "result.head(3)"
   ]
  },
  {
   "cell_type": "markdown",
   "metadata": {},
   "source": [
    "**\n",
    "Converting Dataframe to csv\n",
    "**"
   ]
  },
  {
   "cell_type": "code",
   "execution_count": 45,
   "metadata": {
    "collapsed": true
   },
   "outputs": [],
   "source": [
    "result.to_csv('datasetWithBoxoffice.csv',index = False)"
   ]
  },
  {
   "cell_type": "code",
   "execution_count": null,
   "metadata": {
    "collapsed": true
   },
   "outputs": [],
   "source": []
  }
 ],
 "metadata": {
  "kernelspec": {
   "display_name": "Python 3",
   "language": "python",
   "name": "python3"
  },
  "language_info": {
   "codemirror_mode": {
    "name": "ipython",
    "version": 3
   },
   "file_extension": ".py",
   "mimetype": "text/x-python",
   "name": "python",
   "nbconvert_exporter": "python",
   "pygments_lexer": "ipython3",
   "version": "3.6.1"
  }
 },
 "nbformat": 4,
 "nbformat_minor": 2
}
