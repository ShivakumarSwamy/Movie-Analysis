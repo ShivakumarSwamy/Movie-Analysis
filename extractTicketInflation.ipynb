{
 "cells": [
  {
   "cell_type": "code",
   "execution_count": 1,
   "metadata": {
    "collapsed": true
   },
   "outputs": [],
   "source": [
    "import requests\n",
    "from bs4 import BeautifulSoup\n",
    "import csv"
   ]
  },
  {
   "cell_type": "code",
   "execution_count": 2,
   "metadata": {
    "collapsed": true
   },
   "outputs": [],
   "source": [
    "# URL of BOX OFFICE MOJO which contains ticket inflation price\n",
    "url = 'http://www.boxofficemojo.com/about/adjuster.htm'"
   ]
  },
  {
   "cell_type": "code",
   "execution_count": 3,
   "metadata": {
    "collapsed": true
   },
   "outputs": [],
   "source": [
    "# Request URL\n",
    "try:\n",
    "    requestUrlText = requests.get(url).text\n",
    "except requests.exceptions.RequestException:\n",
    "    print ('URL Error!!!')"
   ]
  },
  {
   "cell_type": "code",
   "execution_count": 4,
   "metadata": {
    "collapsed": true
   },
   "outputs": [],
   "source": [
    "# Parse using BeautifulSoup\n",
    "soup = BeautifulSoup(requestUrlText, 'lxml')"
   ]
  },
  {
   "cell_type": "code",
   "execution_count": 5,
   "metadata": {
    "collapsed": true
   },
   "outputs": [],
   "source": [
    "# Create a list with index 0 for YEAR and index 1 for AVG. PRICE\n",
    "inflationTicketTableList = [[],[]]"
   ]
  },
  {
   "cell_type": "code",
   "execution_count": 6,
   "metadata": {
    "collapsed": true
   },
   "outputs": [],
   "source": [
    "# Fetch the table \n",
    "for i in soup.find(justify='right').find_all('td')[2:]:\n",
    "    if '$' in i.text:\n",
    "        inflationTicketTableList[1].append(i.text.split('$')[1])\n",
    "    else :\n",
    "        inflationTicketTableList[0].append(i.text)"
   ]
  },
  {
   "cell_type": "code",
   "execution_count": 8,
   "metadata": {},
   "outputs": [],
   "source": [
    "# Create a CSV file\n",
    "with open('ticketPriceInflation.csv','w') as csvfile:\n",
    "    fieldnames = ['YEAR','AVG. PRICE']\n",
    "    writer = csv.DictWriter(csvfile, fieldnames=fieldnames)\n",
    "    writer.writeheader()\n",
    "    for i in range(len(inflationTicketTableList[0])):\n",
    "        writer.writerow({'YEAR':inflationTicketTableList[0][i], 'AVG. PRICE':inflationTicketTableList[1][i]})"
   ]
  },
  {
   "cell_type": "code",
   "execution_count": null,
   "metadata": {
    "collapsed": true
   },
   "outputs": [],
   "source": []
  }
 ],
 "metadata": {
  "kernelspec": {
   "display_name": "Python 3",
   "language": "python",
   "name": "python3"
  },
  "language_info": {
   "codemirror_mode": {
    "name": "ipython",
    "version": 3
   },
   "file_extension": ".py",
   "mimetype": "text/x-python",
   "name": "python",
   "nbconvert_exporter": "python",
   "pygments_lexer": "ipython3",
   "version": "3.6.1"
  }
 },
 "nbformat": 4,
 "nbformat_minor": 2
}
